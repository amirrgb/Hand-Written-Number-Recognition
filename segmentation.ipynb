{
 "cells": [
  {
   "cell_type": "markdown",
   "metadata": {},
   "source": [
    "Hi again \n",
    "\n",
    "I know What to do now \n",
    "\n",
    "first let's Extract data and Store it in dataframe with label and images path"
   ]
  },
  {
   "cell_type": "code",
   "execution_count": 1,
   "metadata": {},
   "outputs": [],
   "source": [
    "import random\n",
    "import pandas as pd\n",
    "import numpy as np\n",
    "import tensorflow as tf\n",
    "from tensorflow import keras\n",
    "import cv2\n",
    "import matplotlib.pyplot as plt\n",
    "import matplotlib.image as mpimg\n",
    "from PIL import Image\n",
    "from IPython.display import clear_output\n",
    "import time\n",
    "import os\n",
    "from skimage.filters import threshold_local\n",
    "from skimage.morphology import skeletonize\n"
   ]
  },
  {
   "cell_type": "code",
   "execution_count": 2,
   "metadata": {},
   "outputs": [
    {
     "name": "stdout",
     "output_type": "stream",
     "text": [
      "11719\n",
      "11719\n"
     ]
    }
   ],
   "source": [
    "dir_path = \"./ORAND-CAR-2014/\"\n",
    "CAR_A_test_images_path = dir_path + 'CAR-A/a_test_images/'\n",
    "CAR_A_train_images_path = dir_path + 'CAR-A/a_train_images/'\n",
    "CAR_B_test_images_path = dir_path + 'CAR-B/b_test_images/'\n",
    "CAR_B_train_images_path = dir_path + 'CAR-B/b_train_images/'\n",
    "\n",
    "def load_original_images():\n",
    "    images_path = []\n",
    "    for root, dirs, files in os.walk(dir_path):\n",
    "        for file in files:\n",
    "            if file.endswith('.png'):\n",
    "                image_path = os.path.join(root, file)\n",
    "                images_path.append(image_path.replace('\\\\','/'))\n",
    "    return images_path\n",
    "    \n",
    "images_path = load_original_images()\n",
    "\n",
    "def calculate_digit_count(label):\n",
    "    return len(label)\n",
    "\n",
    "def get_labels(image_dir,text_path):\n",
    "  with open(text_path,'r') as f :\n",
    "    lines = f.readlines()\n",
    "  listt = []\n",
    "  for line in lines :\n",
    "    parts = line.strip().split(\"\\t\")\n",
    "    listt.append([image_dir + parts[0],parts[1]])\n",
    "  DF = pd.DataFrame(listt)\n",
    "  DF = DF.rename(columns={0: 'image_path', 1: 'label'})\n",
    "  return DF\n",
    "\n",
    "def get_all_labels():\n",
    "  CAR_A_test_text = dir_path + 'CAR-A/a_test_gt.txt'\n",
    "  CAR_A_train_text = dir_path + 'CAR-A/a_train_gt.txt'\n",
    "  CAR_B_test_text = dir_path + 'CAR-B/b_test_gt.txt'\n",
    "  CAR_B_train_text = dir_path + 'CAR-B/b_train_gt.txt'\n",
    "  a_test_label_df = get_labels(CAR_A_test_images_path,CAR_A_test_text)\n",
    "  a_train_label_df = get_labels(CAR_A_train_images_path,CAR_A_train_text)\n",
    "  b_test_label_df = get_labels(CAR_B_test_images_path,CAR_B_test_text)\n",
    "  b_train_label_df = get_labels(CAR_B_train_images_path,CAR_B_train_text)\n",
    "  all_labels = pd.concat([a_test_label_df , a_train_label_df , b_test_label_df , b_train_label_df],ignore_index=True)#.reset_index()\n",
    "  return all_labels\n",
    "\n",
    "def reset_data():\n",
    "  all_labels = get_all_labels()\n",
    "  print(len(all_labels))\n",
    "  print(len(all_labels['image_path'].unique())) # no dupicate image name\n",
    "  all_labels[\"actual_digit_count\"] = all_labels[\"label\"].astype(str).apply(calculate_digit_count)\n",
    "  return all_labels\n",
    "\n",
    "all_labels = reset_data()"
   ]
  },
  {
   "cell_type": "code",
   "execution_count": 3,
   "metadata": {},
   "outputs": [],
   "source": [
    "def get_size_dataFrame(all_labels):\n",
    "  height_list = []\n",
    "  width_list = []\n",
    "  for image_path in all_labels['image_path']:\n",
    "    height = Image.open(image_path).height\n",
    "    width = Image.open(image_path).width\n",
    "    \n",
    "    height_list.append(height)\n",
    "    width_list.append(width)\n",
    "\n",
    "  sizes_df = pd.DataFrame({'width':width_list,'height':height_list})\n",
    "  return sizes_df"
   ]
  },
  {
   "cell_type": "markdown",
   "metadata": {},
   "source": [
    "### let's go for segmentation"
   ]
  },
  {
   "cell_type": "code",
   "execution_count": 4,
   "metadata": {},
   "outputs": [],
   "source": [
    "def plot_random_image(image_label_df,from_path):\n",
    "    random.seed(42)\n",
    "    indices = list(range(len(image_label_df)))\n",
    "    random.shuffle(indices)\n",
    "\n",
    "    for idx in indices[:10]+[21,22]:\n",
    "        target_image = image_label_df[from_path][idx]\n",
    "        print(\"label:\", image_label_df['label'][idx])\n",
    "        print(\"target:\", target_image)\n",
    "        image = mpimg.imread(target_image)\n",
    "        plt.imshow(image)\n",
    "        plt.show()\n",
    "        time.sleep(2)\n",
    "        clear_output(wait=True)"
   ]
  },
  {
   "cell_type": "markdown",
   "metadata": {},
   "source": [
    "### first converting to grayscale"
   ]
  },
  {
   "cell_type": "code",
   "execution_count": 5,
   "metadata": {},
   "outputs": [],
   "source": [
    "def convert_to_grayscale(df, from_path,new_dir_path):\n",
    "    try:\n",
    "        os.makedirs(new_dir_path)\n",
    "    except:\n",
    "        pass\n",
    "\n",
    "    for i, img_path in enumerate(df[from_path]):\n",
    "        # Read the image in color (BGR format)\n",
    "        img = cv2.imread(img_path)\n",
    "\n",
    "        # Convert the image to grayscale\n",
    "        gray_img = cv2.cvtColor(img, cv2.COLOR_BGR2GRAY)\n",
    "\n",
    "        # Save the grayscale image\n",
    "        save_path = os.path.join(new_dir_path, f\"{i:05d}.png\")\n",
    "        cv2.imwrite(save_path, gray_img)\n",
    "\n",
    "    # Update the image paths in the DataFrame with the new grayscale image paths\n",
    "    df[new_dir_path] = [os.path.join(new_dir_path, f\"{i:05d}.png\") for i in range(len(df))]\n",
    "\n",
    "    return df"
   ]
  },
  {
   "cell_type": "markdown",
   "metadata": {},
   "source": [
    "### now denoising with GaussianBlur"
   ]
  },
  {
   "cell_type": "code",
   "execution_count": 6,
   "metadata": {},
   "outputs": [],
   "source": [
    "def denoise_images(df, from_path, new_dir_path):\n",
    "    try:\n",
    "        os.makedirs(new_dir_path)\n",
    "    except:\n",
    "        pass\n",
    "\n",
    "    for i, img_path in enumerate(df[from_path]):\n",
    "        # Read the image in grayscale\n",
    "        gray_img = cv2.imread(img_path, cv2.IMREAD_GRAYSCALE)\n",
    "\n",
    "        # Apply Gaussian blur to denoise the image\n",
    "        denoised_image = cv2.GaussianBlur(gray_img, (5, 5), 0)\n",
    "\n",
    "        # Save the denoised image\n",
    "        save_path = os.path.join(new_dir_path, f\"{i:05d}.png\")\n",
    "        cv2.imwrite(save_path, denoised_image)\n",
    "\n",
    "    # Update the image paths in the DataFrame with the new denoised image paths\n",
    "    df[new_dir_path] = [os.path.join(new_dir_path, f\"{i:05d}.png\") for i in range(len(df))]\n",
    "\n",
    "    return df"
   ]
  },
  {
   "cell_type": "markdown",
   "metadata": {},
   "source": [
    "### another denoise with cv2.fastNlMeansDenoising"
   ]
  },
  {
   "cell_type": "code",
   "execution_count": 7,
   "metadata": {},
   "outputs": [],
   "source": [
    "def denoise_images_fastnlmeans(df, from_path, new_dir_path):\n",
    "    try:\n",
    "        os.makedirs(new_dir_path)\n",
    "    except:\n",
    "        pass\n",
    "\n",
    "    for i, img_path in enumerate(df[from_path]):\n",
    "        # Read the grayscale image\n",
    "        gray_img = cv2.imread(img_path, cv2.IMREAD_GRAYSCALE)\n",
    "\n",
    "        # Denoise the grayscale image using fastNlMeansDenoising\n",
    "        # Adjust the h, templateWindowSize, and searchWindowSize parameters for better denoising\n",
    "        denoised_img = cv2.fastNlMeansDenoising(gray_img, None, h=10, templateWindowSize=7, searchWindowSize=21)\n",
    "\n",
    "        # Save the denoised image\n",
    "        save_path = os.path.join(new_dir_path, f\"{i:05d}.png\")\n",
    "        cv2.imwrite(save_path, denoised_img)\n",
    "\n",
    "    # Update the image paths in the DataFrame with the new denoised image paths\n",
    "    df[new_dir_path] = [os.path.join(new_dir_path, f\"{i:05d}.png\") for i in range(len(df))]\n",
    "\n",
    "    return df"
   ]
  },
  {
   "cell_type": "markdown",
   "metadata": {},
   "source": [
    "### binarizing with local thresholding"
   ]
  },
  {
   "cell_type": "code",
   "execution_count": 8,
   "metadata": {},
   "outputs": [],
   "source": [
    "def local_threshold_images(df, from_path, new_dir_path, block_size, offset):\n",
    "    try:\n",
    "        os.makedirs(new_dir_path)\n",
    "    except:\n",
    "        pass\n",
    "    for i, img_path in enumerate(df[from_path]):\n",
    "        # Read the image in grayscale\n",
    "        gray_img = cv2.imread(img_path, cv2.IMREAD_GRAYSCALE)\n",
    "\n",
    "        # Perform local thresholding using the threshold_local method from skimage\n",
    "        binary_img = threshold_local(gray_img, block_size, offset=offset, method='gaussian', mode='reflect', cval=0)\n",
    "\n",
    "        # Convert the binary image to uint8 format (0 or 255)\n",
    "        binary_img = (binary_img * 255).astype(np.uint8)\n",
    "\n",
    "        # Save the binary image\n",
    "        save_path = os.path.join(new_dir_path, f\"{i:05d}.png\")\n",
    "        cv2.imwrite(save_path, binary_img)\n",
    "\n",
    "    # Update the image paths in the DataFrame with the new binary image paths\n",
    "    df[new_dir_path] = [os.path.join(new_dir_path, f\"{i:05d}.png\") for i in range(len(df))]\n",
    "\n",
    "    return df\n"
   ]
  },
  {
   "cell_type": "markdown",
   "metadata": {},
   "source": [
    "### now binarizing images"
   ]
  },
  {
   "cell_type": "code",
   "execution_count": 9,
   "metadata": {},
   "outputs": [],
   "source": [
    "def binarize_images(df, from_path, new_dir_path):\n",
    "    try:\n",
    "        os.makedirs(new_dir_path)\n",
    "    except:\n",
    "        pass\n",
    "\n",
    "    for i, img_path in enumerate(df[from_path]):\n",
    "        # Read the image in grayscale\n",
    "        im = Image.open(img_path)\n",
    "        im = np.array(im)\n",
    "\n",
    "        # Apply binary thresholding using Otsu's method\n",
    "        _, binary_im = cv2.threshold(im, 0, 255, cv2.THRESH_BINARY + cv2.THRESH_OTSU)\n",
    "\n",
    "        # Convert the binary image to PIL Image\n",
    "        binary_im = Image.fromarray(binary_im)\n",
    "\n",
    "        # Save the binary image\n",
    "        save_path = os.path.join(new_dir_path, f\"{i:05d}.png\")\n",
    "        binary_im.save(save_path)\n",
    "\n",
    "    # Update the image paths in the DataFrame with the new binary image paths\n",
    "    df[new_dir_path] = [os.path.join(new_dir_path, f\"{i:05d}.png\") for i in range(len(df))]\n",
    "\n",
    "    return df"
   ]
  },
  {
   "cell_type": "markdown",
   "metadata": {},
   "source": [
    "### inverting images"
   ]
  },
  {
   "cell_type": "code",
   "execution_count": 10,
   "metadata": {},
   "outputs": [],
   "source": [
    "def invert_images(df, from_path, new_dir_path):\n",
    "    try:\n",
    "        os.makedirs(new_dir_path)\n",
    "    except:\n",
    "        pass\n",
    "    for i, img_path in enumerate(df[from_path]):\n",
    "        # Read the binarized image\n",
    "        bin_img = cv2.imread(img_path, cv2.IMREAD_GRAYSCALE)\n",
    "        \n",
    "        # Invert the image color using bitwise NOT operation\n",
    "        inverted_img = cv2.bitwise_not(bin_img)\n",
    "        \n",
    "        # Save the inverted image\n",
    "        save_path = os.path.join(new_dir_path, f\"{i:05d}.png\")\n",
    "        cv2.imwrite(save_path, inverted_img)\n",
    "    \n",
    "    # Update the image paths in the DataFrame with the new inverted image paths\n",
    "    df[new_dir_path] = [os.path.join(new_dir_path, f\"{i:05d}.png\") for i in range(len(df))]\n",
    "    return df"
   ]
  },
  {
   "cell_type": "markdown",
   "metadata": {},
   "source": [
    "### dilateing images"
   ]
  },
  {
   "cell_type": "code",
   "execution_count": 11,
   "metadata": {},
   "outputs": [],
   "source": [
    "def dilate_images(df, from_path, new_dir_path):\n",
    "    try:\n",
    "        os.makedirs(new_dir_path)\n",
    "    except:\n",
    "        pass\n",
    "    for i, img_path in enumerate(df[from_path]):\n",
    "        # Read the inverted image\n",
    "        inverted_img = cv2.imread(img_path, cv2.IMREAD_GRAYSCALE)\n",
    "        \n",
    "        # Define the kernel for dilation (a 3x3 kernel in this case)\n",
    "        kernel = cv2.getStructuringElement(cv2.MORPH_RECT, (3, 3))\n",
    "        \n",
    "        # Dilate the image to increase the thickness of each digit\n",
    "        dilated_img = cv2.dilate(inverted_img, kernel, iterations=1)\n",
    "        \n",
    "        # Save the dilated image\n",
    "        save_path = os.path.join(new_dir_path, f\"{i:05d}.png\")\n",
    "        cv2.imwrite(save_path, dilated_img)\n",
    "    \n",
    "    # Update the image paths in the DataFrame with the new dilated image paths\n",
    "    df[new_dir_path] = [os.path.join(new_dir_path, f\"{i:05d}.png\") for i in range(len(df))]\n",
    "    return df\n"
   ]
  },
  {
   "cell_type": "markdown",
   "metadata": {},
   "source": [
    "### eroding images"
   ]
  },
  {
   "cell_type": "code",
   "execution_count": 12,
   "metadata": {},
   "outputs": [],
   "source": [
    "def erode_images(df, from_path, new_dir_path):\n",
    "    try:\n",
    "        os.makedirs(new_dir_path)\n",
    "    except:\n",
    "        pass\n",
    "    for i, img_path in enumerate(df[from_path]):\n",
    "        # Read the inverted image\n",
    "        inverted_img = cv2.imread(img_path, cv2.IMREAD_GRAYSCALE)\n",
    "        \n",
    "        # Define the kernel for erosion (a 3x3 kernel in this case)\n",
    "        kernel = cv2.getStructuringElement(cv2.MORPH_RECT, (3, 3))\n",
    "        \n",
    "        # Erode the image to reduce the thickness of each digit\n",
    "        eroded_img = cv2.erode(inverted_img, kernel, iterations=1)\n",
    "        \n",
    "        # Save the eroded image\n",
    "        save_path = os.path.join(new_dir_path, f\"{i:05d}.png\")\n",
    "        cv2.imwrite(save_path, eroded_img)\n",
    "    \n",
    "    # Update the image paths in the DataFrame with the new eroded image paths\n",
    "    df[new_dir_path] = [os.path.join(new_dir_path, f\"{i:05d}.png\") for i in range(len(df))]\n",
    "    return df\n"
   ]
  },
  {
   "cell_type": "markdown",
   "metadata": {},
   "source": [
    "### thinning using skeletonize"
   ]
  },
  {
   "cell_type": "code",
   "execution_count": 13,
   "metadata": {},
   "outputs": [],
   "source": [
    "def thin_images(df, from_path, new_dir_path):\n",
    "    try:\n",
    "        os.makedirs(new_dir_path)\n",
    "    except:\n",
    "        pass\n",
    "    for i, img_path in enumerate(df[from_path]):\n",
    "        # Read the inverted image\n",
    "        inverted_img = cv2.imread(img_path, cv2.IMREAD_GRAYSCALE)\n",
    "        \n",
    "        # Binarize the image (needed for skeletonization)\n",
    "        _, binary_img = cv2.threshold(inverted_img, 128, 255, cv2.THRESH_BINARY)\n",
    "        \n",
    "        # Perform skeletonization\n",
    "        skeleton = skeletonize(binary_img / 255)\n",
    "        \n",
    "        # Convert the skeleton back to uint8 format\n",
    "        thin_img = (skeleton * 255).astype(np.uint8)\n",
    "        \n",
    "        # Save the thinned image\n",
    "        save_path = os.path.join(new_dir_path, f\"{i:05d}.png\")\n",
    "        cv2.imwrite(save_path, thin_img)\n",
    "    \n",
    "    # Update the image paths in the DataFrame with the new thinned image paths\n",
    "    df[new_dir_path] = [os.path.join(new_dir_path, f\"{i:05d}.png\") for i in range(len(df))]\n",
    "    return df\n"
   ]
  },
  {
   "cell_type": "markdown",
   "metadata": {},
   "source": [
    "### contour-based thinning"
   ]
  },
  {
   "cell_type": "code",
   "execution_count": 14,
   "metadata": {},
   "outputs": [],
   "source": [
    "def thin_images(df, from_path, new_dir_path):\n",
    "    try:\n",
    "        os.makedirs(new_dir_path)\n",
    "    except:\n",
    "        pass\n",
    "    for i, img_path in enumerate(df[from_path]):\n",
    "        # Read the inverted image\n",
    "        inverted_img = cv2.imread(img_path, cv2.IMREAD_GRAYSCALE)\n",
    "        \n",
    "        # Binarize the image\n",
    "        _, binary_img = cv2.threshold(inverted_img, 128, 255, cv2.THRESH_BINARY)\n",
    "        \n",
    "        # Find contours in the binary image\n",
    "        contours, _ = cv2.findContours(binary_img, cv2.RETR_EXTERNAL, cv2.CHAIN_APPROX_NONE)\n",
    "        \n",
    "        # Iterate through each contour and thin it\n",
    "        for contour in contours:\n",
    "            # Create a blank image to draw the contour\n",
    "            contour_img = np.zeros_like(binary_img)\n",
    "            cv2.drawContours(contour_img, [contour], -1, 255, thickness=cv2.FILLED)\n",
    "            \n",
    "            # Perform XOR operation to thin the contour\n",
    "            binary_img = cv2.bitwise_xor(binary_img, contour_img)\n",
    "        \n",
    "        # Save the thinned image\n",
    "        save_path = os.path.join(new_dir_path, f\"{i:05d}.png\")\n",
    "        cv2.imwrite(save_path, binary_img)\n",
    "    \n",
    "    # Update the image paths in the DataFrame with the new thinned image paths\n",
    "    df[new_dir_path] = [os.path.join(new_dir_path, f\"{i:05d}.png\") for i in range(len(df))]\n",
    "    return df\n"
   ]
  },
  {
   "cell_type": "markdown",
   "metadata": {},
   "source": [
    "### edge detection with canny"
   ]
  },
  {
   "cell_type": "code",
   "execution_count": 15,
   "metadata": {},
   "outputs": [],
   "source": [
    "def detect_edges_canny(df, from_path, new_dir_path, low_threshold, high_threshold):\n",
    "    try:\n",
    "        os.makedirs(new_dir_path)\n",
    "    except:\n",
    "        pass\n",
    "    for i, img_path in enumerate(df[from_path]):\n",
    "        # Read the image in grayscale\n",
    "        gray_img = cv2.imread(img_path, cv2.IMREAD_GRAYSCALE)\n",
    "        \n",
    "        # Apply Canny edge detection\n",
    "        edges = cv2.Canny(gray_img, low_threshold, high_threshold)\n",
    "        \n",
    "        # Save the edges image\n",
    "        save_path = os.path.join(new_dir_path, f\"{i:05d}.png\")\n",
    "        cv2.imwrite(save_path, edges)\n",
    "    \n",
    "    # Update the image paths in the DataFrame with the new edges image paths\n",
    "    df[new_dir_path] = [os.path.join(new_dir_path, f\"{i:05d}.png\") for i in range(len(df))]\n",
    "    return df\n"
   ]
  },
  {
   "cell_type": "markdown",
   "metadata": {},
   "source": [
    "### using MSER"
   ]
  },
  {
   "cell_type": "code",
   "execution_count": 16,
   "metadata": {},
   "outputs": [],
   "source": [
    "def detect_digits_mser(df, from_path, new_dir_path, min_area=100, max_area=2000, max_variation=0.25, min_diversity=0.2):\n",
    "    try:\n",
    "        os.makedirs(new_dir_path)\n",
    "    except:\n",
    "        pass\n",
    "    \n",
    "    digits_counts = []\n",
    "    for i, img_path in enumerate(df[from_path]):\n",
    "        # Read the image in grayscale\n",
    "        gray_img = cv2.imread(img_path, cv2.IMREAD_GRAYSCALE)\n",
    "        \n",
    "        # Initialize MSER detector\n",
    "        mser = cv2.MSER_create(min_area=min_area, max_area=max_area, max_variation=max_variation, min_diversity=min_diversity)\n",
    "        \n",
    "        # Detect MSER regions\n",
    "        regions, _ = mser.detectRegions(gray_img)\n",
    "        \n",
    "        # Filter regions based on size and aspect ratio\n",
    "        digits_regions = []\n",
    "        for region in regions:\n",
    "            x, y, w, h = cv2.boundingRect(region)\n",
    "            aspect_ratio = w / float(h)\n",
    "            if 0.2 < aspect_ratio < 2.5 and min_area < w * h < max_area:\n",
    "                digits_regions.append(region)\n",
    "        \n",
    "        # Draw and save the regions\n",
    "        mser_img = gray_img.copy()\n",
    "        for region in digits_regions:\n",
    "            x, y, w, h = cv2.boundingRect(region)\n",
    "            cv2.rectangle(mser_img, (x, y), (x + w, y + h), (255, 0, 0), 2)\n",
    "        \n",
    "        # Save the image with MSER regions marked\n",
    "        save_path = os.path.join(new_dir_path, f\"{i:05d}.png\")\n",
    "        cv2.imwrite(save_path, mser_img)\n",
    "\n",
    "        # Saving new digits count \n",
    "        digits_counts.append(len(digits_regions))\n",
    "\n",
    "    # Update the image paths in the DataFrame with the new MSER images paths\n",
    "    df[new_dir_path] = [os.path.join(new_dir_path, f\"{i:05d}.png\") for i in range(len(df))]\n",
    "    df[\"digits_count\"] = digits_counts\n",
    "    return df"
   ]
  },
  {
   "cell_type": "markdown",
   "metadata": {},
   "source": [
    "### using CCA for detecting Images"
   ]
  },
  {
   "cell_type": "code",
   "execution_count": 17,
   "metadata": {},
   "outputs": [],
   "source": [
    "def detect_digits_cca(df, from_path, new_dir_path):\n",
    "    try:\n",
    "        os.makedirs(new_dir_path)\n",
    "    except:\n",
    "        pass\n",
    "    \n",
    "    digits_counts = []\n",
    "    for i, img_path in enumerate(df[from_path]):\n",
    "        # Read the grayscale image\n",
    "        gray_img = cv2.imread(img_path, cv2.IMREAD_GRAYSCALE)\n",
    "        \n",
    "        # Threshold the image to binarize it (you may need to adjust the threshold value)\n",
    "        _, binary_img = cv2.threshold(gray_img, 128, 255, cv2.THRESH_BINARY_INV)\n",
    "        \n",
    "        # Perform connected component analysis\n",
    "        num_labels, labels, stats, centroids = cv2.connectedComponentsWithStats(binary_img)\n",
    "        \n",
    "        # Initialize the list to store the regions\n",
    "        digits_regions = []\n",
    "        \n",
    "        # Iterate over the connected components\n",
    "        for label in range(1, num_labels):\n",
    "            left, top, width, height, area = stats[label]\n",
    "            \n",
    "            # Apply additional filtering based on the area and aspect ratio of the component\n",
    "            min_area = 100  # Adjust this value based on your requirements\n",
    "            max_area = 2000  # Adjust this value based on your requirements\n",
    "            min_aspect_ratio = 0.2  # Adjust this value based on your requirements\n",
    "            max_aspect_ratio = 2.5  # Adjust this value based on your requirements\n",
    "            \n",
    "            if min_area < area < max_area and min_aspect_ratio < width / height < max_aspect_ratio:\n",
    "                digits_regions.append((left, top, width, height))\n",
    "        \n",
    "        # Draw and save the regions\n",
    "        cca_img = gray_img.copy()\n",
    "        for region in digits_regions:\n",
    "            left, top, width, height = region\n",
    "            cv2.rectangle(cca_img, (left, top), (left + width, top + height), (255, 0, 0), 2)\n",
    "        \n",
    "        # Save the image with CCA regions marked\n",
    "        save_path = os.path.join(new_dir_path, f\"{i:05d}.png\")\n",
    "        cv2.imwrite(save_path, cca_img)\n",
    "\n",
    "        # Saving new digits count \n",
    "        digits_counts.append(len(digits_regions))\n",
    "\n",
    "    # Update the image paths in the DataFrame with the new CCA images paths\n",
    "    df[new_dir_path] = [os.path.join(new_dir_path, f\"{i:05d}.png\") for i in range(len(df))]\n",
    "    df[\"digits_count\"] = digits_counts\n",
    "    return df"
   ]
  },
  {
   "cell_type": "code",
   "execution_count": 18,
   "metadata": {},
   "outputs": [],
   "source": [
    "def separate_digits_with_vertical_lines(df, from_path, new_dir_path):\n",
    "    try:\n",
    "        os.makedirs(new_dir_path)\n",
    "    except:\n",
    "        pass\n",
    "    digit_column = []\n",
    "    for i, img_path in enumerate(df[from_path]):\n",
    "        # Read the image in grayscale\n",
    "        gray_img = cv2.imread(img_path, cv2.IMREAD_GRAYSCALE)\n",
    "        digit_count = 1\n",
    "        # Create a copy of the image to apply changes\n",
    "        modified_img = gray_img.copy()\n",
    "\n",
    "        # Find columns with all pixel values equal to 0 and replace them with 0.5\n",
    "        empty_columns = (gray_img.sum(axis=0) < 0)\n",
    "        column_diff = empty_columns[1:] ^ empty_columns[:-1]  # Calculate the difference between consecutive empty columns using XOR\n",
    "        column_diff = [10] + column_diff.tolist() + [10]  # Add padding to the differences to handle edge cases\n",
    "        for idx, diff in enumerate(column_diff[:-1]):\n",
    "            if diff == 1 and column_diff[idx + 1] == 1:  # Check if two consecutive columns are too close\n",
    "                modified_img[:, idx] = 128  # Set the column to 0.5 (gray)\n",
    "                # Draw a vertical line on the modified image\n",
    "                cv2.line(modified_img, (idx, 0), (idx, gray_img.shape[0]), (0, 0, 255), 2)\n",
    "\n",
    "        # Find the column sums of the binary image\n",
    "        column_sums = modified_img.sum(axis=0)\n",
    "\n",
    "        # Identify the columns where there are no pixel values with 1\n",
    "        column_separator = [idx for idx, val in enumerate(column_sums) if val == 0]\n",
    "\n",
    "        # Add the start and end column indices to the separators\n",
    "        column_separator = [0] + column_separator + [gray_img.shape[1]]\n",
    "        # Crop the individual digits using the separators\n",
    "        for idx in range(len(column_separator) - 1):\n",
    "            start_col = column_separator[idx]\n",
    "            end_col = column_separator[idx + 1]\n",
    "\n",
    "            # Crop and save the digit only if it is not empty and the width is greater than 10 pixels\n",
    "            digit_img = gray_img[:, start_col:end_col]\n",
    "            if not cv2.countNonZero(digit_img) == 0 and end_col - start_col > 0 and end_col+1 < modified_img.shape[1]:\n",
    "                digit_count += 1\n",
    "                modified_img[:, end_col+1] = 128 \n",
    "        digit_column.append(digit_count)\n",
    "        # Save the image with CCA regions marked (with lines added)\n",
    "        save_path = os.path.join(new_dir_path, f\"{i:05d}.png\")\n",
    "        cv2.imwrite(save_path, modified_img)\n",
    "    df[\"digits_count\"] = digit_column\n",
    "    df[new_dir_path] = [os.path.join(new_dir_path, f\"{i:05d}.png\") for i in range(len(df))]\n",
    "    return df\n"
   ]
  },
  {
   "cell_type": "code",
   "execution_count": 19,
   "metadata": {},
   "outputs": [],
   "source": [
    "def detect_digits_contours(df, from_path, new_dir_path, min_area=100, max_area=2000, min_aspect_ratio=0.2, max_aspect_ratio=2.5):\n",
    "    try:\n",
    "        os.makedirs(new_dir_path)\n",
    "    except:\n",
    "        pass\n",
    "\n",
    "    digits_counts = []\n",
    "    for i, img_path in enumerate(df[from_path]):\n",
    "        # Read the image in grayscale\n",
    "        gray_img = cv2.imread(img_path, cv2.IMREAD_GRAYSCALE)\n",
    "\n",
    "        # Threshold the image to create a binary image\n",
    "        _, binary_img = cv2.threshold(gray_img, 0, 255, cv2.THRESH_BINARY_INV + cv2.THRESH_OTSU)\n",
    "\n",
    "        # Find contours in the binary image\n",
    "        contours, _ = cv2.findContours(binary_img, cv2.RETR_EXTERNAL, cv2.CHAIN_APPROX_SIMPLE)\n",
    "\n",
    "        # Filter contours based on size and aspect ratio\n",
    "        digits_contours = []\n",
    "        for contour in contours:\n",
    "            x, y, w, h = cv2.boundingRect(contour)\n",
    "            aspect_ratio = w / float(h)\n",
    "            if min_area < w * h < max_area and min_aspect_ratio < aspect_ratio < max_aspect_ratio:\n",
    "                digits_contours.append(contour)\n",
    "\n",
    "        # Draw and save the contours\n",
    "        contour_img = gray_img.copy()\n",
    "        cv2.drawContours(contour_img, digits_contours, -1, (255, 0, 0), 2)\n",
    "\n",
    "        # Save the image with contours marked\n",
    "        save_path = os.path.join(new_dir_path, f\"{i:05d}.png\")\n",
    "        cv2.imwrite(save_path, contour_img)\n",
    "\n",
    "        # Saving new digits count\n",
    "        digits_counts.append(len(digits_contours))\n",
    "\n",
    "    # Update the image paths in the DataFrame with the new images paths\n",
    "    df[\"digits_count\"] = digits_counts\n",
    "    df[new_dir_path] = [os.path.join(new_dir_path, f\"{i:05d}.png\") for i in range(len(df))]\n",
    "    return df\n"
   ]
  },
  {
   "cell_type": "code",
   "execution_count": 20,
   "metadata": {},
   "outputs": [],
   "source": [
    "def detect_digits_sift(df, from_path, new_dir_path):\n",
    "    try:\n",
    "        os.makedirs(new_dir_path)\n",
    "    except:\n",
    "        pass\n",
    "    \n",
    "    digits_counts = []\n",
    "    sift = cv2.SIFT_create()\n",
    "    \n",
    "    for i, img_path in enumerate(df[from_path]):\n",
    "        # Read the image in grayscale\n",
    "        gray_img = cv2.imread(img_path, cv2.IMREAD_GRAYSCALE)\n",
    "        \n",
    "        # Detect keypoints and descriptors using SIFT\n",
    "        keypoints, descriptors = sift.detectAndCompute(gray_img, None)\n",
    "        \n",
    "        # Draw keypoints on the image\n",
    "        sift_img = cv2.drawKeypoints(gray_img, keypoints, None)\n",
    "        \n",
    "        # Save the image with SIFT keypoints marked\n",
    "        save_path = os.path.join(new_dir_path, f\"{i:05d}.png\")\n",
    "        cv2.imwrite(save_path, sift_img)\n",
    "\n",
    "        # Saving new digits count (you can adjust this based on the detected keypoints)\n",
    "        digits_counts.append(len(keypoints))\n",
    "\n",
    "    # Update the image paths in the DataFrame with the new SIFT images paths\n",
    "    df[new_dir_path] = [os.path.join(new_dir_path, f\"{i:05d}.png\") for i in range(len(df))]\n",
    "    df[\"digits_count\"] = digits_counts\n",
    "    return df"
   ]
  },
  {
   "cell_type": "code",
   "execution_count": 21,
   "metadata": {},
   "outputs": [
    {
     "name": "stdout",
     "output_type": "stream",
     "text": [
      "11719\n",
      "11719\n"
     ]
    }
   ],
   "source": [
    "all_labels = reset_data()"
   ]
  },
  {
   "cell_type": "markdown",
   "metadata": {},
   "source": [
    "## PLOT Images"
   ]
  },
  {
   "cell_type": "code",
   "execution_count": 37,
   "metadata": {},
   "outputs": [
    {
     "name": "stdout",
     "output_type": "stream",
     "text": [
      "label: 1000\n",
      "target: ./inverted/00022.png\n"
     ]
    },
    {
     "data": {
      "image/png": "[encoded data removed]",
      "text/plain": [
       "<Figure size 640x480 with 1 Axes>"
      ]
     },
     "metadata": {},
     "output_type": "display_data"
    }
   ],
   "source": [
    "plot_random_image(all_labels,'./inverted/')"
   ]
  },
  {
   "cell_type": "markdown",
   "metadata": {},
   "source": [
    "## Preproccesing"
   ]
  },
  {
   "cell_type": "code",
   "execution_count": 22,
   "metadata": {},
   "outputs": [],
   "source": [
    "all_labels = convert_to_grayscale(all_labels,'image_path','./grayscaled/')"
   ]
  },
  {
   "cell_type": "code",
   "execution_count": 24,
   "metadata": {},
   "outputs": [],
   "source": [
    "# all_labels = denoise_images(all_labels, 'image_path', './denoised/')\n",
    "all_labels = denoise_images_fastnlmeans(all_labels, './grayscaled/', './denoised_fastnlmeans/')"
   ]
  },
  {
   "cell_type": "code",
   "execution_count": 36,
   "metadata": {},
   "outputs": [],
   "source": [
    "# block_size = 9\n",
    "# offset = 0\n",
    "# all_labels = local_threshold_images(all_labels, './edges/', './local_thresholded/', block_size, offset)\n",
    "all_labels = binarize_images(all_labels, './denoised_fastnlmeans/', './binarized/')\n",
    "all_labels = invert_images(all_labels, './denoised_fastnlmeans/', './inverted/')"
   ]
  },
  {
   "cell_type": "code",
   "execution_count": 38,
   "metadata": {},
   "outputs": [],
   "source": [
    "# all_labels = dilate_images(all_labels, './edges/', './dilated/')\n",
    "all_labels = erode_images(all_labels, './inverted/', './eroded/')\n",
    "all_labels = thin_images(all_labels, './inverted/', './thinned/')\n",
    "all_labels = thin_images(all_labels, './inverted/', './c_thinned/')"
   ]
  },
  {
   "cell_type": "code",
   "execution_count": 26,
   "metadata": {},
   "outputs": [],
   "source": [
    "low_threshold = 50\n",
    "high_threshold = 150\n",
    "all_labels = detect_edges_canny(all_labels, './denoised_fastnlmeans/', './edges/', low_threshold, high_threshold)"
   ]
  },
  {
   "cell_type": "markdown",
   "metadata": {},
   "source": [
    "## Measuring"
   ]
  },
  {
   "cell_type": "code",
   "execution_count": 24,
   "metadata": {},
   "outputs": [],
   "source": [
    "min_area = 300\n",
    "max_area = 3000\n",
    "max_variation = 0.5\n",
    "min_diversity = 0.5\n",
    "all_labels = detect_digits_mser(all_labels, './grayscaled/', './mser/', min_area, max_area, max_variation, min_diversity)"
   ]
  },
  {
   "cell_type": "code",
   "execution_count": null,
   "metadata": {},
   "outputs": [],
   "source": [
    "all_labels = detect_digits_cca(all_labels, 'image_path', './cca/')"
   ]
  },
  {
   "cell_type": "code",
   "execution_count": null,
   "metadata": {},
   "outputs": [],
   "source": [
    "all_labels = separate_digits_with_vertical_lines(all_labels, 'image_path', './vertical_lines/')"
   ]
  },
  {
   "cell_type": "code",
   "execution_count": null,
   "metadata": {},
   "outputs": [],
   "source": [
    "min_area = 100\n",
    "max_area = 2000\n",
    "min_aspect_ratio = 0.2\n",
    "max_aspect_ratio = 2.5\n",
    "all_labels = detect_digits_contours(all_labels, 'image_path', './contours/', min_area, max_area, min_aspect_ratio, max_aspect_ratio)"
   ]
  },
  {
   "cell_type": "code",
   "execution_count": null,
   "metadata": {},
   "outputs": [],
   "source": [
    "all_labels = detect_digits_sift(all_labels, 'image_path', './sift/')"
   ]
  },
  {
   "cell_type": "code",
   "execution_count": 25,
   "metadata": {},
   "outputs": [
    {
     "name": "stdout",
     "output_type": "stream",
     "text": [
      "Correct: 389 \n",
      "Accuracy: 0.033193958528884716\n"
     ]
    }
   ],
   "source": [
    "correct_predictions = (all_labels[\"actual_digit_count\"] == all_labels[\"digits_count\"]).sum()\n",
    "accuracy = correct_predictions / len(all_labels)\n",
    "print(\"Correct:\", correct_predictions, \"\\nAccuracy:\", accuracy)"
   ]
  },
  {
   "cell_type": "code",
   "execution_count": 25,
   "metadata": {},
   "outputs": [
    {
     "data": {
      "text/html": [
       "<div>\n",
       "<style scoped>\n",
       "    .dataframe tbody tr th:only-of-type {\n",
       "        vertical-align: middle;\n",
       "    }\n",
       "\n",
       "    .dataframe tbody tr th {\n",
       "        vertical-align: top;\n",
       "    }\n",
       "\n",
       "    .dataframe thead th {\n",
       "        text-align: right;\n",
       "    }\n",
       "</style>\n",
       "<table border=\"1\" class=\"dataframe\">\n",
       "  <thead>\n",
       "    <tr style=\"text-align: right;\">\n",
       "      <th></th>\n",
       "      <th>image_path</th>\n",
       "      <th>label</th>\n",
       "      <th>actual_digit_count</th>\n",
       "      <th>./grayscaled/</th>\n",
       "      <th>./local_thresholded/</th>\n",
       "      <th>./denoised_fastnlmeans/</th>\n",
       "    </tr>\n",
       "  </thead>\n",
       "  <tbody>\n",
       "    <tr>\n",
       "      <th>0</th>\n",
       "      <td>./ORAND-CAR-2014/CAR-A/a_test_images/a_car_007...</td>\n",
       "      <td>1500</td>\n",
       "      <td>4</td>\n",
       "      <td>./grayscaled/00000.png</td>\n",
       "      <td>./local_thresholded/00000.png</td>\n",
       "      <td>./denoised_fastnlmeans/00000.png</td>\n",
       "    </tr>\n",
       "    <tr>\n",
       "      <th>1</th>\n",
       "      <td>./ORAND-CAR-2014/CAR-A/a_test_images/a_car_007...</td>\n",
       "      <td>5743</td>\n",
       "      <td>4</td>\n",
       "      <td>./grayscaled/00001.png</td>\n",
       "      <td>./local_thresholded/00001.png</td>\n",
       "      <td>./denoised_fastnlmeans/00001.png</td>\n",
       "    </tr>\n",
       "    <tr>\n",
       "      <th>2</th>\n",
       "      <td>./ORAND-CAR-2014/CAR-A/a_test_images/a_car_007...</td>\n",
       "      <td>1056</td>\n",
       "      <td>4</td>\n",
       "      <td>./grayscaled/00002.png</td>\n",
       "      <td>./local_thresholded/00002.png</td>\n",
       "      <td>./denoised_fastnlmeans/00002.png</td>\n",
       "    </tr>\n",
       "    <tr>\n",
       "      <th>3</th>\n",
       "      <td>./ORAND-CAR-2014/CAR-A/a_test_images/a_car_007...</td>\n",
       "      <td>1000</td>\n",
       "      <td>4</td>\n",
       "      <td>./grayscaled/00003.png</td>\n",
       "      <td>./local_thresholded/00003.png</td>\n",
       "      <td>./denoised_fastnlmeans/00003.png</td>\n",
       "    </tr>\n",
       "    <tr>\n",
       "      <th>4</th>\n",
       "      <td>./ORAND-CAR-2014/CAR-A/a_test_images/a_car_007...</td>\n",
       "      <td>1000</td>\n",
       "      <td>4</td>\n",
       "      <td>./grayscaled/00004.png</td>\n",
       "      <td>./local_thresholded/00004.png</td>\n",
       "      <td>./denoised_fastnlmeans/00004.png</td>\n",
       "    </tr>\n",
       "  </tbody>\n",
       "</table>\n",
       "</div>"
      ],
      "text/plain": [
       "                                          image_path label  \\\n",
       "0  ./ORAND-CAR-2014/CAR-A/a_test_images/a_car_007...  1500   \n",
       "1  ./ORAND-CAR-2014/CAR-A/a_test_images/a_car_007...  5743   \n",
       "2  ./ORAND-CAR-2014/CAR-A/a_test_images/a_car_007...  1056   \n",
       "3  ./ORAND-CAR-2014/CAR-A/a_test_images/a_car_007...  1000   \n",
       "4  ./ORAND-CAR-2014/CAR-A/a_test_images/a_car_007...  1000   \n",
       "\n",
       "   actual_digit_count           ./grayscaled/           ./local_thresholded/  \\\n",
       "0                   4  ./grayscaled/00000.png  ./local_thresholded/00000.png   \n",
       "1                   4  ./grayscaled/00001.png  ./local_thresholded/00001.png   \n",
       "2                   4  ./grayscaled/00002.png  ./local_thresholded/00002.png   \n",
       "3                   4  ./grayscaled/00003.png  ./local_thresholded/00003.png   \n",
       "4                   4  ./grayscaled/00004.png  ./local_thresholded/00004.png   \n",
       "\n",
       "            ./denoised_fastnlmeans/  \n",
       "0  ./denoised_fastnlmeans/00000.png  \n",
       "1  ./denoised_fastnlmeans/00001.png  \n",
       "2  ./denoised_fastnlmeans/00002.png  \n",
       "3  ./denoised_fastnlmeans/00003.png  \n",
       "4  ./denoised_fastnlmeans/00004.png  "
      ]
     },
     "execution_count": 25,
     "metadata": {},
     "output_type": "execute_result"
    }
   ],
   "source": [
    "all_labels.head()"
   ]
  },
  {
   "cell_type": "code",
   "execution_count": null,
   "metadata": {},
   "outputs": [],
   "source": [
    "hi"
   ]
  }
 ],
 "metadata": {
  "kernelspec": {
   "display_name": "Python 3",
   "language": "python",
   "name": "python3"
  },
  "language_info": {
   "codemirror_mode": {
    "name": "ipython",
    "version": 3
   },
   "file_extension": ".py",
   "mimetype": "text/x-python",
   "name": "python",
   "nbconvert_exporter": "python",
   "pygments_lexer": "ipython3",
   "version": "3.10.4"
  },
  "orig_nbformat": 4
 },
 "nbformat": 4,
 "nbformat_minor": 2
}
