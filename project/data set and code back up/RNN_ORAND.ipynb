{
  "cells": [
    {
      "cell_type": "markdown",
      "metadata": {
        "id": "o-4gbHFpmEay"
      },
      "source": [
        "Let's go for RNN based on https://github.com/AbhishekAnand18/ImageTextRecognition/blob/master/ImageTextRecognition_Code.ipynb"
      ]
    },
    {
      "cell_type": "code",
      "execution_count": 2,
      "metadata": {
        "id": "2mo7DBxomEaz"
      },
      "outputs": [],
      "source": [
        "import random\n",
        "import pandas as pd\n",
        "import numpy as np\n",
        "import tensorflow as tf\n",
        "from tensorflow import keras\n",
        "import cv2\n",
        "import matplotlib.pyplot as plt\n",
        "import matplotlib.image as mpimg\n",
        "from PIL import Image\n",
        "from IPython.display import clear_output\n",
        "import time\n",
        "import os\n",
        "from skimage.filters import threshold_local\n",
        "import keras\n",
        "import random\n",
        "from keras import backend as K\n",
        "from skimage.morphology import skeletonize\n",
        "import itertools\n",
        "import datetime\n"
      ]
    },
    {
      "cell_type": "code",
      "execution_count": 3,
      "metadata": {
        "id": "_Yn2ZCNjmXlB"
      },
      "outputs": [],
      "source": [
        "import shutil\n",
        "\n",
        "def remove_directory(path):\n",
        "    try:\n",
        "      shutil.rmtree(path)\n",
        "    except:\n",
        "      pass\n",
        "\n",
        "remove_directory('/content/sample_data')"
      ]
    },
    {
      "cell_type": "code",
      "execution_count": 4,
      "metadata": {
        "id": "v6htcdCvmEa0"
      },
      "outputs": [],
      "source": [
        "import tensorflow as tf\n",
        "import logging\n",
        "tf.get_logger().setLevel(logging.ERROR)"
      ]
    },
    {
      "cell_type": "code",
      "execution_count": 15,
      "metadata": {
        "id": "SxsR2Ka9mcgD"
      },
      "outputs": [],
      "source": [
        "!wget https://www.orand.cl/orand_car/ORAND-CAR-2014.tar.gz\n",
        "!tar -xvzf ORAND-CAR-2014.tar.gz\n",
        "!pip install Pillow\n",
        "clear_output()"
      ]
    },
    {
      "cell_type": "code",
      "execution_count": 18,
      "metadata": {
        "colab": {
          "base_uri": "https://localhost:8080/"
        },
        "id": "uzq19SMNmEa1",
        "outputId": "655aa2c9-8796-4c5a-febd-fda69b45ddc7"
      },
      "outputs": [
        {
          "output_type": "stream",
          "name": "stdout",
          "text": [
            "11719\n",
            "11719\n"
          ]
        }
      ],
      "source": [
        "dir_path = '/content/ORAND-CAR-2014/'\n",
        "CAR_A_test_images_path = dir_path + 'CAR-A/a_test_images/'\n",
        "CAR_A_train_images_path = dir_path + 'CAR-A/a_train_images/'\n",
        "CAR_B_test_images_path = dir_path + 'CAR-B/b_test_images/'\n",
        "CAR_B_train_images_path = dir_path + 'CAR-B/b_train_images/'\n",
        "\n",
        "def load_original_images():\n",
        "    images_path = []\n",
        "    for root, dirs, files in os.walk(dir_path):\n",
        "        for file in files:\n",
        "            if file.endswith('.png'):\n",
        "                image_path = os.path.join(root, file)\n",
        "                images_path.append(image_path.replace('\\\\','/'))\n",
        "    return images_path\n",
        "\n",
        "images_path = load_original_images()\n",
        "\n",
        "def calculate_digit_count(label):\n",
        "    return len(label)\n",
        "\n",
        "def get_labels(image_dir,text_path):\n",
        "  with open(text_path,'r') as f :\n",
        "    lines = f.readlines()\n",
        "  listt = []\n",
        "  for line in lines :\n",
        "    parts = line.strip().split(\"\\t\")\n",
        "    listt.append([image_dir + parts[0],parts[1]])\n",
        "  DF = pd.DataFrame(listt)\n",
        "  DF = DF.rename(columns={0: 'image_path', 1: 'label'})\n",
        "  return DF\n",
        "\n",
        "def get_all_labels():\n",
        "  CAR_A_test_text = dir_path + 'CAR-A/a_test_gt.txt'\n",
        "  CAR_A_train_text = dir_path + 'CAR-A/a_train_gt.txt'\n",
        "  CAR_B_test_text = dir_path + 'CAR-B/b_test_gt.txt'\n",
        "  CAR_B_train_text = dir_path + 'CAR-B/b_train_gt.txt'\n",
        "  a_test_label_df = get_labels(CAR_A_test_images_path,CAR_A_test_text)\n",
        "  a_train_label_df = get_labels(CAR_A_train_images_path,CAR_A_train_text)\n",
        "  b_test_label_df = get_labels(CAR_B_test_images_path,CAR_B_test_text)\n",
        "  b_train_label_df = get_labels(CAR_B_train_images_path,CAR_B_train_text)\n",
        "  all_labels = pd.concat([a_test_label_df , a_train_label_df , b_test_label_df , b_train_label_df],ignore_index=True)#.reset_index()\n",
        "  return all_labels\n",
        "\n",
        "def reset_data():\n",
        "  all_labels = get_all_labels()\n",
        "  print(len(all_labels))\n",
        "  print(len(all_labels['image_path'].unique())) # no dupicate image name\n",
        "  # all_labels[\"actual_digit_count\"] = all_labels[\"label\"].astype(str).apply(calculate_digit_count)\n",
        "  return all_labels\n",
        "\n",
        "all_labels = reset_data()"
      ]
    },
    {
      "cell_type": "code",
      "execution_count": 19,
      "metadata": {
        "colab": {
          "base_uri": "https://localhost:8080/",
          "height": 423
        },
        "id": "BGO5NvcRShCw",
        "outputId": "e7b2aa46-3b4e-4160-c335-840189e9f664"
      },
      "outputs": [
        {
          "output_type": "execute_result",
          "data": {
            "text/plain": [
              "                                              image_path   label\n",
              "0      /content/ORAND-CAR-2014/CAR-A/a_test_images/a_...    1500\n",
              "1      /content/ORAND-CAR-2014/CAR-A/a_test_images/a_...    5743\n",
              "2      /content/ORAND-CAR-2014/CAR-A/a_test_images/a_...    1056\n",
              "3      /content/ORAND-CAR-2014/CAR-A/a_test_images/a_...    1000\n",
              "4      /content/ORAND-CAR-2014/CAR-A/a_test_images/a_...    1000\n",
              "...                                                  ...     ...\n",
              "11714  /content/ORAND-CAR-2014/CAR-B/b_train_images/b...  100000\n",
              "11715  /content/ORAND-CAR-2014/CAR-B/b_train_images/b...   85000\n",
              "11716  /content/ORAND-CAR-2014/CAR-B/b_train_images/b...  150000\n",
              "11717  /content/ORAND-CAR-2014/CAR-B/b_train_images/b...   13356\n",
              "11718  /content/ORAND-CAR-2014/CAR-B/b_train_images/b...  100000\n",
              "\n",
              "[11719 rows x 2 columns]"
            ],
            "text/html": [
              "\n",
              "\n",
              "  <div id=\"df-b5c1bd34-b22d-4c6f-ab3a-7d2c11624725\">\n",
              "    <div class=\"colab-df-container\">\n",
              "      <div>\n",
              "<style scoped>\n",
              "    .dataframe tbody tr th:only-of-type {\n",
              "        vertical-align: middle;\n",
              "    }\n",
              "\n",
              "    .dataframe tbody tr th {\n",
              "        vertical-align: top;\n",
              "    }\n",
              "\n",
              "    .dataframe thead th {\n",
              "        text-align: right;\n",
              "    }\n",
              "</style>\n",
              "<table border=\"1\" class=\"dataframe\">\n",
              "  <thead>\n",
              "    <tr style=\"text-align: right;\">\n",
              "      <th></th>\n",
              "      <th>image_path</th>\n",
              "      <th>label</th>\n",
              "    </tr>\n",
              "  </thead>\n",
              "  <tbody>\n",
              "    <tr>\n",
              "      <th>0</th>\n",
              "      <td>/content/ORAND-CAR-2014/CAR-A/a_test_images/a_...</td>\n",
              "      <td>1500</td>\n",
              "    </tr>\n",
              "    <tr>\n",
              "      <th>1</th>\n",
              "      <td>/content/ORAND-CAR-2014/CAR-A/a_test_images/a_...</td>\n",
              "      <td>5743</td>\n",
              "    </tr>\n",
              "    <tr>\n",
              "      <th>2</th>\n",
              "      <td>/content/ORAND-CAR-2014/CAR-A/a_test_images/a_...</td>\n",
              "      <td>1056</td>\n",
              "    </tr>\n",
              "    <tr>\n",
              "      <th>3</th>\n",
              "      <td>/content/ORAND-CAR-2014/CAR-A/a_test_images/a_...</td>\n",
              "      <td>1000</td>\n",
              "    </tr>\n",
              "    <tr>\n",
              "      <th>4</th>\n",
              "      <td>/content/ORAND-CAR-2014/CAR-A/a_test_images/a_...</td>\n",
              "      <td>1000</td>\n",
              "    </tr>\n",
              "    <tr>\n",
              "      <th>...</th>\n",
              "      <td>...</td>\n",
              "      <td>...</td>\n",
              "    </tr>\n",
              "    <tr>\n",
              "      <th>11714</th>\n",
              "      <td>/content/ORAND-CAR-2014/CAR-B/b_train_images/b...</td>\n",
              "      <td>100000</td>\n",
              "    </tr>\n",
              "    <tr>\n",
              "      <th>11715</th>\n",
              "      <td>/content/ORAND-CAR-2014/CAR-B/b_train_images/b...</td>\n",
              "      <td>85000</td>\n",
              "    </tr>\n",
              "    <tr>\n",
              "      <th>11716</th>\n",
              "      <td>/content/ORAND-CAR-2014/CAR-B/b_train_images/b...</td>\n",
              "      <td>150000</td>\n",
              "    </tr>\n",
              "    <tr>\n",
              "      <th>11717</th>\n",
              "      <td>/content/ORAND-CAR-2014/CAR-B/b_train_images/b...</td>\n",
              "      <td>13356</td>\n",
              "    </tr>\n",
              "    <tr>\n",
              "      <th>11718</th>\n",
              "      <td>/content/ORAND-CAR-2014/CAR-B/b_train_images/b...</td>\n",
              "      <td>100000</td>\n",
              "    </tr>\n",
              "  </tbody>\n",
              "</table>\n",
              "<p>11719 rows × 2 columns</p>\n",
              "</div>\n",
              "      <button class=\"colab-df-convert\" onclick=\"convertToInteractive('df-b5c1bd34-b22d-4c6f-ab3a-7d2c11624725')\"\n",
              "              title=\"Convert this dataframe to an interactive table.\"\n",
              "              style=\"display:none;\">\n",
              "\n",
              "  <svg xmlns=\"http://www.w3.org/2000/svg\" height=\"24px\"viewBox=\"0 0 24 24\"\n",
              "       width=\"24px\">\n",
              "    <path d=\"M0 0h24v24H0V0z\" fill=\"none\"/>\n",
              "    <path d=\"M18.56 5.44l.94 2.06.94-2.06 2.06-.94-2.06-.94-.94-2.06-.94 2.06-2.06.94zm-11 1L8.5 8.5l.94-2.06 2.06-.94-2.06-.94L8.5 2.5l-.94 2.06-2.06.94zm10 10l.94 2.06.94-2.06 2.06-.94-2.06-.94-.94-2.06-.94 2.06-2.06.94z\"/><path d=\"M17.41 7.96l-1.37-1.37c-.4-.4-.92-.59-1.43-.59-.52 0-1.04.2-1.43.59L10.3 9.45l-7.72 7.72c-.78.78-.78 2.05 0 2.83L4 21.41c.39.39.9.59 1.41.59.51 0 1.02-.2 1.41-.59l7.78-7.78 2.81-2.81c.8-.78.8-2.07 0-2.86zM5.41 20L4 18.59l7.72-7.72 1.47 1.35L5.41 20z\"/>\n",
              "  </svg>\n",
              "      </button>\n",
              "\n",
              "\n",
              "\n",
              "    <div id=\"df-7cdc69c1-0c86-466a-b1bf-fd2ebcd0803d\">\n",
              "      <button class=\"colab-df-quickchart\" onclick=\"quickchart('df-7cdc69c1-0c86-466a-b1bf-fd2ebcd0803d')\"\n",
              "              title=\"Suggest charts.\"\n",
              "              style=\"display:none;\">\n",
              "\n",
              "<svg xmlns=\"http://www.w3.org/2000/svg\" height=\"24px\"viewBox=\"0 0 24 24\"\n",
              "     width=\"24px\">\n",
              "    <g>\n",
              "        <path d=\"M19 3H5c-1.1 0-2 .9-2 2v14c0 1.1.9 2 2 2h14c1.1 0 2-.9 2-2V5c0-1.1-.9-2-2-2zM9 17H7v-7h2v7zm4 0h-2V7h2v10zm4 0h-2v-4h2v4z\"/>\n",
              "    </g>\n",
              "</svg>\n",
              "      </button>\n",
              "    </div>\n",
              "\n",
              "<style>\n",
              "  .colab-df-quickchart {\n",
              "    background-color: #E8F0FE;\n",
              "    border: none;\n",
              "    border-radius: 50%;\n",
              "    cursor: pointer;\n",
              "    display: none;\n",
              "    fill: #1967D2;\n",
              "    height: 32px;\n",
              "    padding: 0 0 0 0;\n",
              "    width: 32px;\n",
              "  }\n",
              "\n",
              "  .colab-df-quickchart:hover {\n",
              "    background-color: #E2EBFA;\n",
              "    box-shadow: 0px 1px 2px rgba(60, 64, 67, 0.3), 0px 1px 3px 1px rgba(60, 64, 67, 0.15);\n",
              "    fill: #174EA6;\n",
              "  }\n",
              "\n",
              "  [theme=dark] .colab-df-quickchart {\n",
              "    background-color: #3B4455;\n",
              "    fill: #D2E3FC;\n",
              "  }\n",
              "\n",
              "  [theme=dark] .colab-df-quickchart:hover {\n",
              "    background-color: #434B5C;\n",
              "    box-shadow: 0px 1px 3px 1px rgba(0, 0, 0, 0.15);\n",
              "    filter: drop-shadow(0px 1px 2px rgba(0, 0, 0, 0.3));\n",
              "    fill: #FFFFFF;\n",
              "  }\n",
              "</style>\n",
              "\n",
              "    <script>\n",
              "      async function quickchart(key) {\n",
              "        const containerElement = document.querySelector('#' + key);\n",
              "        const charts = await google.colab.kernel.invokeFunction(\n",
              "            'suggestCharts', [key], {});\n",
              "      }\n",
              "    </script>\n",
              "\n",
              "      <script>\n",
              "\n",
              "function displayQuickchartButton(domScope) {\n",
              "  let quickchartButtonEl =\n",
              "    domScope.querySelector('#df-7cdc69c1-0c86-466a-b1bf-fd2ebcd0803d button.colab-df-quickchart');\n",
              "  quickchartButtonEl.style.display =\n",
              "    google.colab.kernel.accessAllowed ? 'block' : 'none';\n",
              "}\n",
              "\n",
              "        displayQuickchartButton(document);\n",
              "      </script>\n",
              "      <style>\n",
              "    .colab-df-container {\n",
              "      display:flex;\n",
              "      flex-wrap:wrap;\n",
              "      gap: 12px;\n",
              "    }\n",
              "\n",
              "    .colab-df-convert {\n",
              "      background-color: #E8F0FE;\n",
              "      border: none;\n",
              "      border-radius: 50%;\n",
              "      cursor: pointer;\n",
              "      display: none;\n",
              "      fill: #1967D2;\n",
              "      height: 32px;\n",
              "      padding: 0 0 0 0;\n",
              "      width: 32px;\n",
              "    }\n",
              "\n",
              "    .colab-df-convert:hover {\n",
              "      background-color: #E2EBFA;\n",
              "      box-shadow: 0px 1px 2px rgba(60, 64, 67, 0.3), 0px 1px 3px 1px rgba(60, 64, 67, 0.15);\n",
              "      fill: #174EA6;\n",
              "    }\n",
              "\n",
              "    [theme=dark] .colab-df-convert {\n",
              "      background-color: #3B4455;\n",
              "      fill: #D2E3FC;\n",
              "    }\n",
              "\n",
              "    [theme=dark] .colab-df-convert:hover {\n",
              "      background-color: #434B5C;\n",
              "      box-shadow: 0px 1px 3px 1px rgba(0, 0, 0, 0.15);\n",
              "      filter: drop-shadow(0px 1px 2px rgba(0, 0, 0, 0.3));\n",
              "      fill: #FFFFFF;\n",
              "    }\n",
              "  </style>\n",
              "\n",
              "      <script>\n",
              "        const buttonEl =\n",
              "          document.querySelector('#df-b5c1bd34-b22d-4c6f-ab3a-7d2c11624725 button.colab-df-convert');\n",
              "        buttonEl.style.display =\n",
              "          google.colab.kernel.accessAllowed ? 'block' : 'none';\n",
              "\n",
              "        async function convertToInteractive(key) {\n",
              "          const element = document.querySelector('#df-b5c1bd34-b22d-4c6f-ab3a-7d2c11624725');\n",
              "          const dataTable =\n",
              "            await google.colab.kernel.invokeFunction('convertToInteractive',\n",
              "                                                     [key], {});\n",
              "          if (!dataTable) return;\n",
              "\n",
              "          const docLinkHtml = 'Like what you see? Visit the ' +\n",
              "            '<a target=\"_blank\" href=https://colab.research.google.com/notebooks/data_table.ipynb>data table notebook</a>'\n",
              "            + ' to learn more about interactive tables.';\n",
              "          element.innerHTML = '';\n",
              "          dataTable['output_type'] = 'display_data';\n",
              "          await google.colab.output.renderOutput(dataTable, element);\n",
              "          const docLink = document.createElement('div');\n",
              "          docLink.innerHTML = docLinkHtml;\n",
              "          element.appendChild(docLink);\n",
              "        }\n",
              "      </script>\n",
              "    </div>\n",
              "  </div>\n"
            ]
          },
          "metadata": {},
          "execution_count": 19
        }
      ],
      "source": [
        "all_labels"
      ]
    },
    {
      "cell_type": "markdown",
      "metadata": {
        "id": "dOcNsJvLrAp0"
      },
      "source": [
        "## Functionanl methods"
      ]
    },
    {
      "cell_type": "code",
      "execution_count": 20,
      "metadata": {
        "id": "BfvtLTvLmEa1"
      },
      "outputs": [],
      "source": [
        "def get_size_dataFrame(all_labels,column):\n",
        "    height_list = []\n",
        "    width_list = []\n",
        "    for image_path in all_labels[column]:\n",
        "        height = Image.open(image_path).height\n",
        "        width = Image.open(image_path).width\n",
        "\n",
        "        height_list.append(height)\n",
        "        width_list.append(width)\n",
        "\n",
        "    sizes_df = pd.DataFrame({'width':width_list,'height':height_list})\n",
        "    return sizes_df\n",
        "\n",
        "\n",
        "def plot_random_image(image_label_df,from_path):\n",
        "    random.seed(42)\n",
        "    indices = list(range(len(image_label_df)))\n",
        "    random.shuffle(indices)\n",
        "\n",
        "    for idx in indices[:10]+[21,22]:\n",
        "        target_image = image_label_df[from_path][idx]\n",
        "        print(\"label:\", image_label_df['label'][idx])\n",
        "        print(\"target:\", target_image)\n",
        "        image = mpimg.imread(target_image)\n",
        "        plt.imshow(image)\n",
        "        plt.show()\n",
        "        time.sleep(2)\n",
        "        clear_output(wait=True)\n",
        "\n",
        "\n",
        "def convert_to_grayscale(df, from_path,new_dir_path):\n",
        "    try:\n",
        "        os.makedirs(new_dir_path)\n",
        "    except:\n",
        "        pass\n",
        "\n",
        "    for i, img_path in enumerate(df[from_path]):\n",
        "        img = cv2.imread(img_path)\n",
        "        gray_img = cv2.cvtColor(img, cv2.COLOR_BGR2GRAY)\n",
        "        save_path = os.path.join(new_dir_path, f\"{i:05d}.png\")\n",
        "        cv2.imwrite(save_path, gray_img)\n",
        "\n",
        "    df[new_dir_path] = [os.path.join(new_dir_path, f\"{i:05d}.png\") for i in range(len(df))]\n",
        "\n",
        "    return df\n",
        "\n",
        "\n",
        "def denoise_images(df, from_path, new_dir_path):\n",
        "    try:\n",
        "        os.makedirs(new_dir_path)\n",
        "    except:\n",
        "        pass\n",
        "\n",
        "    for i, img_path in enumerate(df[from_path]):\n",
        "        gray_img = cv2.imread(img_path, cv2.IMREAD_GRAYSCALE)\n",
        "        denoised_image = cv2.GaussianBlur(gray_img, (5, 5), 0)\n",
        "        save_path = os.path.join(new_dir_path, f\"{i:05d}.png\")\n",
        "        cv2.imwrite(save_path, denoised_image)\n",
        "\n",
        "    df[new_dir_path] = [os.path.join(new_dir_path, f\"{i:05d}.png\") for i in range(len(df))]\n",
        "\n",
        "    return df\n",
        "\n",
        "\n",
        "def denoise_images_fastnlmeans(df, from_path, new_dir_path):\n",
        "    try:\n",
        "        os.makedirs(new_dir_path)\n",
        "    except:\n",
        "        pass\n",
        "\n",
        "    for i, img_path in enumerate(df[from_path]):\n",
        "        gray_img = cv2.imread(img_path, cv2.IMREAD_GRAYSCALE)\n",
        "        denoised_img = cv2.fastNlMeansDenoising(gray_img, None, h=10, templateWindowSize=7, searchWindowSize=21)\n",
        "        save_path = os.path.join(new_dir_path, f\"{i:05d}.png\")\n",
        "        cv2.imwrite(save_path, denoised_img)\n",
        "\n",
        "    df[new_dir_path] = [os.path.join(new_dir_path, f\"{i:05d}.png\") for i in range(len(df))]\n",
        "\n",
        "    return df\n",
        "\n",
        "\n",
        "def resize_images_with_height(df,from_path, new_dir_path, target_height):\n",
        "    try:\n",
        "        os.makedirs(new_dir_path)\n",
        "    except:\n",
        "        pass\n",
        "\n",
        "    for i, img_path in enumerate(df[from_path]):\n",
        "        img = cv2.imread(img_path, cv2.IMREAD_GRAYSCALE)\n",
        "        height, width = img.shape\n",
        "        target_width = int(width * (target_height / height))\n",
        "        resized_img = cv2.resize(img, (target_width, target_height))\n",
        "        save_path = os.path.join(new_dir_path, f\"{i:05d}.png\")\n",
        "        cv2.imwrite(save_path, resized_img)\n",
        "\n",
        "    df[new_dir_path] = [os.path.join(new_dir_path, f\"{i:05d}.png\") for i in range(len(df))]\n",
        "    return df\n",
        "\n",
        "\n",
        "def resize_images(df,from_path, new_dir_path, target_height,target_width):\n",
        "    try:\n",
        "        os.makedirs(new_dir_path)\n",
        "    except:\n",
        "        pass\n",
        "\n",
        "    for i, img_path in enumerate(df[from_path]):\n",
        "        img = cv2.imread(img_path, cv2.IMREAD_GRAYSCALE)\n",
        "        resized_img = cv2.resize(img, (target_width, target_height))\n",
        "        save_path = os.path.join(new_dir_path, f\"{i:05d}.png\")\n",
        "        cv2.imwrite(save_path, resized_img)\n",
        "\n",
        "    df[new_dir_path] = [os.path.join(new_dir_path, f\"{i:05d}.png\") for i in range(len(df))]\n",
        "    return df\n",
        "\n",
        "def invert_images(df, from_path, new_dir_path):\n",
        "    try:\n",
        "        os.makedirs(new_dir_path)\n",
        "    except:\n",
        "        pass\n",
        "    for i, img_path in enumerate(df[from_path]):\n",
        "        bin_img = cv2.imread(img_path, cv2.IMREAD_GRAYSCALE)\n",
        "        inverted_img = cv2.bitwise_not(bin_img)\n",
        "        save_path = os.path.join(new_dir_path, f\"{i:05d}.png\")\n",
        "        cv2.imwrite(save_path, inverted_img)\n",
        "\n",
        "    df[new_dir_path] = [os.path.join(new_dir_path, f\"{i:05d}.png\") for i in range(len(df))]\n",
        "    return df\n",
        "\n",
        "def binarize_images(df, from_path, new_dir_path):\n",
        "    try:\n",
        "        os.makedirs(new_dir_path)\n",
        "    except:\n",
        "        pass\n",
        "\n",
        "    for i, img_path in enumerate(df[from_path]):\n",
        "        im = Image.open(img_path)\n",
        "        im = np.array(im)\n",
        "        _, binary_im = cv2.threshold(im, 0, 255, cv2.THRESH_BINARY + cv2.THRESH_OTSU)\n",
        "        binary_im = Image.fromarray(binary_im)\n",
        "        save_path = os.path.join(new_dir_path, f\"{i:05d}.png\")\n",
        "        binary_im.save(save_path)\n",
        "\n",
        "    df[new_dir_path] = [os.path.join(new_dir_path, f\"{i:05d}.png\") for i in range(len(df))]\n",
        "    return df\n",
        "\n",
        "def denoise_images_fastnlmeans(df, from_path, new_dir_path):\n",
        "    try:\n",
        "        os.makedirs(new_dir_path)\n",
        "    except:\n",
        "        pass\n",
        "\n",
        "    for i, img_path in enumerate(df[from_path]):\n",
        "        gray_img = cv2.imread(img_path, cv2.IMREAD_GRAYSCALE)\n",
        "        denoised_img = cv2.fastNlMeansDenoising(gray_img, None, h=10, templateWindowSize=7, searchWindowSize=21)\n",
        "        save_path = os.path.join(new_dir_path, f\"{i:05d}.png\")\n",
        "        cv2.imwrite(save_path, denoised_img)\n",
        "\n",
        "    df[new_dir_path] = [os.path.join(new_dir_path, f\"{i:05d}.png\") for i in range(len(df))]\n",
        "    return df\n",
        "\n",
        "\n",
        "def denoise_images(df, from_path, new_dir_path):\n",
        "    try:\n",
        "        os.makedirs(new_dir_path)\n",
        "    except:\n",
        "        pass\n",
        "\n",
        "    for i, img_path in enumerate(df[from_path]):\n",
        "        gray_img = cv2.imread(img_path, cv2.IMREAD_GRAYSCALE)\n",
        "        denoised_image = cv2.GaussianBlur(gray_img, (5, 5), 0)\n",
        "        save_path = os.path.join(new_dir_path, f\"{i:05d}.png\")\n",
        "        cv2.imwrite(save_path, denoised_image)\n",
        "\n",
        "    df[new_dir_path] = [os.path.join(new_dir_path, f\"{i:05d}.png\") for i in range(len(df))]\n",
        "    return df"
      ]
    },
    {
      "cell_type": "markdown",
      "metadata": {
        "id": "PnEwQxMkHWZa"
      },
      "source": [
        "## Creating new images"
      ]
    },
    {
      "cell_type": "code",
      "execution_count": 21,
      "metadata": {
        "id": "vj-coIRjHV1R"
      },
      "outputs": [],
      "source": [
        "import cv2\n",
        "import pandas as pd\n",
        "import numpy as np\n",
        "from skimage import io, transform, util\n",
        "from skimage.transform import rotate\n",
        "from skimage.util import random_noise\n",
        "\n",
        "augmentation_params = {\n",
        "    'resize_range': (0.65, 1.5),\n",
        "    'flip_prob': 0.1,\n",
        "    'noise_var': 0.01,\n",
        "    'rotate_angle_range': (-10, 10)\n",
        "}\n",
        "\n",
        "new_data = {\n",
        "    'image_path': [],\n",
        "    'label': []\n",
        "}\n",
        "\n",
        "for i in range(4):\n",
        "  for index, row in all_labels.iterrows():\n",
        "      label = row['label']\n",
        "      # Check if the label contains any digit except 0\n",
        "      if '0' not in label:\n",
        "          image_path = row['image_path']\n",
        "\n",
        "          # Read the image\n",
        "          img = io.imread(image_path, as_gray=True)\n",
        "\n",
        "          # Resize by random ratio\n",
        "          ratio = np.random.uniform(*augmentation_params['resize_range'])\n",
        "          resized_img = transform.rescale(img, scale=ratio, mode='constant')\n",
        "\n",
        "          # Horizontal flip with a certain probability\n",
        "          if np.random.rand() < augmentation_params['flip_prob']:\n",
        "              resized_img = np.fliplr(resized_img)\n",
        "\n",
        "          # Rotate by a random angle\n",
        "          angle = np.random.uniform(*augmentation_params['rotate_angle_range'])\n",
        "          rotated_img = rotate(resized_img, angle, mode='edge')\n",
        "\n",
        "          # Add Gaussian noise\n",
        "          noisy_img = random_noise(rotated_img, var=augmentation_params['noise_var'])\n",
        "\n",
        "          new_data['image_path'].append(noisy_img)\n",
        "          new_data['label'].append(label)\n",
        "\n",
        "new_df = pd.DataFrame(new_data)\n"
      ]
    },
    {
      "cell_type": "code",
      "execution_count": 22,
      "metadata": {
        "id": "kl7w2nIyc8HQ"
      },
      "outputs": [],
      "source": [
        "last_image = len(all_labels)\n",
        "new_im_paths = [os.path.join('/content/created/', f\"{i:05d}.png\") for i in range(last_image, last_image + len(new_df))]\n",
        "new_im_labels = new_df['label']\n",
        "for img_array, new_im_path in zip(new_df['image_path'], new_im_paths):\n",
        "\n",
        "    img_array = (img_array * 255).astype(np.uint8)\n",
        "\n",
        "    # Ensure image array has the correct shape (height x width)\n",
        "    if len(img_array.shape) == 3:\n",
        "        img_array = img_array[:, :, 0]  # Extract the first channel (grayscale)\n",
        "\n",
        "    # Save the grayscale image\n",
        "    cv2.imwrite(new_im_path, img_array)\n",
        "\n",
        "new_df = pd.DataFrame({'image_path': new_im_paths, 'label': new_im_labels})\n",
        "all_labels = pd.concat([all_labels, new_df], ignore_index=True)\n",
        "\n"
      ]
    },
    {
      "cell_type": "code",
      "execution_count": 23,
      "metadata": {
        "colab": {
          "base_uri": "https://localhost:8080/",
          "height": 423
        },
        "id": "eJrOB6XFmEa4",
        "outputId": "c94279ec-a86e-4da1-a882-318272734bc2"
      },
      "outputs": [
        {
          "output_type": "execute_result",
          "data": {
            "text/plain": [
              "                                              image_path    label\n",
              "0      /content/ORAND-CAR-2014/CAR-A/a_test_images/a_...     1500\n",
              "1      /content/ORAND-CAR-2014/CAR-A/a_test_images/a_...     5743\n",
              "2      /content/ORAND-CAR-2014/CAR-A/a_test_images/a_...     1056\n",
              "3      /content/ORAND-CAR-2014/CAR-A/a_test_images/a_...     1000\n",
              "4      /content/ORAND-CAR-2014/CAR-A/a_test_images/a_...     1000\n",
              "...                                                  ...      ...\n",
              "27506                         /content/created/27506.png    45954\n",
              "27507                         /content/created/27507.png   444665\n",
              "27508                         /content/created/27508.png    29524\n",
              "27509                         /content/created/27509.png  6792972\n",
              "27510                         /content/created/27510.png    13356\n",
              "\n",
              "[27511 rows x 2 columns]"
            ],
            "text/html": [
              "\n",
              "\n",
              "  <div id=\"df-a018a3c9-a448-4b2d-b49e-b51d9487fcc6\">\n",
              "    <div class=\"colab-df-container\">\n",
              "      <div>\n",
              "<style scoped>\n",
              "    .dataframe tbody tr th:only-of-type {\n",
              "        vertical-align: middle;\n",
              "    }\n",
              "\n",
              "    .dataframe tbody tr th {\n",
              "        vertical-align: top;\n",
              "    }\n",
              "\n",
              "    .dataframe thead th {\n",
              "        text-align: right;\n",
              "    }\n",
              "</style>\n",
              "<table border=\"1\" class=\"dataframe\">\n",
              "  <thead>\n",
              "    <tr style=\"text-align: right;\">\n",
              "      <th></th>\n",
              "      <th>image_path</th>\n",
              "      <th>label</th>\n",
              "    </tr>\n",
              "  </thead>\n",
              "  <tbody>\n",
              "    <tr>\n",
              "      <th>0</th>\n",
              "      <td>/content/ORAND-CAR-2014/CAR-A/a_test_images/a_...</td>\n",
              "      <td>1500</td>\n",
              "    </tr>\n",
              "    <tr>\n",
              "      <th>1</th>\n",
              "      <td>/content/ORAND-CAR-2014/CAR-A/a_test_images/a_...</td>\n",
              "      <td>5743</td>\n",
              "    </tr>\n",
              "    <tr>\n",
              "      <th>2</th>\n",
              "      <td>/content/ORAND-CAR-2014/CAR-A/a_test_images/a_...</td>\n",
              "      <td>1056</td>\n",
              "    </tr>\n",
              "    <tr>\n",
              "      <th>3</th>\n",
              "      <td>/content/ORAND-CAR-2014/CAR-A/a_test_images/a_...</td>\n",
              "      <td>1000</td>\n",
              "    </tr>\n",
              "    <tr>\n",
              "      <th>4</th>\n",
              "      <td>/content/ORAND-CAR-2014/CAR-A/a_test_images/a_...</td>\n",
              "      <td>1000</td>\n",
              "    </tr>\n",
              "    <tr>\n",
              "      <th>...</th>\n",
              "      <td>...</td>\n",
              "      <td>...</td>\n",
              "    </tr>\n",
              "    <tr>\n",
              "      <th>27506</th>\n",
              "      <td>/content/created/27506.png</td>\n",
              "      <td>45954</td>\n",
              "    </tr>\n",
              "    <tr>\n",
              "      <th>27507</th>\n",
              "      <td>/content/created/27507.png</td>\n",
              "      <td>444665</td>\n",
              "    </tr>\n",
              "    <tr>\n",
              "      <th>27508</th>\n",
              "      <td>/content/created/27508.png</td>\n",
              "      <td>29524</td>\n",
              "    </tr>\n",
              "    <tr>\n",
              "      <th>27509</th>\n",
              "      <td>/content/created/27509.png</td>\n",
              "      <td>6792972</td>\n",
              "    </tr>\n",
              "    <tr>\n",
              "      <th>27510</th>\n",
              "      <td>/content/created/27510.png</td>\n",
              "      <td>13356</td>\n",
              "    </tr>\n",
              "  </tbody>\n",
              "</table>\n",
              "<p>27511 rows × 2 columns</p>\n",
              "</div>\n",
              "      <button class=\"colab-df-convert\" onclick=\"convertToInteractive('df-a018a3c9-a448-4b2d-b49e-b51d9487fcc6')\"\n",
              "              title=\"Convert this dataframe to an interactive table.\"\n",
              "              style=\"display:none;\">\n",
              "\n",
              "  <svg xmlns=\"http://www.w3.org/2000/svg\" height=\"24px\"viewBox=\"0 0 24 24\"\n",
              "       width=\"24px\">\n",
              "    <path d=\"M0 0h24v24H0V0z\" fill=\"none\"/>\n",
              "    <path d=\"M18.56 5.44l.94 2.06.94-2.06 2.06-.94-2.06-.94-.94-2.06-.94 2.06-2.06.94zm-11 1L8.5 8.5l.94-2.06 2.06-.94-2.06-.94L8.5 2.5l-.94 2.06-2.06.94zm10 10l.94 2.06.94-2.06 2.06-.94-2.06-.94-.94-2.06-.94 2.06-2.06.94z\"/><path d=\"M17.41 7.96l-1.37-1.37c-.4-.4-.92-.59-1.43-.59-.52 0-1.04.2-1.43.59L10.3 9.45l-7.72 7.72c-.78.78-.78 2.05 0 2.83L4 21.41c.39.39.9.59 1.41.59.51 0 1.02-.2 1.41-.59l7.78-7.78 2.81-2.81c.8-.78.8-2.07 0-2.86zM5.41 20L4 18.59l7.72-7.72 1.47 1.35L5.41 20z\"/>\n",
              "  </svg>\n",
              "      </button>\n",
              "\n",
              "\n",
              "\n",
              "    <div id=\"df-1914c05b-f132-4bda-8f4b-ab1f854f3667\">\n",
              "      <button class=\"colab-df-quickchart\" onclick=\"quickchart('df-1914c05b-f132-4bda-8f4b-ab1f854f3667')\"\n",
              "              title=\"Suggest charts.\"\n",
              "              style=\"display:none;\">\n",
              "\n",
              "<svg xmlns=\"http://www.w3.org/2000/svg\" height=\"24px\"viewBox=\"0 0 24 24\"\n",
              "     width=\"24px\">\n",
              "    <g>\n",
              "        <path d=\"M19 3H5c-1.1 0-2 .9-2 2v14c0 1.1.9 2 2 2h14c1.1 0 2-.9 2-2V5c0-1.1-.9-2-2-2zM9 17H7v-7h2v7zm4 0h-2V7h2v10zm4 0h-2v-4h2v4z\"/>\n",
              "    </g>\n",
              "</svg>\n",
              "      </button>\n",
              "    </div>\n",
              "\n",
              "<style>\n",
              "  .colab-df-quickchart {\n",
              "    background-color: #E8F0FE;\n",
              "    border: none;\n",
              "    border-radius: 50%;\n",
              "    cursor: pointer;\n",
              "    display: none;\n",
              "    fill: #1967D2;\n",
              "    height: 32px;\n",
              "    padding: 0 0 0 0;\n",
              "    width: 32px;\n",
              "  }\n",
              "\n",
              "  .colab-df-quickchart:hover {\n",
              "    background-color: #E2EBFA;\n",
              "    box-shadow: 0px 1px 2px rgba(60, 64, 67, 0.3), 0px 1px 3px 1px rgba(60, 64, 67, 0.15);\n",
              "    fill: #174EA6;\n",
              "  }\n",
              "\n",
              "  [theme=dark] .colab-df-quickchart {\n",
              "    background-color: #3B4455;\n",
              "    fill: #D2E3FC;\n",
              "  }\n",
              "\n",
              "  [theme=dark] .colab-df-quickchart:hover {\n",
              "    background-color: #434B5C;\n",
              "    box-shadow: 0px 1px 3px 1px rgba(0, 0, 0, 0.15);\n",
              "    filter: drop-shadow(0px 1px 2px rgba(0, 0, 0, 0.3));\n",
              "    fill: #FFFFFF;\n",
              "  }\n",
              "</style>\n",
              "\n",
              "    <script>\n",
              "      async function quickchart(key) {\n",
              "        const containerElement = document.querySelector('#' + key);\n",
              "        const charts = await google.colab.kernel.invokeFunction(\n",
              "            'suggestCharts', [key], {});\n",
              "      }\n",
              "    </script>\n",
              "\n",
              "      <script>\n",
              "\n",
              "function displayQuickchartButton(domScope) {\n",
              "  let quickchartButtonEl =\n",
              "    domScope.querySelector('#df-1914c05b-f132-4bda-8f4b-ab1f854f3667 button.colab-df-quickchart');\n",
              "  quickchartButtonEl.style.display =\n",
              "    google.colab.kernel.accessAllowed ? 'block' : 'none';\n",
              "}\n",
              "\n",
              "        displayQuickchartButton(document);\n",
              "      </script>\n",
              "      <style>\n",
              "    .colab-df-container {\n",
              "      display:flex;\n",
              "      flex-wrap:wrap;\n",
              "      gap: 12px;\n",
              "    }\n",
              "\n",
              "    .colab-df-convert {\n",
              "      background-color: #E8F0FE;\n",
              "      border: none;\n",
              "      border-radius: 50%;\n",
              "      cursor: pointer;\n",
              "      display: none;\n",
              "      fill: #1967D2;\n",
              "      height: 32px;\n",
              "      padding: 0 0 0 0;\n",
              "      width: 32px;\n",
              "    }\n",
              "\n",
              "    .colab-df-convert:hover {\n",
              "      background-color: #E2EBFA;\n",
              "      box-shadow: 0px 1px 2px rgba(60, 64, 67, 0.3), 0px 1px 3px 1px rgba(60, 64, 67, 0.15);\n",
              "      fill: #174EA6;\n",
              "    }\n",
              "\n",
              "    [theme=dark] .colab-df-convert {\n",
              "      background-color: #3B4455;\n",
              "      fill: #D2E3FC;\n",
              "    }\n",
              "\n",
              "    [theme=dark] .colab-df-convert:hover {\n",
              "      background-color: #434B5C;\n",
              "      box-shadow: 0px 1px 3px 1px rgba(0, 0, 0, 0.15);\n",
              "      filter: drop-shadow(0px 1px 2px rgba(0, 0, 0, 0.3));\n",
              "      fill: #FFFFFF;\n",
              "    }\n",
              "  </style>\n",
              "\n",
              "      <script>\n",
              "        const buttonEl =\n",
              "          document.querySelector('#df-a018a3c9-a448-4b2d-b49e-b51d9487fcc6 button.colab-df-convert');\n",
              "        buttonEl.style.display =\n",
              "          google.colab.kernel.accessAllowed ? 'block' : 'none';\n",
              "\n",
              "        async function convertToInteractive(key) {\n",
              "          const element = document.querySelector('#df-a018a3c9-a448-4b2d-b49e-b51d9487fcc6');\n",
              "          const dataTable =\n",
              "            await google.colab.kernel.invokeFunction('convertToInteractive',\n",
              "                                                     [key], {});\n",
              "          if (!dataTable) return;\n",
              "\n",
              "          const docLinkHtml = 'Like what you see? Visit the ' +\n",
              "            '<a target=\"_blank\" href=https://colab.research.google.com/notebooks/data_table.ipynb>data table notebook</a>'\n",
              "            + ' to learn more about interactive tables.';\n",
              "          element.innerHTML = '';\n",
              "          dataTable['output_type'] = 'display_data';\n",
              "          await google.colab.output.renderOutput(dataTable, element);\n",
              "          const docLink = document.createElement('div');\n",
              "          docLink.innerHTML = docLinkHtml;\n",
              "          element.appendChild(docLink);\n",
              "        }\n",
              "      </script>\n",
              "    </div>\n",
              "  </div>\n"
            ]
          },
          "metadata": {},
          "execution_count": 23
        }
      ],
      "source": [
        "all_labels"
      ]
    },
    {
      "cell_type": "markdown",
      "metadata": {
        "id": "Hrax4-LVmEa4"
      },
      "source": [
        "## Preproccesing"
      ]
    },
    {
      "cell_type": "code",
      "execution_count": 24,
      "metadata": {
        "id": "qOcy6QRXmEa4"
      },
      "outputs": [],
      "source": [
        "# Gray scale\n",
        "all_labels = convert_to_grayscale(all_labels,'image_path','./grayscaled/')"
      ]
    },
    {
      "cell_type": "code",
      "execution_count": 25,
      "metadata": {
        "id": "yOfCiK7Fdx2Y",
        "colab": {
          "base_uri": "https://localhost:8080/",
          "height": 300
        },
        "outputId": "99b1c708-be65-4e21-9536-ff3828b97508"
      },
      "outputs": [
        {
          "output_type": "execute_result",
          "data": {
            "text/plain": [
              "              width        height\n",
              "count  27511.000000  27511.000000\n",
              "mean     175.036204     57.226019\n",
              "std       55.911343     13.910263\n",
              "min       28.000000     22.000000\n",
              "25%      136.000000     48.000000\n",
              "50%      170.000000     56.000000\n",
              "75%      207.000000     65.000000\n",
              "max      496.000000    135.000000"
            ],
            "text/html": [
              "\n",
              "\n",
              "  <div id=\"df-58ac2f90-67e4-43b3-9647-6beed21385f2\">\n",
              "    <div class=\"colab-df-container\">\n",
              "      <div>\n",
              "<style scoped>\n",
              "    .dataframe tbody tr th:only-of-type {\n",
              "        vertical-align: middle;\n",
              "    }\n",
              "\n",
              "    .dataframe tbody tr th {\n",
              "        vertical-align: top;\n",
              "    }\n",
              "\n",
              "    .dataframe thead th {\n",
              "        text-align: right;\n",
              "    }\n",
              "</style>\n",
              "<table border=\"1\" class=\"dataframe\">\n",
              "  <thead>\n",
              "    <tr style=\"text-align: right;\">\n",
              "      <th></th>\n",
              "      <th>width</th>\n",
              "      <th>height</th>\n",
              "    </tr>\n",
              "  </thead>\n",
              "  <tbody>\n",
              "    <tr>\n",
              "      <th>count</th>\n",
              "      <td>27511.000000</td>\n",
              "      <td>27511.000000</td>\n",
              "    </tr>\n",
              "    <tr>\n",
              "      <th>mean</th>\n",
              "      <td>175.036204</td>\n",
              "      <td>57.226019</td>\n",
              "    </tr>\n",
              "    <tr>\n",
              "      <th>std</th>\n",
              "      <td>55.911343</td>\n",
              "      <td>13.910263</td>\n",
              "    </tr>\n",
              "    <tr>\n",
              "      <th>min</th>\n",
              "      <td>28.000000</td>\n",
              "      <td>22.000000</td>\n",
              "    </tr>\n",
              "    <tr>\n",
              "      <th>25%</th>\n",
              "      <td>136.000000</td>\n",
              "      <td>48.000000</td>\n",
              "    </tr>\n",
              "    <tr>\n",
              "      <th>50%</th>\n",
              "      <td>170.000000</td>\n",
              "      <td>56.000000</td>\n",
              "    </tr>\n",
              "    <tr>\n",
              "      <th>75%</th>\n",
              "      <td>207.000000</td>\n",
              "      <td>65.000000</td>\n",
              "    </tr>\n",
              "    <tr>\n",
              "      <th>max</th>\n",
              "      <td>496.000000</td>\n",
              "      <td>135.000000</td>\n",
              "    </tr>\n",
              "  </tbody>\n",
              "</table>\n",
              "</div>\n",
              "      <button class=\"colab-df-convert\" onclick=\"convertToInteractive('df-58ac2f90-67e4-43b3-9647-6beed21385f2')\"\n",
              "              title=\"Convert this dataframe to an interactive table.\"\n",
              "              style=\"display:none;\">\n",
              "\n",
              "  <svg xmlns=\"http://www.w3.org/2000/svg\" height=\"24px\"viewBox=\"0 0 24 24\"\n",
              "       width=\"24px\">\n",
              "    <path d=\"M0 0h24v24H0V0z\" fill=\"none\"/>\n",
              "    <path d=\"M18.56 5.44l.94 2.06.94-2.06 2.06-.94-2.06-.94-.94-2.06-.94 2.06-2.06.94zm-11 1L8.5 8.5l.94-2.06 2.06-.94-2.06-.94L8.5 2.5l-.94 2.06-2.06.94zm10 10l.94 2.06.94-2.06 2.06-.94-2.06-.94-.94-2.06-.94 2.06-2.06.94z\"/><path d=\"M17.41 7.96l-1.37-1.37c-.4-.4-.92-.59-1.43-.59-.52 0-1.04.2-1.43.59L10.3 9.45l-7.72 7.72c-.78.78-.78 2.05 0 2.83L4 21.41c.39.39.9.59 1.41.59.51 0 1.02-.2 1.41-.59l7.78-7.78 2.81-2.81c.8-.78.8-2.07 0-2.86zM5.41 20L4 18.59l7.72-7.72 1.47 1.35L5.41 20z\"/>\n",
              "  </svg>\n",
              "      </button>\n",
              "\n",
              "\n",
              "\n",
              "    <div id=\"df-c6a42901-eb29-4bae-a8d5-4c4251d6afd6\">\n",
              "      <button class=\"colab-df-quickchart\" onclick=\"quickchart('df-c6a42901-eb29-4bae-a8d5-4c4251d6afd6')\"\n",
              "              title=\"Suggest charts.\"\n",
              "              style=\"display:none;\">\n",
              "\n",
              "<svg xmlns=\"http://www.w3.org/2000/svg\" height=\"24px\"viewBox=\"0 0 24 24\"\n",
              "     width=\"24px\">\n",
              "    <g>\n",
              "        <path d=\"M19 3H5c-1.1 0-2 .9-2 2v14c0 1.1.9 2 2 2h14c1.1 0 2-.9 2-2V5c0-1.1-.9-2-2-2zM9 17H7v-7h2v7zm4 0h-2V7h2v10zm4 0h-2v-4h2v4z\"/>\n",
              "    </g>\n",
              "</svg>\n",
              "      </button>\n",
              "    </div>\n",
              "\n",
              "<style>\n",
              "  .colab-df-quickchart {\n",
              "    background-color: #E8F0FE;\n",
              "    border: none;\n",
              "    border-radius: 50%;\n",
              "    cursor: pointer;\n",
              "    display: none;\n",
              "    fill: #1967D2;\n",
              "    height: 32px;\n",
              "    padding: 0 0 0 0;\n",
              "    width: 32px;\n",
              "  }\n",
              "\n",
              "  .colab-df-quickchart:hover {\n",
              "    background-color: #E2EBFA;\n",
              "    box-shadow: 0px 1px 2px rgba(60, 64, 67, 0.3), 0px 1px 3px 1px rgba(60, 64, 67, 0.15);\n",
              "    fill: #174EA6;\n",
              "  }\n",
              "\n",
              "  [theme=dark] .colab-df-quickchart {\n",
              "    background-color: #3B4455;\n",
              "    fill: #D2E3FC;\n",
              "  }\n",
              "\n",
              "  [theme=dark] .colab-df-quickchart:hover {\n",
              "    background-color: #434B5C;\n",
              "    box-shadow: 0px 1px 3px 1px rgba(0, 0, 0, 0.15);\n",
              "    filter: drop-shadow(0px 1px 2px rgba(0, 0, 0, 0.3));\n",
              "    fill: #FFFFFF;\n",
              "  }\n",
              "</style>\n",
              "\n",
              "    <script>\n",
              "      async function quickchart(key) {\n",
              "        const containerElement = document.querySelector('#' + key);\n",
              "        const charts = await google.colab.kernel.invokeFunction(\n",
              "            'suggestCharts', [key], {});\n",
              "      }\n",
              "    </script>\n",
              "\n",
              "      <script>\n",
              "\n",
              "function displayQuickchartButton(domScope) {\n",
              "  let quickchartButtonEl =\n",
              "    domScope.querySelector('#df-c6a42901-eb29-4bae-a8d5-4c4251d6afd6 button.colab-df-quickchart');\n",
              "  quickchartButtonEl.style.display =\n",
              "    google.colab.kernel.accessAllowed ? 'block' : 'none';\n",
              "}\n",
              "\n",
              "        displayQuickchartButton(document);\n",
              "      </script>\n",
              "      <style>\n",
              "    .colab-df-container {\n",
              "      display:flex;\n",
              "      flex-wrap:wrap;\n",
              "      gap: 12px;\n",
              "    }\n",
              "\n",
              "    .colab-df-convert {\n",
              "      background-color: #E8F0FE;\n",
              "      border: none;\n",
              "      border-radius: 50%;\n",
              "      cursor: pointer;\n",
              "      display: none;\n",
              "      fill: #1967D2;\n",
              "      height: 32px;\n",
              "      padding: 0 0 0 0;\n",
              "      width: 32px;\n",
              "    }\n",
              "\n",
              "    .colab-df-convert:hover {\n",
              "      background-color: #E2EBFA;\n",
              "      box-shadow: 0px 1px 2px rgba(60, 64, 67, 0.3), 0px 1px 3px 1px rgba(60, 64, 67, 0.15);\n",
              "      fill: #174EA6;\n",
              "    }\n",
              "\n",
              "    [theme=dark] .colab-df-convert {\n",
              "      background-color: #3B4455;\n",
              "      fill: #D2E3FC;\n",
              "    }\n",
              "\n",
              "    [theme=dark] .colab-df-convert:hover {\n",
              "      background-color: #434B5C;\n",
              "      box-shadow: 0px 1px 3px 1px rgba(0, 0, 0, 0.15);\n",
              "      filter: drop-shadow(0px 1px 2px rgba(0, 0, 0, 0.3));\n",
              "      fill: #FFFFFF;\n",
              "    }\n",
              "  </style>\n",
              "\n",
              "      <script>\n",
              "        const buttonEl =\n",
              "          document.querySelector('#df-58ac2f90-67e4-43b3-9647-6beed21385f2 button.colab-df-convert');\n",
              "        buttonEl.style.display =\n",
              "          google.colab.kernel.accessAllowed ? 'block' : 'none';\n",
              "\n",
              "        async function convertToInteractive(key) {\n",
              "          const element = document.querySelector('#df-58ac2f90-67e4-43b3-9647-6beed21385f2');\n",
              "          const dataTable =\n",
              "            await google.colab.kernel.invokeFunction('convertToInteractive',\n",
              "                                                     [key], {});\n",
              "          if (!dataTable) return;\n",
              "\n",
              "          const docLinkHtml = 'Like what you see? Visit the ' +\n",
              "            '<a target=\"_blank\" href=https://colab.research.google.com/notebooks/data_table.ipynb>data table notebook</a>'\n",
              "            + ' to learn more about interactive tables.';\n",
              "          element.innerHTML = '';\n",
              "          dataTable['output_type'] = 'display_data';\n",
              "          await google.colab.output.renderOutput(dataTable, element);\n",
              "          const docLink = document.createElement('div');\n",
              "          docLink.innerHTML = docLinkHtml;\n",
              "          element.appendChild(docLink);\n",
              "        }\n",
              "      </script>\n",
              "    </div>\n",
              "  </div>\n"
            ]
          },
          "metadata": {},
          "execution_count": 25
        }
      ],
      "source": [
        "sizes_df = get_size_dataFrame(all_labels,'./grayscaled/')\n",
        "sizes_df.describe()"
      ]
    },
    {
      "cell_type": "code",
      "source": [
        "heights = sizes_df['height'].value_counts()\n",
        "value_counts_df = heights.reset_index()\n",
        "value_counts_df.columns = ['Value', 'Count']\n",
        "plt.bar(heights.index, heights.values)\n",
        "plt.xlabel('Unique Values')\n",
        "plt.ylabel('Count')\n",
        "plt.title('Count of Unique Values')\n",
        "plt.show()\n"
      ],
      "metadata": {
        "id": "uKF2jFhAksfX"
      },
      "execution_count": null,
      "outputs": []
    },
    {
      "cell_type": "code",
      "source": [
        "widths = sizes_df['width'].value_counts()\n",
        "value_counts_df = widths.reset_index()\n",
        "value_counts_df.columns = ['Value', 'Count']\n",
        "plt.bar(widths.index, widths.values)\n",
        "plt.xlabel('Unique Values')\n",
        "plt.ylabel('Count')\n",
        "plt.title('Count of Unique Values')\n",
        "plt.show()\n"
      ],
      "metadata": {
        "id": "YlN8Zp_SkuZN"
      },
      "execution_count": null,
      "outputs": []
    },
    {
      "cell_type": "code",
      "execution_count": 26,
      "metadata": {
        "id": "LSWVRZPCmEa4"
      },
      "outputs": [],
      "source": [
        "# resize to specific height\n",
        "# target_height = 28\n",
        "# all_labels = resize_images_with_height(all_labels,'./grayscaled/', './resized/', target_height)\n",
        "all_labels = resize_images(all_labels,'./grayscaled/', './resized/', target_height=54,target_width=174)\n"
      ]
    },
    {
      "cell_type": "code",
      "execution_count": 27,
      "metadata": {
        "id": "6VrqCYCuddNc"
      },
      "outputs": [],
      "source": [
        "# Denoising\n",
        "# all_labels = denoise_images(all_labels, './resized/', './denoised/')\n",
        "all_labels = denoise_images_fastnlmeans(all_labels, './resized/', './denoised_fastnlmeans/')\n",
        "\n",
        "# binarizing and inverting\n",
        "# block_size = 9\n",
        "# offset = 0\n",
        "# all_labels = local_threshold_images(all_labels, './edges/', './local_thresholded/', block_size, offset)\n",
        "all_labels = binarize_images(all_labels, './denoised_fastnlmeans/', './binarized/')\n",
        "all_labels = invert_images(all_labels, './denoised_fastnlmeans/', './inverted/')\n",
        "\n"
      ]
    },
    {
      "cell_type": "code",
      "source": [
        "all_labels = invert_images(all_labels, './inverted/', './inverted/')"
      ],
      "metadata": {
        "id": "ngkTtrG7muOb"
      },
      "execution_count": 29,
      "outputs": []
    },
    {
      "cell_type": "code",
      "execution_count": 30,
      "metadata": {
        "id": "oiezZqikdrmO",
        "colab": {
          "base_uri": "https://localhost:8080/",
          "height": 253
        },
        "outputId": "0dff42ff-267b-4dfb-af9d-26ecf7b30f7b"
      },
      "outputs": [
        {
          "output_type": "stream",
          "name": "stdout",
          "text": [
            "label: 1000\n",
            "target: ./inverted/00022.png\n"
          ]
        },
        {
          "output_type": "display_data",
          "data": {
            "text/plain": [
              "<Figure size 640x480 with 1 Axes>"
            ],
            "image/png": "[encoded data removed]"
          },
          "metadata": {}
        }
      ],
      "source": [
        "plot_random_image(all_labels,'./inverted/')"
      ]
    },
    {
      "cell_type": "markdown",
      "metadata": {
        "id": "3FRYsFDUmEa6"
      },
      "source": [
        "based on these two plots its better to resize images to 53*173"
      ]
    },
    {
      "cell_type": "code",
      "execution_count": 31,
      "metadata": {
        "id": "QvJ5k_ewmEa6"
      },
      "outputs": [],
      "source": [
        "digits= '0123456789'\n",
        "img_h=54\n",
        "img_w=174\n",
        "#image Channels\n",
        "img_c=1\n",
        "\n",
        "# classes for softmax with number of letters +1 for blank space in ctc\n",
        "num_classes=len(digits) +1\n",
        "batch_size=64\n",
        "max_length=8 # considering max length of ground truths labels to be 8"
      ]
    },
    {
      "cell_type": "code",
      "execution_count": 32,
      "metadata": {
        "id": "VE5RTkR_mEa6"
      },
      "outputs": [],
      "source": [
        "def encode_numbers_labels(number):\n",
        "    label_lst=[]\n",
        "    for char in str(number):\n",
        "        label_lst.append(digits.find(char)) # keeping 0 for blank and for padding labels\n",
        "    return label_lst"
      ]
    },
    {
      "cell_type": "code",
      "execution_count": 33,
      "metadata": {
        "id": "lhbqr4YRmEa6"
      },
      "outputs": [],
      "source": [
        "def numbers_from_labels(labels):\n",
        "    txt=[]\n",
        "    for ele in labels:\n",
        "        if ele == len(digits): # CTC blank space\n",
        "            txt.append(\"\")\n",
        "        else:\n",
        "            #print(letters[ele])\n",
        "            txt.append(digits[ele])\n",
        "    return \"\".join(txt)"
      ]
    },
    {
      "cell_type": "code",
      "execution_count": 34,
      "metadata": {
        "id": "URhzfdB5mEa7"
      },
      "outputs": [],
      "source": [
        "def ctc_loss_function(args):\n",
        "    y_pred, y_true, input_length, label_length = args\n",
        "    y_pred = y_pred[:, 2:, :] # maybe need change based on my project and model architecture\n",
        "    return K.ctc_batch_cost(y_true, y_pred, input_length, label_length)"
      ]
    },
    {
      "cell_type": "code",
      "execution_count": 35,
      "metadata": {
        "id": "pCFXRGthmEa7"
      },
      "outputs": [],
      "source": [
        "from keras.layers import Input, Conv2D, MaxPool2D, Dense,MaxPooling2D\n",
        "from keras.layers import AveragePooling2D, Flatten, Activation, Bidirectional\n",
        "from keras.layers import BatchNormalization, Dropout\n",
        "from keras.layers import Concatenate, Add, Multiply, Lambda\n",
        "from keras.layers import UpSampling2D, Reshape\n",
        "from keras.layers import add, concatenate\n",
        "from keras.layers import Reshape\n",
        "from keras.models import Model\n",
        "from keras.layers import LSTM,GRU\n",
        "import tensorflow as tf"
      ]
    },
    {
      "cell_type": "code",
      "execution_count": 36,
      "metadata": {
        "id": "UPQcnAQSmEa7"
      },
      "outputs": [],
      "source": [
        "def Image_digit_recogniser_model_1(stage,drop_out_rate=0.35):\n",
        "    img_h=54\n",
        "    img_w=174\n",
        "    if K.image_data_format() == 'channels_first':\n",
        "        input_shape = (1, img_w, img_h)\n",
        "    else:\n",
        "        input_shape = (img_w, img_h, 1)\n",
        "        #input shape is (174, 54, 1)\n",
        "        #input shape is (174, 54, 64)\n",
        "        #input shape is (87, 27, 64)\n",
        "        #input shape is (87, 27, 128)\n",
        "        #input shape is (43, 13, 128)\n",
        "        #input shape is (43, 13, 256)\n",
        "        #input shape is (43, 6, 512)\n",
        "        #input shape is (43, 3, 512)\n",
        "        #input shape is (43, 1536)\n",
        "    model_input=Input(shape=input_shape,name='img_input',dtype='float32')\n",
        "\n",
        "    # Convolution layer\n",
        "    model = Conv2D(64, (3, 3), padding='same', name='conv1', kernel_initializer='he_normal')(model_input)\n",
        "    model = BatchNormalization()(model)\n",
        "    model = Activation('relu')(model)\n",
        "    model = MaxPooling2D(pool_size=(2, 2), name='max1')(model)\n",
        "\n",
        "    model = Conv2D(128, (3, 3), padding='same', name='conv2', kernel_initializer='he_normal')(model)\n",
        "    model = BatchNormalization()(model)\n",
        "    model = Activation('relu')(model)\n",
        "    model = MaxPooling2D(pool_size=(2, 2), name='max2')(model)\n",
        "\n",
        "    model = Conv2D(256, (3, 3), padding='same', name='conv3', kernel_initializer='he_normal')(model)\n",
        "    model = BatchNormalization()(model)\n",
        "    model = Activation('relu')(model)\n",
        "    model = Conv2D(256, (3, 3), padding='same', name='conv4', kernel_initializer='he_normal')(model)\n",
        "    model=Dropout(drop_out_rate)(model)\n",
        "    model = BatchNormalization()(model)\n",
        "    model = Activation('relu')(model)\n",
        "    model = MaxPooling2D(pool_size=(1, 3), name='max3')(model)\n",
        "\n",
        "    model = Conv2D(512, (3, 3), padding='same', name='conv5', kernel_initializer='he_normal')(model)\n",
        "    model = BatchNormalization()(model)\n",
        "    model = Activation('relu')(model)\n",
        "    model = Conv2D(512, (3, 3), padding='same', name='conv6')(model)\n",
        "    model=Dropout(drop_out_rate)(model)\n",
        "    model = BatchNormalization()(model)\n",
        "    model = Activation('relu')(model)\n",
        "    model = MaxPooling2D(pool_size=(1, 2), name='max4')(model)\n",
        "\n",
        "    model = Conv2D(512, (2, 2), padding='same', kernel_initializer='he_normal', name='con7')(model)\n",
        "    model=Dropout(0.25)(model)\n",
        "    model = BatchNormalization()(model)\n",
        "    model = Activation('relu')(model)\n",
        "\n",
        "    # CNN to RNN\n",
        "    model = Reshape(target_shape=(43, 1024), name='reshape')(model)\n",
        "\n",
        "    model = Dense(64, activation='relu', kernel_initializer='he_normal', name='dense1')(model)\n",
        "\n",
        "    # RNN layer\n",
        "    model=Bidirectional(LSTM(256, return_sequences=True, kernel_initializer='he_normal'), merge_mode='sum')(model)\n",
        "    model=Bidirectional(LSTM(256, return_sequences=True, kernel_initializer='he_normal'), merge_mode='concat')(model)\n",
        "\n",
        "    # transforms RNN output to character activations:\n",
        "    model = Dense(num_classes, kernel_initializer='he_normal',name='dense2')(model)\n",
        "    y_pred = Activation('softmax', name='softmax')(model)\n",
        "\n",
        "\n",
        "    labels = Input(name='ground_truth_labels', shape=[max_length], dtype='float32')\n",
        "    input_length = Input(name='input_length', shape=[1], dtype='int64')\n",
        "    label_length = Input(name='label_length', shape=[1], dtype='int64')\n",
        "\n",
        "    #CTC loss function\n",
        "    loss_out = Lambda(ctc_loss_function, output_shape=(1,),name='ctc')([y_pred, labels, input_length, label_length]) #(None, 1)\n",
        "\n",
        "    if stage=='train':\n",
        "        return model_input,y_pred,Model(inputs=[model_input, labels, input_length, label_length], outputs=loss_out)\n",
        "    else:\n",
        "        return Model(inputs=[model_input], outputs=y_pred)\n",
        "\n"
      ]
    },
    {
      "cell_type": "code",
      "execution_count": 37,
      "metadata": {
        "id": "2XmZMFAouVx8"
      },
      "outputs": [],
      "source": [
        "from keras import optimizers\n",
        "adam=optimizers.Adam()"
      ]
    },
    {
      "cell_type": "code",
      "execution_count": 38,
      "metadata": {
        "id": "53w-0o1tmEa7",
        "colab": {
          "base_uri": "https://localhost:8080/"
        },
        "outputId": "1d21a28e-e85a-47e3-9e90-f706332f8b60"
      },
      "outputs": [
        {
          "output_type": "stream",
          "name": "stdout",
          "text": [
            "Model: \"model\"\n",
            "__________________________________________________________________________________________________\n",
            " Layer (type)                   Output Shape         Param #     Connected to                     \n",
            "==================================================================================================\n",
            " img_input (InputLayer)         [(None, 174, 54, 1)  0           []                               \n",
            "                                ]                                                                 \n",
            "                                                                                                  \n",
            " conv1 (Conv2D)                 (None, 174, 54, 64)  640         ['img_input[0][0]']              \n",
            "                                                                                                  \n",
            " batch_normalization (BatchNorm  (None, 174, 54, 64)  256        ['conv1[0][0]']                  \n",
            " alization)                                                                                       \n",
            "                                                                                                  \n",
            " activation (Activation)        (None, 174, 54, 64)  0           ['batch_normalization[0][0]']    \n",
            "                                                                                                  \n",
            " max1 (MaxPooling2D)            (None, 87, 27, 64)   0           ['activation[0][0]']             \n",
            "                                                                                                  \n",
            " conv2 (Conv2D)                 (None, 87, 27, 128)  73856       ['max1[0][0]']                   \n",
            "                                                                                                  \n",
            " batch_normalization_1 (BatchNo  (None, 87, 27, 128)  512        ['conv2[0][0]']                  \n",
            " rmalization)                                                                                     \n",
            "                                                                                                  \n",
            " activation_1 (Activation)      (None, 87, 27, 128)  0           ['batch_normalization_1[0][0]']  \n",
            "                                                                                                  \n",
            " max2 (MaxPooling2D)            (None, 43, 13, 128)  0           ['activation_1[0][0]']           \n",
            "                                                                                                  \n",
            " conv3 (Conv2D)                 (None, 43, 13, 256)  295168      ['max2[0][0]']                   \n",
            "                                                                                                  \n",
            " batch_normalization_2 (BatchNo  (None, 43, 13, 256)  1024       ['conv3[0][0]']                  \n",
            " rmalization)                                                                                     \n",
            "                                                                                                  \n",
            " activation_2 (Activation)      (None, 43, 13, 256)  0           ['batch_normalization_2[0][0]']  \n",
            "                                                                                                  \n",
            " conv4 (Conv2D)                 (None, 43, 13, 256)  590080      ['activation_2[0][0]']           \n",
            "                                                                                                  \n",
            " dropout (Dropout)              (None, 43, 13, 256)  0           ['conv4[0][0]']                  \n",
            "                                                                                                  \n",
            " batch_normalization_3 (BatchNo  (None, 43, 13, 256)  1024       ['dropout[0][0]']                \n",
            " rmalization)                                                                                     \n",
            "                                                                                                  \n",
            " activation_3 (Activation)      (None, 43, 13, 256)  0           ['batch_normalization_3[0][0]']  \n",
            "                                                                                                  \n",
            " max3 (MaxPooling2D)            (None, 43, 4, 256)   0           ['activation_3[0][0]']           \n",
            "                                                                                                  \n",
            " conv5 (Conv2D)                 (None, 43, 4, 512)   1180160     ['max3[0][0]']                   \n",
            "                                                                                                  \n",
            " batch_normalization_4 (BatchNo  (None, 43, 4, 512)  2048        ['conv5[0][0]']                  \n",
            " rmalization)                                                                                     \n",
            "                                                                                                  \n",
            " activation_4 (Activation)      (None, 43, 4, 512)   0           ['batch_normalization_4[0][0]']  \n",
            "                                                                                                  \n",
            " conv6 (Conv2D)                 (None, 43, 4, 512)   2359808     ['activation_4[0][0]']           \n",
            "                                                                                                  \n",
            " dropout_1 (Dropout)            (None, 43, 4, 512)   0           ['conv6[0][0]']                  \n",
            "                                                                                                  \n",
            " batch_normalization_5 (BatchNo  (None, 43, 4, 512)  2048        ['dropout_1[0][0]']              \n",
            " rmalization)                                                                                     \n",
            "                                                                                                  \n",
            " activation_5 (Activation)      (None, 43, 4, 512)   0           ['batch_normalization_5[0][0]']  \n",
            "                                                                                                  \n",
            " max4 (MaxPooling2D)            (None, 43, 2, 512)   0           ['activation_5[0][0]']           \n",
            "                                                                                                  \n",
            " con7 (Conv2D)                  (None, 43, 2, 512)   1049088     ['max4[0][0]']                   \n",
            "                                                                                                  \n",
            " dropout_2 (Dropout)            (None, 43, 2, 512)   0           ['con7[0][0]']                   \n",
            "                                                                                                  \n",
            " batch_normalization_6 (BatchNo  (None, 43, 2, 512)  2048        ['dropout_2[0][0]']              \n",
            " rmalization)                                                                                     \n",
            "                                                                                                  \n",
            " activation_6 (Activation)      (None, 43, 2, 512)   0           ['batch_normalization_6[0][0]']  \n",
            "                                                                                                  \n",
            " reshape (Reshape)              (None, 43, 1024)     0           ['activation_6[0][0]']           \n",
            "                                                                                                  \n",
            " dense1 (Dense)                 (None, 43, 64)       65600       ['reshape[0][0]']                \n",
            "                                                                                                  \n",
            " bidirectional (Bidirectional)  (None, 43, 256)      657408      ['dense1[0][0]']                 \n",
            "                                                                                                  \n",
            " bidirectional_1 (Bidirectional  (None, 43, 512)     1050624     ['bidirectional[0][0]']          \n",
            " )                                                                                                \n",
            "                                                                                                  \n",
            " dense2 (Dense)                 (None, 43, 11)       5643        ['bidirectional_1[0][0]']        \n",
            "                                                                                                  \n",
            " softmax (Activation)           (None, 43, 11)       0           ['dense2[0][0]']                 \n",
            "                                                                                                  \n",
            " ground_truth_labels (InputLaye  [(None, 8)]         0           []                               \n",
            " r)                                                                                               \n",
            "                                                                                                  \n",
            " input_length (InputLayer)      [(None, 1)]          0           []                               \n",
            "                                                                                                  \n",
            " label_length (InputLayer)      [(None, 1)]          0           []                               \n",
            "                                                                                                  \n",
            " ctc (Lambda)                   (None, 1)            0           ['softmax[0][0]',                \n",
            "                                                                  'ground_truth_labels[0][0]',    \n",
            "                                                                  'input_length[0][0]',           \n",
            "                                                                  'label_length[0][0]']           \n",
            "                                                                                                  \n",
            "==================================================================================================\n",
            "Total params: 7,337,035\n",
            "Trainable params: 7,332,555\n",
            "Non-trainable params: 4,480\n",
            "__________________________________________________________________________________________________\n"
          ]
        }
      ],
      "source": [
        "model_input,y_pred,img_digit_recog=Image_digit_recogniser_model_1('train')\n",
        "test_func = K.function([model_input], [y_pred])\n",
        "img_digit_recog.compile(loss={'ctc': lambda y_true, y_pred: y_pred}, optimizer=adam)\n",
        "img_digit_recog.summary()"
      ]
    },
    {
      "cell_type": "markdown",
      "metadata": {
        "id": "RfPKZ-EgmEa7"
      },
      "source": [
        "# defining data generators"
      ]
    },
    {
      "cell_type": "code",
      "execution_count": 39,
      "metadata": {
        "id": "dDkBoU4lmEa7"
      },
      "outputs": [],
      "source": [
        "class DataGenerator(keras.callbacks.Callback):\n",
        "    def __init__(self, df, img_w, img_h, batch_size, max_number_len=8):\n",
        "        self.img_h = img_h\n",
        "        self.img_w = img_w\n",
        "        self.batch_size = batch_size\n",
        "        self.max_number_len = max_number_len\n",
        "\n",
        "        self.df = df\n",
        "        self.n = len(df)\n",
        "        self.indexes = list(range(self.n))\n",
        "        self.cur_index = 0\n",
        "        self.imgs = np.zeros((self.n, self.img_h, self.img_w))\n",
        "        self.numbers = df['label'].tolist()  # Extract related labels from DataFrame\n",
        "\n",
        "\n",
        "    def build_data(self):\n",
        "        print(self.n, \" Image Loading start...\")\n",
        "        for i, img_file in enumerate(self.df['./inverted/']):\n",
        "            img = cv2.imread(img_file)\n",
        "            img = img[:,:,1]                               #Extracting Single Channel Image\n",
        "            img = cv2.resize(img, (self.img_w, self.img_h))\n",
        "            img = img /255\n",
        "            self.imgs[i, :, :]= img\n",
        "            if i%5000==0:\n",
        "                print(\"Loaded Images: \",i)\n",
        "\n",
        "        print(\"Number of Texts matches with Total Number of Images :\",len(self.numbers) == self.n)\n",
        "        print(self.n, \" Image Loading finish...\")\n",
        "\n",
        "    def next_data(self):\n",
        "        self.cur_index += 1\n",
        "        if self.cur_index >= self.n:\n",
        "            self.cur_index = 0\n",
        "            random.shuffle(self.indexes)\n",
        "        return self.imgs[self.indexes[self.cur_index]], self.numbers[self.indexes[self.cur_index]]\n",
        "\n",
        "    def next_batch(self):\n",
        "        while True:\n",
        "            X_data = np.ones([self.batch_size, self.img_w, self.img_h, 1])\n",
        "            Y_data = np.ones([self.batch_size, self.max_number_len])* -1\n",
        "            input_length = np.ones((self.batch_size, 1)) * 40\n",
        "            label_length = np.zeros((self.batch_size, 1))                   #label length for CTC\n",
        "            source_str=[]                                                   #List to store Ground Truth Labels\n",
        "            for i in range(self.batch_size):\n",
        "                img, text = self.next_data() #getting the image and text data pointed by current index\n",
        "                                    #taking transpose of image\n",
        "                img=img.T\n",
        "                img = np.expand_dims(img, -1)  #expanding image to have a single channel\n",
        "                X_data[i] = img\n",
        "                label=encode_numbers_labels(text) # encoding label text to integer list and storing in temp label variable\n",
        "                lbl_len=len(label)\n",
        "                Y_data[i,0:lbl_len] = label #Storing the label till its length and padding others\n",
        "                label_length[i] = len(label)\n",
        "                source_str.append(text) #storing Ground Truth Labels which will be accessed as reference for calculating metrics\n",
        "\n",
        "        #Preparing the input for the Model\n",
        "            inputs = {\n",
        "                'img_input': X_data,\n",
        "                'ground_truth_labels': Y_data,\n",
        "                'input_length': input_length,\n",
        "                'label_length': label_length,\n",
        "                'source_str': source_str  # used for visualization only\n",
        "            }\n",
        "            #Preparing output for the Model and intializing to zeros\n",
        "            outputs = {'ctc': np.zeros([self.batch_size])}\n",
        "            yield (inputs, outputs) # Return the Prepared input and output to the Model"
      ]
    },
    {
      "cell_type": "code",
      "execution_count": 43,
      "metadata": {
        "id": "eYbwKGvZbs2d"
      },
      "outputs": [],
      "source": [
        "test_set_precentage = int(len(all_labels) * 0.8)\n",
        "val_set_precentage = int(len(all_labels) * 0.7 // 1)"
      ]
    },
    {
      "cell_type": "code",
      "source": [
        "test_set_precentage,val_set_precentage"
      ],
      "metadata": {
        "colab": {
          "base_uri": "https://localhost:8080/"
        },
        "id": "QyKng_GsnCyM",
        "outputId": "fd7031f5-b457-463e-8160-096349096efc"
      },
      "execution_count": 44,
      "outputs": [
        {
          "output_type": "execute_result",
          "data": {
            "text/plain": [
              "(22008, 19257)"
            ]
          },
          "metadata": {},
          "execution_count": 44
        }
      ]
    },
    {
      "cell_type": "code",
      "execution_count": 45,
      "metadata": {
        "colab": {
          "base_uri": "https://localhost:8080/"
        },
        "id": "r5wr7dwXmEa8",
        "outputId": "cb192988-1ca9-4e0c-cfff-31b838f6ab1a"
      },
      "outputs": [
        {
          "output_type": "stream",
          "name": "stdout",
          "text": [
            "19257  Image Loading start...\n",
            "Loaded Images:  0\n",
            "Loaded Images:  5000\n",
            "Loaded Images:  10000\n",
            "Loaded Images:  15000\n",
            "Number of Texts matches with Total Number of Images : True\n",
            "19257  Image Loading finish...\n"
          ]
        }
      ],
      "source": [
        "train_gene = DataGenerator(all_labels[:val_set_precentage], img_w, img_h, batch_size, max_number_len=8)\n",
        "train_gene.build_data()\n",
        "train_num_batches=int(train_gene.n / batch_size)"
      ]
    },
    {
      "cell_type": "code",
      "execution_count": 46,
      "metadata": {
        "colab": {
          "base_uri": "https://localhost:8080/"
        },
        "id": "l4aGuD27mEa8",
        "outputId": "47cc2e7f-76ef-40f4-891d-3bcadfe878ee"
      },
      "outputs": [
        {
          "output_type": "stream",
          "name": "stdout",
          "text": [
            "2751  Image Loading start...\n",
            "Loaded Images:  0\n",
            "Number of Texts matches with Total Number of Images : True\n",
            "2751  Image Loading finish...\n"
          ]
        }
      ],
      "source": [
        "val_gen=DataGenerator(all_labels[val_set_precentage:test_set_precentage], img_w, img_h, batch_size, max_number_len=8)\n",
        "val_gen.build_data()\n",
        "val_num_batches=int(val_gen.n / batch_size)"
      ]
    },
    {
      "cell_type": "code",
      "execution_count": 47,
      "metadata": {
        "id": "z2HttGl6mEa8"
      },
      "outputs": [],
      "source": [
        "def decode_batch(test_func, number_batch):\n",
        "    out = test_func([number_batch])[0] #returns the predicted output matrix of the model\n",
        "    ret = []\n",
        "    for j in range(out.shape[0]):\n",
        "        out_best = list(np.argmax(out[j, 2:], 1))\n",
        "        out_best = [k for k, g in itertools.groupby(out_best)]\n",
        "        outstr = numbers_from_labels(out_best)\n",
        "        ret.append(outstr)\n",
        "    return ret"
      ]
    },
    {
      "cell_type": "code",
      "execution_count": 48,
      "metadata": {
        "id": "b10F3rgCmEa8"
      },
      "outputs": [],
      "source": [
        "def accuracies(actual_labels,predicted_labels,is_train):\n",
        "    accuracy=0\n",
        "    letter_acc=0\n",
        "    letter_cnt=0\n",
        "    count=0\n",
        "    for i in range(len(actual_labels)):\n",
        "        predicted_output=predicted_labels[i]\n",
        "        actual_output=actual_labels[i]\n",
        "        count+=1\n",
        "        for j in range(min(len(predicted_output),len(actual_output))):\n",
        "            if predicted_output[j]==actual_output[j]:\n",
        "                letter_acc+=1\n",
        "        letter_cnt+=max(len(predicted_output),len(actual_output))\n",
        "        if actual_output==predicted_output:\n",
        "            accuracy+=1\n",
        "    final_accuracy=np.round((accuracy/len(actual_labels))*100,2)\n",
        "    final_letter_acc=np.round((letter_acc/letter_cnt)*100,2)\n",
        "    return final_accuracy,final_letter_acc"
      ]
    },
    {
      "cell_type": "markdown",
      "metadata": {
        "id": "mVlHWdrAmEa8"
      },
      "source": [
        "## callback visualizer"
      ]
    },
    {
      "cell_type": "code",
      "execution_count": 49,
      "metadata": {
        "id": "wJ4Awe13mEa8"
      },
      "outputs": [],
      "source": [
        "class VizCallback(keras.callbacks.Callback):\n",
        "    \"\"\"\n",
        "    The Custom Callback created for printing the Accuracy and Letter Accuracy Metrics at the End of Each Epoch\n",
        "    \"\"\"\n",
        "\n",
        "    def __init__(self, test_func, text_img_gen,is_train,acc_compute_batches):\n",
        "        self.test_func = test_func\n",
        "        self.text_img_gen = text_img_gen\n",
        "        self.is_train=is_train                #used to indicate whether the callback is called to for Train or Validation Data\n",
        "        self.acc_batches=acc_compute_batches  # Number of Batches for which the metrics are computed typically equal to steps/epoch\n",
        "\n",
        "    def show_accuracy_metrics(self,num_batches):\n",
        "        \"\"\"\n",
        "        Calculates the accuracy and letter accuracy for each batch of inputs,\n",
        "        and prints the avarage accuracy and letter accuracy across all the batches\n",
        "        \"\"\"\n",
        "        accuracy=0\n",
        "        letter_accuracy=0\n",
        "        batches_cnt=num_batches\n",
        "        while batches_cnt>0:\n",
        "            number_batch = next(self.text_img_gen)[0]   #Gets the next batch from the Data generator\n",
        "            decoded_res = decode_batch(self.test_func,number_batch['img_input'])\n",
        "            actual_res=number_batch['source_str']\n",
        "            acc,let_acc=accuracies(actual_res,decoded_res,self.is_train)\n",
        "            accuracy+=acc\n",
        "            letter_accuracy+=let_acc\n",
        "            batches_cnt-=1\n",
        "        accuracy=accuracy/num_batches\n",
        "        letter_accuracy=letter_accuracy/num_batches\n",
        "        if self.is_train:\n",
        "            print(\"\\nTrain Average Accuracy of \"+str(num_batches)+\" Batches: \",np.round(accuracy,2),\" %\")\n",
        "            print(\"Train Average Letter Accuracy of \"+str(num_batches)+\" Batches: \",np.round(letter_accuracy,2),\" %\")\n",
        "        else:\n",
        "            print(\"Validation Average Accuracy of \"+str(num_batches)+\" Batches: \",np.round(accuracy,2),\" %\")\n",
        "            print(\"Validation Average Letter Accuracy of \"+str(num_batches)+\" Batches: \",np.round(letter_accuracy,2),\" %\")\n",
        "\n",
        "\n",
        "    def on_epoch_end(self, epoch, logs={}):\n",
        "        self.show_accuracy_metrics(self.acc_batches)"
      ]
    },
    {
      "cell_type": "code",
      "execution_count": 50,
      "metadata": {
        "id": "T4UX-ztHmEa9"
      },
      "outputs": [],
      "source": [
        "from keras.callbacks import EarlyStopping,ModelCheckpoint\n",
        "early_stop=EarlyStopping(monitor='val_loss',patience=2,restore_best_weights=True)\n",
        "model_chk_pt=ModelCheckpoint('weights.{epoch:02d}-{val_loss:.2f}.hdf5', monitor='val_loss', save_best_only=False,save_weights_only=True,verbose=0, mode='auto', period=2)\n",
        "logdir = os.path.join(\"logs_127\", datetime.datetime.now().strftime(\"%Y%m%d-%H%M%S\"))\n",
        "tensorboard_callback = keras.callbacks.TensorBoard(log_dir=logdir)"
      ]
    },
    {
      "cell_type": "code",
      "execution_count": 53,
      "metadata": {
        "id": "HCjAIohimEa9"
      },
      "outputs": [],
      "source": [
        "%load_ext tensorboard\n",
        "%tensorboard --logdir logs_127\n",
        "clear_output()"
      ]
    },
    {
      "cell_type": "code",
      "execution_count": 54,
      "metadata": {
        "id": "p3K33p1ZmEa9"
      },
      "outputs": [],
      "source": [
        "viz_cb_train = VizCallback( test_func, train_gene.next_batch(),True,train_num_batches)\n",
        "viz_cb_val = VizCallback( test_func, val_gen.next_batch(),False,val_num_batches)"
      ]
    },
    {
      "cell_type": "code",
      "execution_count": null,
      "metadata": {
        "colab": {
          "base_uri": "https://localhost:8080/"
        },
        "id": "1Q3bsRqhmEa9",
        "outputId": "d8bdd911-afd2-4740-fc43-a99ba4a543d8"
      },
      "outputs": [
        {
          "output_type": "stream",
          "name": "stdout",
          "text": [
            "Epoch 1/30\n"
          ]
        },
        {
          "output_type": "stream",
          "name": "stderr",
          "text": [
            "/usr/local/lib/python3.10/dist-packages/keras/engine/functional.py:639: UserWarning: Input dict contained keys ['source_str'] which did not match any model input. They will be ignored by the model.\n",
            "  inputs = self._flatten_to_reference_inputs(inputs)\n"
          ]
        },
        {
          "output_type": "stream",
          "name": "stdout",
          "text": [
            " 10/300 [>.............................] - ETA: 1:27:04 - loss: 19.6545"
          ]
        }
      ],
      "source": [
        "history = img_digit_recog.fit(\n",
        "    train_gene.next_batch(),\n",
        "    steps_per_epoch=int(train_gene.n / batch_size),\n",
        "    epochs=30,\n",
        "    callbacks=[viz_cb_train, viz_cb_val, train_gene, val_gen, tensorboard_callback, early_stop, model_chk_pt],\n",
        "    validation_data=val_gen.next_batch(),\n",
        "    validation_steps=int(val_gen.n / batch_size)\n",
        ")\n",
        "img_digit_recog.save(\"forth_model.h5\")\n",
        "print(\"model saved\")\n"
      ]
    },
    {
      "cell_type": "code",
      "execution_count": null,
      "metadata": {
        "id": "FgSoPyi2tm_c"
      },
      "outputs": [],
      "source": [
        "plt.plot(history.history['loss'])\n",
        "plt.plot(history.history['val_loss'])\n",
        "plt.title('Model Loss')\n",
        "plt.xlabel('Epoch')\n",
        "plt.ylabel('Loss')\n",
        "plt.legend(['Train', 'Validation'], loc='upper right')\n",
        "plt.show()\n",
        "\n"
      ]
    },
    {
      "cell_type": "markdown",
      "metadata": {
        "id": "uAni2PPnuivb"
      },
      "source": [
        "## now measure our model on test dataset\n",
        "\n",
        "actually we dont have dataset\n",
        "\n",
        "so we can use new data or train out model on smaller dataset"
      ]
    },
    {
      "cell_type": "code",
      "execution_count": null,
      "metadata": {
        "id": "xbbEUvAevBmG"
      },
      "outputs": [],
      "source": [
        "def decode_label(out):\n",
        "    out_best = list(np.argmax(out[0,2:], axis=1))\n",
        "\n",
        "    out_best = [k for k, g in itertools.groupby(out_best)]  # remove overlap value\n",
        "\n",
        "    outstr=numbers_from_labels(out_best)\n",
        "    return outstr"
      ]
    },
    {
      "cell_type": "markdown",
      "metadata": {
        "id": "_77ioBLxxCKT"
      },
      "source": [
        "test on an image created by myself"
      ]
    },
    {
      "cell_type": "code",
      "execution_count": null,
      "metadata": {
        "id": "7Y3T6YsW-3hF"
      },
      "outputs": [],
      "source": [
        "model=Image_digit_recogniser_model_1('predict')\n",
        "# model = keras.models.load_model('first_model.h5',compile=False)\n",
        "model.load_weights('forth_model.h5')"
      ]
    },
    {
      "cell_type": "code",
      "execution_count": null,
      "metadata": {
        "id": "t2imGbXlZLLf"
      },
      "outputs": [],
      "source": [
        "test_data = all_labels[test_set_precentage:]\n",
        "val_img_names=test_data['./inverted/'].values\n",
        "val_labels=test_data['label'].values"
      ]
    },
    {
      "cell_type": "code",
      "execution_count": null,
      "metadata": {
        "id": "SFUs5KstJEbg"
      },
      "outputs": [],
      "source": [
        "def test_data_output_Prediction(model, test_img_names, test_labels):\n",
        "    num_classes = 10  # Assuming there are 10 digits (0 to 9)\n",
        "    accuracy = 0\n",
        "    letter_acc = [0] * num_classes\n",
        "    letter_total = [0] * num_classes\n",
        "    count = 0\n",
        "    all_predicted = []\n",
        "    letter_mis_match = []\n",
        "\n",
        "    for i in range(len(test_labels)):\n",
        "        test_img = cv2.imread(test_img_names[i])\n",
        "        test_img_resized = cv2.resize(test_img, (174, 54))\n",
        "        test_image = test_img_resized[:, :, 1]\n",
        "        test_image = test_image.T\n",
        "        test_image = np.expand_dims(test_image, axis=-1)\n",
        "        test_image = np.expand_dims(test_image, axis=0)\n",
        "        test_image = test_image / 255\n",
        "        model_output = model.predict(test_image, verbose=-1)\n",
        "        predicted_output = decode_label(model_output)\n",
        "        actual_output = test_labels[i]\n",
        "        all_predicted.append([test_img_names[i], predicted_output])\n",
        "        count += 1\n",
        "        mis_match = 0\n",
        "\n",
        "        for j in range(min(len(predicted_output), len(actual_output))):\n",
        "            if predicted_output[j] == actual_output[j]:\n",
        "                letter_acc[int(predicted_output[j])] += 1\n",
        "            else:\n",
        "                mis_match += 1\n",
        "            letter_total[int(actual_output[j])] += 1\n",
        "\n",
        "        letter_mis_match.append(mis_match)\n",
        "        if actual_output == predicted_output:\n",
        "            accuracy += 1\n",
        "\n",
        "        if (count % 200) == 0:\n",
        "            print(\"Processed\", count, \"Images\")\n",
        "\n",
        "    digit_accuracy = [acc / total if total > 0 else 0 for acc, total in zip(letter_acc, letter_total)]\n",
        "    return accuracy, letter_acc, letter_total, digit_accuracy, letter_mis_match, all_predicted\n"
      ]
    },
    {
      "cell_type": "code",
      "execution_count": null,
      "metadata": {
        "id": "SusSl3TmvI4Q"
      },
      "outputs": [],
      "source": [
        "synth_val_accuracy,letter_acc,synth_val_letter_acc,synth_val_letter_cnt,synth_val_mis_match,all_predicted=test_data_output_Prediction(model,val_img_names,val_labels)\n",
        "synth_val_accuracy,letter_acc,synth_val_letter_acc,synth_val_letter_cnt,synth_val_mis_match\n"
      ]
    },
    {
      "cell_type": "code",
      "execution_count": null,
      "metadata": {
        "id": "oAJf3ElZceJ0"
      },
      "outputs": [],
      "source": [
        "true_list = []\n",
        "for i in range(len(all_labels['label'].iloc[test_set_precentage:])):\n",
        "  if str(all_labels['label'].iloc[test_set_precentage + i]) == str(all_predicted[i][1]):\n",
        "    true_list.append(1)\n",
        "  else:\n",
        "    print(all_labels['label'].astype(str).iloc[test_set_precentage + i],\" == \",all_predicted[i][1],\"image -->\",all_predicted[i][0])\n",
        "    true_list.append(0)\n",
        "trues = pd.DataFrame(true_list)\n",
        "trues[0].describe()"
      ]
    },
    {
      "cell_type": "markdown",
      "metadata": {
        "id": "MAbzD_4ftSLe"
      },
      "source": [
        "As can be seen, due to the large number of zeros in the training dataset, most of the prediction errors have been replaced by zeros"
      ]
    },
    {
      "cell_type": "code",
      "execution_count": null,
      "metadata": {
        "id": "PX_3mjE6NNBH"
      },
      "outputs": [],
      "source": [
        "all_digits = []\n",
        "for i in all_labels['label'].iloc[test_set_precentage:]:\n",
        "  for ii in i:\n",
        "    all_digits.append(ii)\n",
        "print(len(all_digits))\n",
        "digits_df = pd.DataFrame(all_digits)\n",
        "\n",
        "pre_digits_df = pd.DataFrame(letter_acc)\n",
        "digit_counts = pd.DataFrame(digit_counts)\n",
        "df1 = digit_counts.sort_index()\n",
        "df2 = pre_digits_df.sort_index()\n",
        "\n",
        "# Create a figure and axis\n",
        "fig, ax = plt.subplots()\n",
        "\n",
        "# Plot the data for the first dataframe\n",
        "ax.bar(df1.index, df1[0], width=0.4, align='center', label='actual')\n",
        "\n",
        "# Plot the data for the second dataframe (shifted by 0.4 for side-by-side comparison)\n",
        "ax.bar(df2.index + 0.4, df2[0], width=0.4, align='center', label='predicted')\n",
        "\n",
        "# Set labels and title\n",
        "ax.set_xlabel('Digit')\n",
        "ax.set_ylabel('Count')\n",
        "ax.set_title('Comparison of Digit Counts')\n",
        "ax.set_xticks(df1.index)\n",
        "ax.legend()\n",
        "\n",
        "# Show the plot\n",
        "plt.show()"
      ]
    },
    {
      "cell_type": "code",
      "execution_count": null,
      "metadata": {
        "id": "51v4Dvgc685Q"
      },
      "outputs": [],
      "source": [
        "import matplotlib.pyplot as plt\n",
        "\n",
        "# Calculate the frequency of each digit\n",
        "digit_counts = digits_df[0].value_counts()\n",
        "\n",
        "# Plot the count of each digit\n",
        "plt.figure(figsize=(10, 6))\n",
        "digit_counts.plot(kind='bar')\n",
        "plt.title('Count of Each Digit')\n",
        "plt.xlabel('Digit')\n",
        "plt.ylabel('Count')\n",
        "plt.show()\n"
      ]
    },
    {
      "cell_type": "markdown",
      "metadata": {
        "id": "aJOPl1BDeX8B"
      },
      "source": [
        "## testing one specific image"
      ]
    },
    {
      "cell_type": "code",
      "execution_count": null,
      "metadata": {
        "id": "JygdQAjpyVBz"
      },
      "outputs": [],
      "source": [
        "# test_img=cv2.imread(all_labels['./inverted/'].iloc[0])\n",
        "# test_img_resized=cv2.resize(test_img,(174,54))\n",
        "# test_image=test_img_resized[:,:,1]\n",
        "# test_image=test_image.T\n",
        "# test_image=np.expand_dims(test_image,axis=-1)\n",
        "# test_image=np.expand_dims(test_image, axis=0)\n",
        "# test_image=test_image/255\n",
        "# model_output=model.predict(test_image , verbose=-1)\n",
        "# predicted_output=decode_label(model_output)\n",
        "# predicted_output"
      ]
    },
    {
      "cell_type": "code",
      "execution_count": null,
      "metadata": {
        "id": "0pgEIxc97DS8"
      },
      "outputs": [],
      "source": [
        "def predictor(image_path):\n",
        "\n",
        "\n",
        "  return predicted_output"
      ]
    }
  ],
  "metadata": {
    "accelerator": "TPU",
    "colab": {
      "provenance": []
    },
    "kernelspec": {
      "display_name": "Python 3",
      "name": "python3"
    },
    "language_info": {
      "codemirror_mode": {
        "name": "ipython",
        "version": 3
      },
      "file_extension": ".py",
      "mimetype": "text/x-python",
      "name": "python",
      "nbconvert_exporter": "python",
      "pygments_lexer": "ipython3",
      "version": "3.10.4"
    }
  },
  "nbformat": 4,
  "nbformat_minor": 0
}