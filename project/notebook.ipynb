{
  "cells": [
    {
      "cell_type": "markdown",
      "metadata": {
        "id": "heKvINgB5OHR"
      },
      "source": [
        "# collect all existing images into one place\n",
        "- there are four root directory so i use os.walk()"
      ]
    },
    {
      "cell_type": "code",
      "execution_count": 1,
      "metadata": {
        "colab": {
          "base_uri": "https://localhost:8080/"
        },
        "id": "2QDIAAbtZxEm",
        "outputId": "4dbe861f-18ae-4759-92c9-39671844b856"
      },
      "outputs": [
        {
          "name": "stdout",
          "output_type": "stream",
          "text": [
            "Number of images: 11719\n",
            "./ORAND-CAR-2014/CAR-A\\a_test_images\\a_car_007000.png\n"
          ]
        }
      ],
      "source": [
        "import os\n",
        "import pandas as pd\n",
        "\n",
        "dir_path = \"./ORAND-CAR-2014/\"\n",
        "\n",
        "CAR_A_test_images_path = dir_path + 'CAR-A/a_test_images/'\n",
        "CAR_A_train_images_path = dir_path + 'CAR-A/a_train_images/'\n",
        "CAR_B_test_images_path = dir_path + 'CAR-B/b_test_images/'\n",
        "CAR_B_train_images_path = dir_path + 'CAR-B/b_train_images/'\n",
        "\n",
        "image_paths = []\n",
        "for root, dirs, files in os.walk(dir_path):\n",
        "    for file in files:\n",
        "        if file.endswith('.png'):\n",
        "            image_path = os.path.join(root, file)\n",
        "            image_paths.append(image_path)\n",
        "\n",
        "print('Number of images:', len(image_paths))\n",
        "print(image_paths[0])"
      ]
    },
    {
      "cell_type": "markdown",
      "metadata": {
        "id": "7EAdKWjoHjeZ"
      },
      "source": [
        "# From guide text file, I extract the dataframe of images_path and related label"
      ]
    },
    {
      "cell_type": "code",
      "execution_count": 19,
      "metadata": {
        "colab": {
          "base_uri": "https://localhost:8080/",
          "height": 241
        },
        "id": "pTdEXXtengka",
        "outputId": "88eeb8c3-d22d-4ab8-84c4-d4c537ff3288"
      },
      "outputs": [
        {
          "name": "stdout",
          "output_type": "stream",
          "text": [
            "11719\n",
            "11719\n"
          ]
        },
        {
          "data": {
            "text/html": [
              "<div>\n",
              "<style scoped>\n",
              "    .dataframe tbody tr th:only-of-type {\n",
              "        vertical-align: middle;\n",
              "    }\n",
              "\n",
              "    .dataframe tbody tr th {\n",
              "        vertical-align: top;\n",
              "    }\n",
              "\n",
              "    .dataframe thead th {\n",
              "        text-align: right;\n",
              "    }\n",
              "</style>\n",
              "<table border=\"1\" class=\"dataframe\">\n",
              "  <thead>\n",
              "    <tr style=\"text-align: right;\">\n",
              "      <th></th>\n",
              "      <th>image_path</th>\n",
              "      <th>label</th>\n",
              "    </tr>\n",
              "  </thead>\n",
              "  <tbody>\n",
              "    <tr>\n",
              "      <th>0</th>\n",
              "      <td>./ORAND-CAR-2014/CAR-A/a_test_images/a_car_007...</td>\n",
              "      <td>1500</td>\n",
              "    </tr>\n",
              "    <tr>\n",
              "      <th>1</th>\n",
              "      <td>./ORAND-CAR-2014/CAR-A/a_test_images/a_car_007...</td>\n",
              "      <td>5743</td>\n",
              "    </tr>\n",
              "    <tr>\n",
              "      <th>2</th>\n",
              "      <td>./ORAND-CAR-2014/CAR-A/a_test_images/a_car_007...</td>\n",
              "      <td>1056</td>\n",
              "    </tr>\n",
              "    <tr>\n",
              "      <th>3</th>\n",
              "      <td>./ORAND-CAR-2014/CAR-A/a_test_images/a_car_007...</td>\n",
              "      <td>1000</td>\n",
              "    </tr>\n",
              "    <tr>\n",
              "      <th>4</th>\n",
              "      <td>./ORAND-CAR-2014/CAR-A/a_test_images/a_car_007...</td>\n",
              "      <td>1000</td>\n",
              "    </tr>\n",
              "  </tbody>\n",
              "</table>\n",
              "</div>"
            ],
            "text/plain": [
              "                                          image_path label\n",
              "0  ./ORAND-CAR-2014/CAR-A/a_test_images/a_car_007...  1500\n",
              "1  ./ORAND-CAR-2014/CAR-A/a_test_images/a_car_007...  5743\n",
              "2  ./ORAND-CAR-2014/CAR-A/a_test_images/a_car_007...  1056\n",
              "3  ./ORAND-CAR-2014/CAR-A/a_test_images/a_car_007...  1000\n",
              "4  ./ORAND-CAR-2014/CAR-A/a_test_images/a_car_007...  1000"
            ]
          },
          "execution_count": 19,
          "metadata": {},
          "output_type": "execute_result"
        }
      ],
      "source": [
        "CAR_A_test_text = dir_path + 'CAR-A/a_test_gt.txt'\n",
        "CAR_A_train_text = dir_path + 'CAR-A/a_train_gt.txt'\n",
        "CAR_B_test_text = dir_path + 'CAR-B/b_test_gt.txt'\n",
        "CAR_B_train_text = dir_path + 'CAR-B/b_train_gt.txt'\n",
        "\n",
        "\n",
        "def get_labels(image_dir,text_path):\n",
        "  with open(text_path,'r') as f :\n",
        "    lines = f.readlines()\n",
        "  listt = []\n",
        "  for line in lines :\n",
        "    parts = line.strip().split(\"\\t\")\n",
        "    listt.append([image_dir + parts[0],parts[1]])\n",
        "  DF = pd.DataFrame(listt)\n",
        "  DF = DF.rename(columns={0: 'image_path', 1: 'label'})\n",
        "  return DF\n",
        "\n",
        "a_test_label_df = get_labels(CAR_A_test_images_path,CAR_A_test_text)\n",
        "a_train_label_df = get_labels(CAR_A_train_images_path,CAR_A_train_text)\n",
        "b_test_label_df = get_labels(CAR_B_test_images_path,CAR_B_test_text)\n",
        "b_train_label_df = get_labels(CAR_B_train_images_path,CAR_B_train_text)\n",
        "all_labels = pd.concat([a_test_label_df , a_train_label_df , b_test_label_df , b_train_label_df],ignore_index=True)#.reset_index()\n",
        "print(len(all_labels))\n",
        "print(len(all_labels['image_path'].unique())) # no dupicate image name\n",
        "all_labels.head()"
      ]
    },
    {
      "cell_type": "markdown",
      "metadata": {
        "id": "VVr6DpzeB_1j"
      },
      "source": [
        "> first checking some random images to know details and get familiar with data\n",
        "\n",
        "> second let's go for resizing images because we cant store them in data frame\n",
        "- for resizing i prefer to know mean of height and weight of images\n",
        "- also we can try alternative sizes based on digits count (i mean size of all images is same but 4_digit number have twice full (meaningful)weight of 2_digit number\n",
        "- maybe this help our model to predict better based on how many digit exist and what are these (we just try that i dont know realy)\n",
        "\n",
        "> third is save them into dataframe and preprocess that to get ready for training\n"
      ]
    },
    {
      "cell_type": "code",
      "execution_count": 20,
      "metadata": {
        "id": "fLSIaGH1cjqk"
      },
      "outputs": [],
      "source": [
        "import random\n",
        "import matplotlib.pyplot as plt\n",
        "import matplotlib.image as mpimg\n",
        "from PIL import Image\n",
        "\n",
        "def plot_random_image(image_label_df):\n",
        "  images = image_label_df['image_path']\n",
        "  i = random.randint(0, len(images))\n",
        "  target_image = images[i]\n",
        "  print(\"label :\",image_label_df['label'][i])\n",
        "  print(\"target:\",target_image)\n",
        "  image_obj = Image.open(target_image)\n",
        "  image = mpimg.imread(target_image)\n",
        "  plt.imshow(image)\n",
        "  plt.show()\n",
        "  print(\"height : \",image_obj.height)\n",
        "  print(\"width : \",image_obj.width)\n",
        "  print(\"details : \",image_obj.getdata)\n"
      ]
    },
    {
      "attachments": {},
      "cell_type": "markdown",
      "metadata": {},
      "source": [
        "# Visualize Some Data"
      ]
    },
    {
      "cell_type": "code",
      "execution_count": 7,
      "metadata": {
        "colab": {
          "base_uri": "https://localhost:8080/",
          "height": 346
        },
        "id": "umsUeA_Wdnfi",
        "outputId": "71951843-61dc-474c-f221-d51f71a16000"
      },
      "outputs": [],
      "source": [
        "# from IPython.display import clear_output\n",
        "# import time\n",
        "\n",
        "# for i in range(5):\n",
        "#     plot_random_image(all_labels)\n",
        "#     time.sleep(2.5)\n",
        "#     clear_output(wait=True)"
      ]
    },
    {
      "cell_type": "markdown",
      "metadata": {
        "id": "HE11k2hOONud"
      },
      "source": [
        "# Now, Let's decide about resizing (it's what i don't know anything about that🤕)\n",
        "- mean of height and width\n",
        "- resize to large numbers for easy to work\n",
        "- resize to common size (28*28 or something same)\n",
        "- def a function for resizing in different sizes and test them\n",
        "- also we can use size of images as a feature (because we know there are information in them)\n",
        "\n"
      ]
    },
    {
      "cell_type": "markdown",
      "metadata": {
        "id": "GR7YjEmMMOHJ"
      },
      "source": [
        "# get details of sizes manually"
      ]
    },
    {
      "cell_type": "code",
      "execution_count": 8,
      "metadata": {
        "colab": {
          "base_uri": "https://localhost:8080/"
        },
        "id": "yJ1d-t9dOvov",
        "outputId": "a3bd6344-f44a-4306-e5b2-1ab9fea972b5"
      },
      "outputs": [],
      "source": [
        "# Get mean of height and width\n",
        "\n",
        "# heights = 0\n",
        "# widths = 0\n",
        "# max_height = 0\n",
        "# max_width = 0\n",
        "# min_height = 800\n",
        "# min_width = 800\n",
        "# for image_path in all_labels['image_path']:\n",
        "#   height = Image.open(image_path).height\n",
        "#   width = Image.open(image_path).width\n",
        "#   heights += height\n",
        "#   widths += width\n",
        "#   if height > max_height: max_height = height\n",
        "#   if width > max_width: max_width = width\n",
        "#   if height < min_height: min_height = height\n",
        "#   if width < min_width : min_width = width\n",
        "\n",
        "# print(\"mean of height :\",heights/len(all_labels))\n",
        "# print(\"mean of width :\",widths/len(all_labels))"
      ]
    },
    {
      "cell_type": "markdown",
      "metadata": {
        "id": "IwQijc5DMU72"
      },
      "source": [
        "# get details with size DF"
      ]
    },
    {
      "cell_type": "code",
      "execution_count": 21,
      "metadata": {
        "colab": {
          "base_uri": "https://localhost:8080/",
          "height": 300
        },
        "id": "QUYtY5jzQ21W",
        "outputId": "d7eb7bcb-f208-4b0f-d009-9de70735534f"
      },
      "outputs": [
        {
          "data": {
            "text/html": [
              "<div>\n",
              "<style scoped>\n",
              "    .dataframe tbody tr th:only-of-type {\n",
              "        vertical-align: middle;\n",
              "    }\n",
              "\n",
              "    .dataframe tbody tr th {\n",
              "        vertical-align: top;\n",
              "    }\n",
              "\n",
              "    .dataframe thead th {\n",
              "        text-align: right;\n",
              "    }\n",
              "</style>\n",
              "<table border=\"1\" class=\"dataframe\">\n",
              "  <thead>\n",
              "    <tr style=\"text-align: right;\">\n",
              "      <th></th>\n",
              "      <th>width</th>\n",
              "      <th>height</th>\n",
              "    </tr>\n",
              "  </thead>\n",
              "  <tbody>\n",
              "    <tr>\n",
              "      <th>count</th>\n",
              "      <td>11719.000000</td>\n",
              "      <td>11719.000000</td>\n",
              "    </tr>\n",
              "    <tr>\n",
              "      <th>mean</th>\n",
              "      <td>172.944705</td>\n",
              "      <td>54.925250</td>\n",
              "    </tr>\n",
              "    <tr>\n",
              "      <th>std</th>\n",
              "      <td>44.082070</td>\n",
              "      <td>9.066699</td>\n",
              "    </tr>\n",
              "    <tr>\n",
              "      <th>min</th>\n",
              "      <td>40.000000</td>\n",
              "      <td>28.000000</td>\n",
              "    </tr>\n",
              "    <tr>\n",
              "      <th>25%</th>\n",
              "      <td>144.000000</td>\n",
              "      <td>49.000000</td>\n",
              "    </tr>\n",
              "    <tr>\n",
              "      <th>50%</th>\n",
              "      <td>171.000000</td>\n",
              "      <td>54.000000</td>\n",
              "    </tr>\n",
              "    <tr>\n",
              "      <th>75%</th>\n",
              "      <td>199.000000</td>\n",
              "      <td>61.000000</td>\n",
              "    </tr>\n",
              "    <tr>\n",
              "      <th>max</th>\n",
              "      <td>363.000000</td>\n",
              "      <td>108.000000</td>\n",
              "    </tr>\n",
              "  </tbody>\n",
              "</table>\n",
              "</div>"
            ],
            "text/plain": [
              "              width        height\n",
              "count  11719.000000  11719.000000\n",
              "mean     172.944705     54.925250\n",
              "std       44.082070      9.066699\n",
              "min       40.000000     28.000000\n",
              "25%      144.000000     49.000000\n",
              "50%      171.000000     54.000000\n",
              "75%      199.000000     61.000000\n",
              "max      363.000000    108.000000"
            ]
          },
          "execution_count": 21,
          "metadata": {},
          "output_type": "execute_result"
        }
      ],
      "source": [
        "height_list = []\n",
        "width_list = []\n",
        "for image_path in all_labels['image_path']:\n",
        "  height = Image.open(image_path).height\n",
        "  width = Image.open(image_path).width\n",
        "  \n",
        "  height_list.append(height)\n",
        "  width_list.append(width)\n",
        "\n",
        "sizes_df = pd.DataFrame({'width':width_list,'height':height_list})\n",
        "sizes_df.describe()"
      ]
    },
    {
      "cell_type": "markdown",
      "metadata": {
        "id": "kbTo3aymkY1x"
      },
      "source": [
        "# I think no way exist except trying different sizes\n",
        "\n",
        "so i'm going to define a resize function"
      ]
    },
    {
      "cell_type": "code",
      "execution_count": 22,
      "metadata": {},
      "outputs": [
        {
          "name": "stdout",
          "output_type": "stream",
          "text": [
            "path already exists\n"
          ]
        }
      ],
      "source": [
        "import numpy as np\n",
        "\n",
        "new_dir_path = './images/'\n",
        "try:\n",
        "    os.makedirs(new_dir_path + 'test/')\n",
        "    os.makedirs(new_dir_path + 'train/')\n",
        "except:print(\"path already exists\")\n"
      ]
    },
    {
      "cell_type": "markdown",
      "metadata": {},
      "source": [
        "# Early spliting"
      ]
    },
    {
      "cell_type": "code",
      "execution_count": 6,
      "metadata": {
        "id": "AHfx8Ud3bcFz"
      },
      "outputs": [
        {
          "name": "stdout",
          "output_type": "stream",
          "text": [
            "train size : 0 to  9375\n",
            "test size : 9375 to 11719\n"
          ]
        }
      ],
      "source": [
        "\n",
        "# def move_to_new_dir(df):#,width,height):\n",
        "  \n",
        "#   print(\"train size : 0 to \",round(len(df)*0.8))\n",
        "#   for i in range(round(len(df)*0.8)):\n",
        "#     im = Image.open(df['image_path'][i])\n",
        "#     # img_resized = im.resize((width,height))\n",
        "#     im.save(new_dir_path + 'train/'+ \"{:0>{}}\".format(i, 5) + \".png\")\n",
        "#     #img_resized.save(path.replace(\".png\",\"_r.png\"))\n",
        "\n",
        "#   print(f\"test size : {round(len(df)*0.8)} to {len(df)}\")\n",
        "#   for i in range(round(len(df)*0.8),len(df)):\n",
        "#     im = Image.open(df['image_path'][i])\n",
        "#     # img_resized = im.resize((width,height))\n",
        "#     im.save(new_dir_path +'test/'+ \"{:0>{}}\".format(i, 5) + \".png\")\n",
        "#     #img_resized.save(path.replace(\".png\",\"_r.png\"))\n",
        "\n",
        "\n",
        "# #resize_images(all_labels,256,256)\n",
        "# move_to_new_dir(all_labels)#,363,108)\n"
      ]
    },
    {
      "cell_type": "code",
      "execution_count": 23,
      "metadata": {},
      "outputs": [
        {
          "data": {
            "text/html": [
              "<div>\n",
              "<style scoped>\n",
              "    .dataframe tbody tr th:only-of-type {\n",
              "        vertical-align: middle;\n",
              "    }\n",
              "\n",
              "    .dataframe tbody tr th {\n",
              "        vertical-align: top;\n",
              "    }\n",
              "\n",
              "    .dataframe thead th {\n",
              "        text-align: right;\n",
              "    }\n",
              "</style>\n",
              "<table border=\"1\" class=\"dataframe\">\n",
              "  <thead>\n",
              "    <tr style=\"text-align: right;\">\n",
              "      <th></th>\n",
              "      <th>label</th>\n",
              "      <th>new_path</th>\n",
              "    </tr>\n",
              "  </thead>\n",
              "  <tbody>\n",
              "    <tr>\n",
              "      <th>11704</th>\n",
              "      <td>20000</td>\n",
              "      <td>./images/11704.png</td>\n",
              "    </tr>\n",
              "    <tr>\n",
              "      <th>11705</th>\n",
              "      <td>20000</td>\n",
              "      <td>./images/11705.png</td>\n",
              "    </tr>\n",
              "    <tr>\n",
              "      <th>11706</th>\n",
              "      <td>444665</td>\n",
              "      <td>./images/11706.png</td>\n",
              "    </tr>\n",
              "    <tr>\n",
              "      <th>11707</th>\n",
              "      <td>29524</td>\n",
              "      <td>./images/11707.png</td>\n",
              "    </tr>\n",
              "    <tr>\n",
              "      <th>11708</th>\n",
              "      <td>6792972</td>\n",
              "      <td>./images/11708.png</td>\n",
              "    </tr>\n",
              "    <tr>\n",
              "      <th>11709</th>\n",
              "      <td>170000</td>\n",
              "      <td>./images/11709.png</td>\n",
              "    </tr>\n",
              "    <tr>\n",
              "      <th>11710</th>\n",
              "      <td>162000</td>\n",
              "      <td>./images/11710.png</td>\n",
              "    </tr>\n",
              "    <tr>\n",
              "      <th>11711</th>\n",
              "      <td>340000</td>\n",
              "      <td>./images/11711.png</td>\n",
              "    </tr>\n",
              "    <tr>\n",
              "      <th>11712</th>\n",
              "      <td>11900</td>\n",
              "      <td>./images/11712.png</td>\n",
              "    </tr>\n",
              "    <tr>\n",
              "      <th>11713</th>\n",
              "      <td>135000</td>\n",
              "      <td>./images/11713.png</td>\n",
              "    </tr>\n",
              "    <tr>\n",
              "      <th>11714</th>\n",
              "      <td>100000</td>\n",
              "      <td>./images/11714.png</td>\n",
              "    </tr>\n",
              "    <tr>\n",
              "      <th>11715</th>\n",
              "      <td>85000</td>\n",
              "      <td>./images/11715.png</td>\n",
              "    </tr>\n",
              "    <tr>\n",
              "      <th>11716</th>\n",
              "      <td>150000</td>\n",
              "      <td>./images/11716.png</td>\n",
              "    </tr>\n",
              "    <tr>\n",
              "      <th>11717</th>\n",
              "      <td>13356</td>\n",
              "      <td>./images/11717.png</td>\n",
              "    </tr>\n",
              "    <tr>\n",
              "      <th>11718</th>\n",
              "      <td>100000</td>\n",
              "      <td>./images/11718.png</td>\n",
              "    </tr>\n",
              "  </tbody>\n",
              "</table>\n",
              "</div>"
            ],
            "text/plain": [
              "         label            new_path\n",
              "11704    20000  ./images/11704.png\n",
              "11705    20000  ./images/11705.png\n",
              "11706   444665  ./images/11706.png\n",
              "11707    29524  ./images/11707.png\n",
              "11708  6792972  ./images/11708.png\n",
              "11709   170000  ./images/11709.png\n",
              "11710   162000  ./images/11710.png\n",
              "11711   340000  ./images/11711.png\n",
              "11712    11900  ./images/11712.png\n",
              "11713   135000  ./images/11713.png\n",
              "11714   100000  ./images/11714.png\n",
              "11715    85000  ./images/11715.png\n",
              "11716   150000  ./images/11716.png\n",
              "11717    13356  ./images/11717.png\n",
              "11718   100000  ./images/11718.png"
            ]
          },
          "execution_count": 23,
          "metadata": {},
          "output_type": "execute_result"
        }
      ],
      "source": [
        "# store all images into one directory with renameing and updating dataframe\n",
        "def move_to_im_dir(df):\n",
        "  for i,img in enumerate(df['image_path']):\n",
        "    im = Image.open(img)\n",
        "    im.save(new_dir_path + \"{:0>{}}.png\".format(i, 5))\n",
        "\n",
        "move_to_im_dir(all_labels)\n",
        "all_labels[\"new_path\"] = [\"{}{:0>{}}.png\".format(new_dir_path,i, 5) for i in range(len(all_labels))]\n",
        "all_labels = all_labels.drop(columns=['image_path'])\n",
        "all_labels.head(15)\n",
        "all_labels.tail(15)"
      ]
    },
    {
      "cell_type": "code",
      "execution_count": null,
      "metadata": {},
      "outputs": [],
      "source": [
        "all_labels['label'] = all_labels['label'].astype(int)\n",
        "all_labels['label'].describe()"
      ]
    },
    {
      "attachments": {},
      "cell_type": "markdown",
      "metadata": {},
      "source": [
        "SAVE each pixel in a column"
      ]
    },
    {
      "cell_type": "code",
      "execution_count": null,
      "metadata": {
        "id": "OHWBQLqML681"
      },
      "outputs": [],
      "source": [
        "# images_array = []\n",
        "# for row in all_labels['image_path']:\n",
        "#     img = Image.open(row).convert('L')\n",
        "#     images_array.append(np.array(img)/255.0)\n",
        "\n",
        "# images_array = np.array(images_array)\n",
        "# images_df = pd.DataFrame(images_array.reshape(images_array.shape[0], -1))\n",
        "\n",
        "# column_names = ['pixel'+str(i) for i in range(images_array.shape[1]*images_array.shape[2])]\n",
        "# images_df.columns = column_names\n",
        "\n",
        "# images_df"
      ]
    },
    {
      "cell_type": "code",
      "execution_count": null,
      "metadata": {
        "id": "qap4xELpzHE8"
      },
      "outputs": [],
      "source": [
        "# label_dummies = pd.get_dummies(all_labels['number'])\n",
        "\n",
        "# all_labels_encoded = pd.concat([all_labels, label_dummies], axis=1)\n",
        "# all_labels_encoded.drop(['number','image_path'], axis=1, inplace=True)\n",
        "# all_labels_encoded"
      ]
    },
    {
      "attachments": {},
      "cell_type": "markdown",
      "metadata": {},
      "source": [
        "# extract multi label without considering order"
      ]
    },
    {
      "cell_type": "code",
      "execution_count": null,
      "metadata": {
        "id": "izwNH2qmAQgl"
      },
      "outputs": [],
      "source": [
        "# from keras.models import Sequential\n",
        "# from keras.layers import Dense, Flatten, Conv2D, MaxPooling2D\n",
        "\n",
        "# # Define the sequential model\n",
        "# model = Sequential([\n",
        "\n",
        "#     Dense(128, activation='relu'),\n",
        "#     Dense(len(y.columns), activation='softmax')\n",
        "# ])\n",
        "\n",
        "# # Compile the model\n",
        "# model.compile(optimizer='adam', loss='categorical_crossentropy', metrics=['accuracy'])\n",
        "\n",
        "# # Train the model on the training set\n",
        "# model.fit(X_train, y_train, epochs=10, batch_size=32, validation_data=(X_test, y_test))"
      ]
    },
    {
      "cell_type": "markdown",
      "metadata": {
        "id": "Ox1L8tllIrQF"
      },
      "source": [
        "absolutely with these lenth of data we can't use machine learning algorithm directly\n",
        "\n",
        "so as dear mentor said wen need to split numbers into digits or use RNN\n",
        "but at first i have an idea :\n",
        "create a labels like \"first_character_is_1\" and \"third_character_is_3\"\n",
        "i dont know how this affect"
      ]
    },
    {
      "cell_type": "markdown",
      "metadata": {
        "id": "i3omP3p2OSvs"
      },
      "source": [
        "# let's try some ideas :\n",
        "- multi label without order (digit exists or not)(cant cover duplicate digits)\n",
        "- multi label with order (is there zero in first position or not)(support any thing except alternative size of text)\n",
        "- segmentation with simple process like hurtizental croping (this bug is not seprated digits)\n",
        "- segmentation with MNIST prepaired models(this bug is not clear digits)\n",
        "- ...\n"
      ]
    },
    {
      "attachments": {},
      "cell_type": "markdown",
      "metadata": {},
      "source": [
        "# I found Good Idea for labeling :\n",
        "\n",
        "but maybe it is very complex because of more dimension\n",
        "\n",
        "also we have few data for this (i think)"
      ]
    },
    {
      "cell_type": "code",
      "execution_count": null,
      "metadata": {},
      "outputs": [],
      "source": [
        "import numpy as np\n",
        "import pandas as pd\n",
        "\n",
        "# Define the labels\n",
        "labels = [\"21064\", \"12345\", \"98765\"]\n",
        "\n",
        "# Define the vocabulary of possible values\n",
        "vocab = list(\"0123456789\")\n",
        "\n",
        "# Convert the labels to sequences of one-hot encoded values\n",
        "label_seqs = []\n",
        "for label in labels:\n",
        "    seq = np.zeros((len(label), len(vocab)))\n",
        "    for i, char in enumerate(label):\n",
        "        seq[i, vocab.index(char)] = 1\n",
        "    label_seqs.append(seq)\n",
        "\n",
        "# Create a DataFrame with the label sequences\n",
        "df = pd.DataFrame({\n",
        "    \"label\": labels,\n",
        "    \"sequence\": label_seqs\n",
        "})\n",
        "\n",
        "print(df)"
      ]
    },
    {
      "attachments": {},
      "cell_type": "markdown",
      "metadata": {},
      "source": [
        "# let's try it on our dataset\n",
        "- at first we need to know max number lenth (with ploting lenth maybe we remove large outlier numbers)\n",
        "- use the above code example for creating label\n",
        "- match the data frame with new labels"
      ]
    },
    {
      "cell_type": "code",
      "execution_count": 30,
      "metadata": {},
      "outputs": [
        {
          "name": "stdout",
          "output_type": "stream",
          "text": [
            "min is : 15\n",
            "max is  67491288\n"
          ]
        }
      ],
      "source": [
        "all_labels['number'] = all_labels['number'].astype(int)\n",
        "labels = np.array(all_labels['number'])\n",
        "print(\"min is :\",labels.min())\n",
        "print(\"max is \",labels.max())"
      ]
    },
    {
      "cell_type": "code",
      "execution_count": null,
      "metadata": {},
      "outputs": [],
      "source": [
        "import matplotlib.pyplot as plt\n",
        "import numpy as np\n",
        "\n",
        "# Create an array of integers\n",
        "\n",
        "fig = plt.figure(figsize=(28, 50))\n",
        "# Plot the array\n",
        "plt.scatter(np.arange(len(labels[:6000])),[i if i < 1e5 else  1e5 for i in labels[:6000]])\n",
        "\n",
        "# Show the plot\n",
        "plt.show()"
      ]
    },
    {
      "attachments": {},
      "cell_type": "markdown",
      "metadata": {},
      "source": [
        "i understand that our first directory images (CAR-A) have lower value than (CAR-B)\n",
        "\n",
        "so i decide to back at first step and explore more on data origin (also i read the dataset document from veena)\n",
        "and these datasets comes from different places (autritia and auerogue)\n"
      ]
    },
    {
      "cell_type": "code",
      "execution_count": 48,
      "metadata": {},
      "outputs": [
        {
          "name": "stdout",
          "output_type": "stream",
          "text": [
            "226660.01271439542 156490.48 300277.2878125546\n"
          ]
        }
      ],
      "source": [
        "print(np.mean(labels),\n",
        "np.mean(labels[:6000]),\n",
        "np.mean(labels[6000:]))"
      ]
    },
    {
      "cell_type": "code",
      "execution_count": null,
      "metadata": {},
      "outputs": [],
      "source": [
        "fig = plt.figure(figsize=(20, 20),dpi=300)\n",
        "plt.hist([i for i in np.sort(labels)],weights=np.arange(len(labels)), bins=200)\n",
        "plt.show()"
      ]
    },
    {
      "cell_type": "code",
      "execution_count": null,
      "metadata": {},
      "outputs": [],
      "source": [
        "import numpy as np\n",
        "import pandas as pd\n",
        "\n",
        "# Define the labels\n",
        "labels = [\"21064\", \"12345\", \"98765\"]\n",
        "\n",
        "# Define the vocabulary of possible values\n",
        "vocab = list(\"0123456789\")\n",
        "\n",
        "# Convert the labels to sequences of one-hot encoded values\n",
        "label_seqs = []\n",
        "for label in labels:\n",
        "    seq = np.zeros((len(label), len(vocab)))\n",
        "    for i, char in enumerate(label):\n",
        "        seq[i, vocab.index(char)] = 1\n",
        "    label_seqs.append(seq)\n",
        "\n",
        "# Create a DataFrame with the label sequences\n",
        "df = pd.DataFrame({\n",
        "    \"label\": labels,\n",
        "    \"sequence\": label_seqs\n",
        "})\n",
        "\n",
        "print(df)"
      ]
    },
    {
      "cell_type": "code",
      "execution_count": null,
      "metadata": {
        "id": "uOVueuqhgpKF"
      },
      "outputs": [],
      "source": [
        "%pip install tensorflow\n",
        "import tensorflow"
      ]
    },
    {
      "cell_type": "code",
      "execution_count": null,
      "metadata": {
        "id": "Ip_FrNCSgf7u"
      },
      "outputs": [],
      "source": [
        "from tensorflow.keras.preprocessing.image import ImageDataGenerator\n",
        "from tensorflow.keras.models import Sequential\n",
        "from tensorflow.keras.layers import Conv2D, MaxPooling2D\n",
        "from tensorflow.keras.layers import Activation, Dropout, Flatten, Dense\n",
        "\n",
        "# this is the augmentation configuration we will use for training\n",
        "train_datagen = ImageDataGenerator(\n",
        "    rescale=1. / 255,\n",
        "    # shear_range=0.2,\n",
        "    # zoom_range=0.2,\n",
        "    # horizontal_flip=True\n",
        "    )\n",
        "\n",
        "test_datagen = ImageDataGenerator(rescale=1. / 255)\n",
        "\n",
        "train_generator = train_datagen.flow_from_directory(\n",
        "    train_data_dir,\n",
        "    target_size=(img_width, img_height),\n",
        "    batch_size=batch_size,\n",
        "    class_mode='binary')\n",
        "\n",
        "validation_generator = test_datagen.flow_from_directory(\n",
        "    validation_data_dir,\n",
        "    target_size=(img_width, img_height),\n",
        "    batch_size=batch_size,\n",
        "    class_mode='binary')\n",
        "\n",
        "model.fit(\n",
        "    train_generator,\n",
        "    steps_per_epoch=nb_train_samples // batch_size,\n",
        "    epochs=epochs,\n",
        "    validation_data=validation_generator,\n",
        "    validation_steps=nb_validation_samples // batch_size)\n"
      ]
    },
    {
      "cell_type": "code",
      "execution_count": null,
      "metadata": {},
      "outputs": [],
      "source": [
        "hi"
      ]
    }
  ],
  "metadata": {
    "accelerator": "GPU",
    "colab": {
      "gpuType": "T4",
      "provenance": []
    },
    "kernelspec": {
      "display_name": "Python 3",
      "name": "python3"
    },
    "language_info": {
      "codemirror_mode": {
        "name": "ipython",
        "version": 3
      },
      "file_extension": ".py",
      "mimetype": "text/x-python",
      "name": "python",
      "nbconvert_exporter": "python",
      "pygments_lexer": "ipython3",
      "version": "3.10.4"
    }
  },
  "nbformat": 4,
  "nbformat_minor": 0
}
