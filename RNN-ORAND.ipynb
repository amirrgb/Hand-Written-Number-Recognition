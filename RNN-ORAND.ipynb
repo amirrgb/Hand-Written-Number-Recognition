{
 "cells": [
  {
   "cell_type": "markdown",
   "metadata": {},
   "source": [
    "Let's go for RNN based on https://github.com/AbhishekAnand18/ImageTextRecognition/blob/master/ImageTextRecognition_Code.ipynb"
   ]
  },
  {
   "cell_type": "code",
   "execution_count": 85,
   "metadata": {},
   "outputs": [],
   "source": [
    "import random\n",
    "import pandas as pd\n",
    "import numpy as np\n",
    "import tensorflow as tf\n",
    "from tensorflow import keras\n",
    "import cv2\n",
    "import matplotlib.pyplot as plt\n",
    "import matplotlib.image as mpimg\n",
    "from PIL import Image\n",
    "from IPython.display import clear_output\n",
    "import time\n",
    "import os\n",
    "from skimage.filters import threshold_local\n",
    "import keras\n",
    "import random\n",
    "from keras import backend as K\n",
    "from skimage.morphology import skeletonize\n",
    "import itertools\n"
   ]
  },
  {
   "cell_type": "code",
   "execution_count": 86,
   "metadata": {},
   "outputs": [],
   "source": [
    "import tensorflow as tf\n",
    "import logging\n",
    "tf.get_logger().setLevel(logging.ERROR)"
   ]
  },
  {
   "cell_type": "code",
   "execution_count": 87,
   "metadata": {},
   "outputs": [
    {
     "name": "stdout",
     "output_type": "stream",
     "text": [
      "11719\n",
      "11719\n"
     ]
    }
   ],
   "source": [
    "dir_path = \"./ORAND-CAR-2014/\"\n",
    "CAR_A_test_images_path = dir_path + 'CAR-A/a_test_images/'\n",
    "CAR_A_train_images_path = dir_path + 'CAR-A/a_train_images/'\n",
    "CAR_B_test_images_path = dir_path + 'CAR-B/b_test_images/'\n",
    "CAR_B_train_images_path = dir_path + 'CAR-B/b_train_images/'\n",
    "\n",
    "def load_original_images():\n",
    "    images_path = []\n",
    "    for root, dirs, files in os.walk(dir_path):\n",
    "        for file in files:\n",
    "            if file.endswith('.png'):\n",
    "                image_path = os.path.join(root, file)\n",
    "                images_path.append(image_path.replace('\\\\','/'))\n",
    "    return images_path\n",
    "    \n",
    "images_path = load_original_images()\n",
    "\n",
    "def calculate_digit_count(label):\n",
    "    return len(label)\n",
    "\n",
    "def get_labels(image_dir,text_path):\n",
    "  with open(text_path,'r') as f :\n",
    "    lines = f.readlines()\n",
    "  listt = []\n",
    "  for line in lines :\n",
    "    parts = line.strip().split(\"\\t\")\n",
    "    listt.append([image_dir + parts[0],parts[1]])\n",
    "  DF = pd.DataFrame(listt)\n",
    "  DF = DF.rename(columns={0: 'image_path', 1: 'label'})\n",
    "  return DF\n",
    "\n",
    "def get_all_labels():\n",
    "  CAR_A_test_text = dir_path + 'CAR-A/a_test_gt.txt'\n",
    "  CAR_A_train_text = dir_path + 'CAR-A/a_train_gt.txt'\n",
    "  CAR_B_test_text = dir_path + 'CAR-B/b_test_gt.txt'\n",
    "  CAR_B_train_text = dir_path + 'CAR-B/b_train_gt.txt'\n",
    "  a_test_label_df = get_labels(CAR_A_test_images_path,CAR_A_test_text)\n",
    "  a_train_label_df = get_labels(CAR_A_train_images_path,CAR_A_train_text)\n",
    "  b_test_label_df = get_labels(CAR_B_test_images_path,CAR_B_test_text)\n",
    "  b_train_label_df = get_labels(CAR_B_train_images_path,CAR_B_train_text)\n",
    "  all_labels = pd.concat([a_test_label_df , a_train_label_df , b_test_label_df , b_train_label_df],ignore_index=True)#.reset_index()\n",
    "  return all_labels\n",
    "\n",
    "def reset_data():\n",
    "  all_labels = get_all_labels()\n",
    "  print(len(all_labels))\n",
    "  print(len(all_labels['image_path'].unique())) # no dupicate image name\n",
    "  all_labels[\"actual_digit_count\"] = all_labels[\"label\"].astype(str).apply(calculate_digit_count)\n",
    "  return all_labels\n",
    "\n",
    "all_labels = reset_data()"
   ]
  },
  {
   "cell_type": "code",
   "execution_count": 88,
   "metadata": {},
   "outputs": [],
   "source": [
    "def get_size_dataFrame(all_labels,column):\n",
    "  height_list = []\n",
    "  width_list = []\n",
    "  for image_path in all_labels[column]:\n",
    "    height = Image.open(image_path).height\n",
    "    width = Image.open(image_path).width\n",
    "    \n",
    "    height_list.append(height)\n",
    "    width_list.append(width)\n",
    "\n",
    "  sizes_df = pd.DataFrame({'width':width_list,'height':height_list})\n",
    "  return sizes_df"
   ]
  },
  {
   "cell_type": "markdown",
   "metadata": {},
   "source": [
    "### Processing images functions\n"
   ]
  },
  {
   "cell_type": "code",
   "execution_count": 89,
   "metadata": {},
   "outputs": [],
   "source": [
    "def plot_random_image(image_label_df,from_path):\n",
    "    random.seed(42)\n",
    "    indices = list(range(len(image_label_df)))\n",
    "    random.shuffle(indices)\n",
    "\n",
    "    for idx in indices[:10]+[21,22]:\n",
    "        target_image = image_label_df[from_path][idx]\n",
    "        print(\"label:\", image_label_df['label'][idx])\n",
    "        print(\"target:\", target_image)\n",
    "        image = mpimg.imread(target_image)\n",
    "        plt.imshow(image)\n",
    "        plt.show()\n",
    "        time.sleep(2)\n",
    "        clear_output(wait=True)"
   ]
  },
  {
   "cell_type": "code",
   "execution_count": 90,
   "metadata": {},
   "outputs": [],
   "source": [
    "def convert_to_grayscale(df, from_path,new_dir_path):\n",
    "    try:\n",
    "        os.makedirs(new_dir_path)\n",
    "    except:\n",
    "        pass\n",
    "\n",
    "    for i, img_path in enumerate(df[from_path]):\n",
    "        img = cv2.imread(img_path)\n",
    "        gray_img = cv2.cvtColor(img, cv2.COLOR_BGR2GRAY)\n",
    "        save_path = os.path.join(new_dir_path, f\"{i:05d}.png\")\n",
    "        cv2.imwrite(save_path, gray_img)\n",
    "        \n",
    "    df[new_dir_path] = [os.path.join(new_dir_path, f\"{i:05d}.png\") for i in range(len(df))]\n",
    "\n",
    "    return df"
   ]
  },
  {
   "cell_type": "code",
   "execution_count": 91,
   "metadata": {},
   "outputs": [],
   "source": [
    "def denoise_images(df, from_path, new_dir_path):\n",
    "    try:\n",
    "        os.makedirs(new_dir_path)\n",
    "    except:\n",
    "        pass\n",
    "\n",
    "    for i, img_path in enumerate(df[from_path]):\n",
    "        gray_img = cv2.imread(img_path, cv2.IMREAD_GRAYSCALE)\n",
    "        denoised_image = cv2.GaussianBlur(gray_img, (5, 5), 0)\n",
    "        save_path = os.path.join(new_dir_path, f\"{i:05d}.png\")\n",
    "        cv2.imwrite(save_path, denoised_image)\n",
    "        \n",
    "    df[new_dir_path] = [os.path.join(new_dir_path, f\"{i:05d}.png\") for i in range(len(df))]\n",
    "\n",
    "    return df"
   ]
  },
  {
   "cell_type": "code",
   "execution_count": 92,
   "metadata": {},
   "outputs": [],
   "source": [
    "def denoise_images_fastnlmeans(df, from_path, new_dir_path):\n",
    "    try:\n",
    "        os.makedirs(new_dir_path)\n",
    "    except:\n",
    "        pass\n",
    "\n",
    "    for i, img_path in enumerate(df[from_path]):\n",
    "        gray_img = cv2.imread(img_path, cv2.IMREAD_GRAYSCALE)\n",
    "        denoised_img = cv2.fastNlMeansDenoising(gray_img, None, h=10, templateWindowSize=7, searchWindowSize=21)\n",
    "        save_path = os.path.join(new_dir_path, f\"{i:05d}.png\")\n",
    "        cv2.imwrite(save_path, denoised_img)\n",
    "\n",
    "    df[new_dir_path] = [os.path.join(new_dir_path, f\"{i:05d}.png\") for i in range(len(df))]\n",
    "\n",
    "    return df"
   ]
  },
  {
   "cell_type": "code",
   "execution_count": 93,
   "metadata": {},
   "outputs": [],
   "source": [
    "def local_threshold_images(df, from_path, new_dir_path, block_size, offset):\n",
    "    try:\n",
    "        os.makedirs(new_dir_path)\n",
    "    except:\n",
    "        pass\n",
    "    for i, img_path in enumerate(df[from_path]):\n",
    "        gray_img = cv2.imread(img_path, cv2.IMREAD_GRAYSCALE)\n",
    "        binary_img = threshold_local(gray_img, block_size, offset=offset, method='gaussian', mode='reflect', cval=0)\n",
    "        binary_img = (binary_img * 255).astype(np.uint8)\n",
    "        save_path = os.path.join(new_dir_path, f\"{i:05d}.png\")\n",
    "        cv2.imwrite(save_path, binary_img)\n",
    "\n",
    "    df[new_dir_path] = [os.path.join(new_dir_path, f\"{i:05d}.png\") for i in range(len(df))]\n",
    "\n",
    "    return df\n"
   ]
  },
  {
   "cell_type": "code",
   "execution_count": 94,
   "metadata": {},
   "outputs": [],
   "source": [
    "def binarize_images(df, from_path, new_dir_path):\n",
    "    try:\n",
    "        os.makedirs(new_dir_path)\n",
    "    except:\n",
    "        pass\n",
    "\n",
    "    for i, img_path in enumerate(df[from_path]):\n",
    "        im = Image.open(img_path)\n",
    "        im = np.array(im)\n",
    "        _, binary_im = cv2.threshold(im, 0, 255, cv2.THRESH_BINARY + cv2.THRESH_OTSU)\n",
    "        binary_im = Image.fromarray(binary_im)\n",
    "        save_path = os.path.join(new_dir_path, f\"{i:05d}.png\")\n",
    "        binary_im.save(save_path)\n",
    "\n",
    "    df[new_dir_path] = [os.path.join(new_dir_path, f\"{i:05d}.png\") for i in range(len(df))]\n",
    "\n",
    "    return df"
   ]
  },
  {
   "cell_type": "code",
   "execution_count": 95,
   "metadata": {},
   "outputs": [],
   "source": [
    "def invert_images(df, from_path, new_dir_path):\n",
    "    try:\n",
    "        os.makedirs(new_dir_path)\n",
    "    except:\n",
    "        pass\n",
    "    for i, img_path in enumerate(df[from_path]):\n",
    "        bin_img = cv2.imread(img_path, cv2.IMREAD_GRAYSCALE)\n",
    "        inverted_img = cv2.bitwise_not(bin_img)\n",
    "        save_path = os.path.join(new_dir_path, f\"{i:05d}.png\")\n",
    "        cv2.imwrite(save_path, inverted_img)\n",
    "    \n",
    "    df[new_dir_path] = [os.path.join(new_dir_path, f\"{i:05d}.png\") for i in range(len(df))]\n",
    "    return df"
   ]
  },
  {
   "cell_type": "code",
   "execution_count": 96,
   "metadata": {},
   "outputs": [],
   "source": [
    "def dilate_images(df, from_path, new_dir_path):\n",
    "    try:\n",
    "        os.makedirs(new_dir_path)\n",
    "    except:\n",
    "        pass\n",
    "    for i, img_path in enumerate(df[from_path]):\n",
    "        inverted_img = cv2.imread(img_path, cv2.IMREAD_GRAYSCALE)\n",
    "        kernel = cv2.getStructuringElement(cv2.MORPH_RECT, (3, 3))\n",
    "        dilated_img = cv2.dilate(inverted_img, kernel, iterations=1)\n",
    "        save_path = os.path.join(new_dir_path, f\"{i:05d}.png\")\n",
    "        cv2.imwrite(save_path, dilated_img)\n",
    "    \n",
    "    df[new_dir_path] = [os.path.join(new_dir_path, f\"{i:05d}.png\") for i in range(len(df))]\n",
    "    return df\n"
   ]
  },
  {
   "cell_type": "code",
   "execution_count": 97,
   "metadata": {},
   "outputs": [],
   "source": [
    "def erode_images(df, from_path, new_dir_path):\n",
    "    try:\n",
    "        os.makedirs(new_dir_path)\n",
    "    except:\n",
    "        pass\n",
    "    for i, img_path in enumerate(df[from_path]):\n",
    "        inverted_img = cv2.imread(img_path, cv2.IMREAD_GRAYSCALE)\n",
    "        kernel = cv2.getStructuringElement(cv2.MORPH_RECT, (3, 3))\n",
    "        eroded_img = cv2.erode(inverted_img, kernel, iterations=1)\n",
    "        save_path = os.path.join(new_dir_path, f\"{i:05d}.png\")\n",
    "        cv2.imwrite(save_path, eroded_img)\n",
    "    \n",
    "    df[new_dir_path] = [os.path.join(new_dir_path, f\"{i:05d}.png\") for i in range(len(df))]\n",
    "    return df\n"
   ]
  },
  {
   "cell_type": "code",
   "execution_count": 98,
   "metadata": {},
   "outputs": [],
   "source": [
    "def thin_images(df, from_path, new_dir_path):\n",
    "    try:\n",
    "        os.makedirs(new_dir_path)\n",
    "    except:\n",
    "        pass\n",
    "    for i, img_path in enumerate(df[from_path]):\n",
    "        inverted_img = cv2.imread(img_path, cv2.IMREAD_GRAYSCALE)\n",
    "        _, binary_img = cv2.threshold(inverted_img, 128, 255, cv2.THRESH_BINARY)\n",
    "        skeleton = skeletonize(binary_img / 255)\n",
    "        thin_img = (skeleton * 255).astype(np.uint8)\n",
    "        save_path = os.path.join(new_dir_path, f\"{i:05d}.png\")\n",
    "        cv2.imwrite(save_path, thin_img)\n",
    "    \n",
    "    df[new_dir_path] = [os.path.join(new_dir_path, f\"{i:05d}.png\") for i in range(len(df))]\n",
    "    return df\n"
   ]
  },
  {
   "cell_type": "code",
   "execution_count": 99,
   "metadata": {},
   "outputs": [],
   "source": [
    "def thin_images(df, from_path, new_dir_path):\n",
    "    try:\n",
    "        os.makedirs(new_dir_path)\n",
    "    except:\n",
    "        pass\n",
    "    for i, img_path in enumerate(df[from_path]):\n",
    "        inverted_img = cv2.imread(img_path, cv2.IMREAD_GRAYSCALE)\n",
    "        _, binary_img = cv2.threshold(inverted_img, 128, 255, cv2.THRESH_BINARY)\n",
    "        contours, _ = cv2.findContours(binary_img, cv2.RETR_EXTERNAL, cv2.CHAIN_APPROX_NONE)\n",
    "        \n",
    "        for contour in contours:\n",
    "            contour_img = np.zeros_like(binary_img)\n",
    "            cv2.drawContours(contour_img, [contour], -1, 255, thickness=cv2.FILLED)\n",
    "            binary_img = cv2.bitwise_xor(binary_img, contour_img)\n",
    "        \n",
    "        save_path = os.path.join(new_dir_path, f\"{i:05d}.png\")\n",
    "        cv2.imwrite(save_path, binary_img)\n",
    "    \n",
    "    df[new_dir_path] = [os.path.join(new_dir_path, f\"{i:05d}.png\") for i in range(len(df))]\n",
    "    return df\n"
   ]
  },
  {
   "cell_type": "code",
   "execution_count": 100,
   "metadata": {},
   "outputs": [],
   "source": [
    "def detect_edges_canny(df, from_path, new_dir_path, low_threshold, high_threshold):\n",
    "    try:\n",
    "        os.makedirs(new_dir_path)\n",
    "    except:\n",
    "        pass\n",
    "    for i, img_path in enumerate(df[from_path]):\n",
    "        gray_img = cv2.imread(img_path, cv2.IMREAD_GRAYSCALE)\n",
    "        edges = cv2.Canny(gray_img, low_threshold, high_threshold)\n",
    "        save_path = os.path.join(new_dir_path, f\"{i:05d}.png\")\n",
    "        cv2.imwrite(save_path, edges)\n",
    "        \n",
    "    df[new_dir_path] = [os.path.join(new_dir_path, f\"{i:05d}.png\") for i in range(len(df))]\n",
    "    return df\n"
   ]
  },
  {
   "cell_type": "markdown",
   "metadata": {},
   "source": [
    "resize to specific height"
   ]
  },
  {
   "cell_type": "code",
   "execution_count": 101,
   "metadata": {},
   "outputs": [],
   "source": [
    "def resize_images_with_height(df,from_path, new_dir_path, target_height):\n",
    "    try:\n",
    "        os.makedirs(new_dir_path)\n",
    "    except:\n",
    "        pass\n",
    "    \n",
    "    for i, img_path in enumerate(df[from_path]):\n",
    "        img = cv2.imread(img_path, cv2.IMREAD_GRAYSCALE)\n",
    "        height, width = img.shape\n",
    "        target_width = int(width * (target_height / height))\n",
    "        resized_img = cv2.resize(img, (target_width, target_height))\n",
    "        save_path = os.path.join(new_dir_path, f\"{i:05d}.png\")\n",
    "        cv2.imwrite(save_path, resized_img)\n",
    "    \n",
    "    df[new_dir_path] = [os.path.join(new_dir_path, f\"{i:05d}.png\") for i in range(len(df))]\n",
    "    return df"
   ]
  },
  {
   "cell_type": "markdown",
   "metadata": {},
   "source": [
    "resize to specific height and width"
   ]
  },
  {
   "cell_type": "code",
   "execution_count": 102,
   "metadata": {},
   "outputs": [],
   "source": [
    "def resize_images(df,from_path, new_dir_path, target_height,target_width):\n",
    "    try:\n",
    "        os.makedirs(new_dir_path)\n",
    "    except:\n",
    "        pass\n",
    "    \n",
    "    for i, img_path in enumerate(df[from_path]):\n",
    "        img = cv2.imread(img_path, cv2.IMREAD_GRAYSCALE)\n",
    "        resized_img = cv2.resize(img, (target_width, target_height))\n",
    "        save_path = os.path.join(new_dir_path, f\"{i:05d}.png\")\n",
    "        cv2.imwrite(save_path, resized_img)\n",
    "    \n",
    "    df[new_dir_path] = [os.path.join(new_dir_path, f\"{i:05d}.png\") for i in range(len(df))]\n",
    "    return df"
   ]
  },
  {
   "cell_type": "code",
   "execution_count": 103,
   "metadata": {},
   "outputs": [],
   "source": [
    "def add_white_padding(df,from_path,new_dir_path, padding_width):\n",
    "    try:\n",
    "        os.makedirs(new_dir_path)\n",
    "    except:\n",
    "        pass\n",
    "\n",
    "    for i, img_path in enumerate(df[from_path]):\n",
    "        img = cv2.imread(img_path, cv2.IMREAD_GRAYSCALE)\n",
    "        height, width = img.shape\n",
    "        new_width = width + 2 * padding_width\n",
    "        padded_img = 255 * np.ones((height, new_width), dtype=np.uint8)\n",
    "        start_col = padding_width\n",
    "        padded_img[:, start_col:start_col + width] = img\n",
    "        save_path = os.path.join(new_dir_path, f\"{i:05d}.png\")\n",
    "        cv2.imwrite(save_path, padded_img)\n",
    "\n",
    "    df[new_dir_path] = [os.path.join(new_dir_path, f\"{i:05d}.png\") for i in range(len(df))]\n",
    "    return df"
   ]
  },
  {
   "cell_type": "code",
   "execution_count": 104,
   "metadata": {},
   "outputs": [
    {
     "name": "stdout",
     "output_type": "stream",
     "text": [
      "11719\n",
      "11719\n"
     ]
    }
   ],
   "source": [
    "all_labels = reset_data()"
   ]
  },
  {
   "cell_type": "markdown",
   "metadata": {},
   "source": [
    "## PLOT Images"
   ]
  },
  {
   "cell_type": "code",
   "execution_count": 105,
   "metadata": {},
   "outputs": [],
   "source": [
    "# plot_random_image(all_labels,'image_path')"
   ]
  },
  {
   "cell_type": "markdown",
   "metadata": {},
   "source": [
    "## Preproccesing"
   ]
  },
  {
   "cell_type": "code",
   "execution_count": 106,
   "metadata": {},
   "outputs": [],
   "source": [
    "# Gray scale\n",
    "all_labels = convert_to_grayscale(all_labels,'image_path','./grayscaled/')"
   ]
  },
  {
   "cell_type": "code",
   "execution_count": 107,
   "metadata": {},
   "outputs": [],
   "source": [
    "# resize to specific height\n",
    "# target_height = 28\n",
    "# all_labels = resize_images_with_height(all_labels,'./grayscaled/', './resized/', target_height)\n",
    "all_labels = resize_images(all_labels,'./grayscaled/', './resized/', target_height=54,target_width=174)\n"
   ]
  },
  {
   "cell_type": "code",
   "execution_count": 108,
   "metadata": {},
   "outputs": [],
   "source": [
    "# padding from right and left\n",
    "\n",
    "# padding_width = 28\n",
    "# all_labels = add_white_padding(all_labels, './resized/','./padded/', padding_width)"
   ]
  },
  {
   "cell_type": "code",
   "execution_count": 109,
   "metadata": {},
   "outputs": [],
   "source": [
    "# Denoising\n",
    "\n",
    "# all_labels = denoise_images(all_labels, 'image_path', './denoised/')\n",
    "# all_labels = denoise_images_fastnlmeans(all_labels, './grayscaled/', './denoised_fastnlmeans/')"
   ]
  },
  {
   "cell_type": "code",
   "execution_count": 110,
   "metadata": {},
   "outputs": [],
   "source": [
    "# binarizing and inverting\n",
    "\n",
    "# block_size = 9\n",
    "# offset = 0\n",
    "# all_labels = local_threshold_images(all_labels, './edges/', './local_thresholded/', block_size, offset)\n",
    "# all_labels = binarize_images(all_labels, './denoised_fastnlmeans/', './binarized/')\n",
    "# all_labels = invert_images(all_labels, './denoised_fastnlmeans/', './inverted/')"
   ]
  },
  {
   "cell_type": "code",
   "execution_count": 111,
   "metadata": {},
   "outputs": [],
   "source": [
    "# thinning and delating\n",
    "\n",
    "# all_labels = dilate_images(all_labels, './edges/', './dilated/')\n",
    "# all_labels = erode_images(all_labels, './inverted/', './eroded/')\n",
    "# all_labels = thin_images(all_labels, './inverted/', './thinned/')\n",
    "# all_labels = thin_images(all_labels, './inverted/', './c_thinned/')"
   ]
  },
  {
   "cell_type": "code",
   "execution_count": 112,
   "metadata": {},
   "outputs": [],
   "source": [
    "# edge detecting with canny \n",
    "\n",
    "# low_threshold = 50\n",
    "# high_threshold = 150\n",
    "# all_labels = detect_edges_canny(all_labels, './denoised_fastnlmeans/', './edges/', low_threshold, high_threshold)"
   ]
  },
  {
   "cell_type": "code",
   "execution_count": 113,
   "metadata": {},
   "outputs": [
    {
     "data": {
      "text/html": [
       "<div>\n",
       "<style scoped>\n",
       "    .dataframe tbody tr th:only-of-type {\n",
       "        vertical-align: middle;\n",
       "    }\n",
       "\n",
       "    .dataframe tbody tr th {\n",
       "        vertical-align: top;\n",
       "    }\n",
       "\n",
       "    .dataframe thead th {\n",
       "        text-align: right;\n",
       "    }\n",
       "</style>\n",
       "<table border=\"1\" class=\"dataframe\">\n",
       "  <thead>\n",
       "    <tr style=\"text-align: right;\">\n",
       "      <th></th>\n",
       "      <th>image_path</th>\n",
       "      <th>label</th>\n",
       "      <th>actual_digit_count</th>\n",
       "      <th>./grayscaled/</th>\n",
       "      <th>./resized/</th>\n",
       "    </tr>\n",
       "  </thead>\n",
       "  <tbody>\n",
       "    <tr>\n",
       "      <th>0</th>\n",
       "      <td>./ORAND-CAR-2014/CAR-A/a_test_images/a_car_007...</td>\n",
       "      <td>1500</td>\n",
       "      <td>4</td>\n",
       "      <td>./grayscaled/00000.png</td>\n",
       "      <td>./resized/00000.png</td>\n",
       "    </tr>\n",
       "    <tr>\n",
       "      <th>1</th>\n",
       "      <td>./ORAND-CAR-2014/CAR-A/a_test_images/a_car_007...</td>\n",
       "      <td>5743</td>\n",
       "      <td>4</td>\n",
       "      <td>./grayscaled/00001.png</td>\n",
       "      <td>./resized/00001.png</td>\n",
       "    </tr>\n",
       "    <tr>\n",
       "      <th>2</th>\n",
       "      <td>./ORAND-CAR-2014/CAR-A/a_test_images/a_car_007...</td>\n",
       "      <td>1056</td>\n",
       "      <td>4</td>\n",
       "      <td>./grayscaled/00002.png</td>\n",
       "      <td>./resized/00002.png</td>\n",
       "    </tr>\n",
       "    <tr>\n",
       "      <th>3</th>\n",
       "      <td>./ORAND-CAR-2014/CAR-A/a_test_images/a_car_007...</td>\n",
       "      <td>1000</td>\n",
       "      <td>4</td>\n",
       "      <td>./grayscaled/00003.png</td>\n",
       "      <td>./resized/00003.png</td>\n",
       "    </tr>\n",
       "    <tr>\n",
       "      <th>4</th>\n",
       "      <td>./ORAND-CAR-2014/CAR-A/a_test_images/a_car_007...</td>\n",
       "      <td>1000</td>\n",
       "      <td>4</td>\n",
       "      <td>./grayscaled/00004.png</td>\n",
       "      <td>./resized/00004.png</td>\n",
       "    </tr>\n",
       "    <tr>\n",
       "      <th>...</th>\n",
       "      <td>...</td>\n",
       "      <td>...</td>\n",
       "      <td>...</td>\n",
       "      <td>...</td>\n",
       "      <td>...</td>\n",
       "    </tr>\n",
       "    <tr>\n",
       "      <th>11714</th>\n",
       "      <td>./ORAND-CAR-2014/CAR-B/b_train_images/b_car_00...</td>\n",
       "      <td>100000</td>\n",
       "      <td>6</td>\n",
       "      <td>./grayscaled/11714.png</td>\n",
       "      <td>./resized/11714.png</td>\n",
       "    </tr>\n",
       "    <tr>\n",
       "      <th>11715</th>\n",
       "      <td>./ORAND-CAR-2014/CAR-B/b_train_images/b_car_00...</td>\n",
       "      <td>85000</td>\n",
       "      <td>5</td>\n",
       "      <td>./grayscaled/11715.png</td>\n",
       "      <td>./resized/11715.png</td>\n",
       "    </tr>\n",
       "    <tr>\n",
       "      <th>11716</th>\n",
       "      <td>./ORAND-CAR-2014/CAR-B/b_train_images/b_car_00...</td>\n",
       "      <td>150000</td>\n",
       "      <td>6</td>\n",
       "      <td>./grayscaled/11716.png</td>\n",
       "      <td>./resized/11716.png</td>\n",
       "    </tr>\n",
       "    <tr>\n",
       "      <th>11717</th>\n",
       "      <td>./ORAND-CAR-2014/CAR-B/b_train_images/b_car_00...</td>\n",
       "      <td>13356</td>\n",
       "      <td>5</td>\n",
       "      <td>./grayscaled/11717.png</td>\n",
       "      <td>./resized/11717.png</td>\n",
       "    </tr>\n",
       "    <tr>\n",
       "      <th>11718</th>\n",
       "      <td>./ORAND-CAR-2014/CAR-B/b_train_images/b_car_00...</td>\n",
       "      <td>100000</td>\n",
       "      <td>6</td>\n",
       "      <td>./grayscaled/11718.png</td>\n",
       "      <td>./resized/11718.png</td>\n",
       "    </tr>\n",
       "  </tbody>\n",
       "</table>\n",
       "<p>11719 rows × 5 columns</p>\n",
       "</div>"
      ],
      "text/plain": [
       "                                              image_path   label  \\\n",
       "0      ./ORAND-CAR-2014/CAR-A/a_test_images/a_car_007...    1500   \n",
       "1      ./ORAND-CAR-2014/CAR-A/a_test_images/a_car_007...    5743   \n",
       "2      ./ORAND-CAR-2014/CAR-A/a_test_images/a_car_007...    1056   \n",
       "3      ./ORAND-CAR-2014/CAR-A/a_test_images/a_car_007...    1000   \n",
       "4      ./ORAND-CAR-2014/CAR-A/a_test_images/a_car_007...    1000   \n",
       "...                                                  ...     ...   \n",
       "11714  ./ORAND-CAR-2014/CAR-B/b_train_images/b_car_00...  100000   \n",
       "11715  ./ORAND-CAR-2014/CAR-B/b_train_images/b_car_00...   85000   \n",
       "11716  ./ORAND-CAR-2014/CAR-B/b_train_images/b_car_00...  150000   \n",
       "11717  ./ORAND-CAR-2014/CAR-B/b_train_images/b_car_00...   13356   \n",
       "11718  ./ORAND-CAR-2014/CAR-B/b_train_images/b_car_00...  100000   \n",
       "\n",
       "       actual_digit_count           ./grayscaled/           ./resized/  \n",
       "0                       4  ./grayscaled/00000.png  ./resized/00000.png  \n",
       "1                       4  ./grayscaled/00001.png  ./resized/00001.png  \n",
       "2                       4  ./grayscaled/00002.png  ./resized/00002.png  \n",
       "3                       4  ./grayscaled/00003.png  ./resized/00003.png  \n",
       "4                       4  ./grayscaled/00004.png  ./resized/00004.png  \n",
       "...                   ...                     ...                  ...  \n",
       "11714                   6  ./grayscaled/11714.png  ./resized/11714.png  \n",
       "11715                   5  ./grayscaled/11715.png  ./resized/11715.png  \n",
       "11716                   6  ./grayscaled/11716.png  ./resized/11716.png  \n",
       "11717                   5  ./grayscaled/11717.png  ./resized/11717.png  \n",
       "11718                   6  ./grayscaled/11718.png  ./resized/11718.png  \n",
       "\n",
       "[11719 rows x 5 columns]"
      ]
     },
     "execution_count": 113,
     "metadata": {},
     "output_type": "execute_result"
    }
   ],
   "source": [
    "all_labels"
   ]
  },
  {
   "cell_type": "code",
   "execution_count": 114,
   "metadata": {},
   "outputs": [],
   "source": [
    "sizes_df = get_size_dataFrame(all_labels,'./grayscaled/')"
   ]
  },
  {
   "cell_type": "code",
   "execution_count": 115,
   "metadata": {},
   "outputs": [
    {
     "data": {
      "text/html": [
       "<div>\n",
       "<style scoped>\n",
       "    .dataframe tbody tr th:only-of-type {\n",
       "        vertical-align: middle;\n",
       "    }\n",
       "\n",
       "    .dataframe tbody tr th {\n",
       "        vertical-align: top;\n",
       "    }\n",
       "\n",
       "    .dataframe thead th {\n",
       "        text-align: right;\n",
       "    }\n",
       "</style>\n",
       "<table border=\"1\" class=\"dataframe\">\n",
       "  <thead>\n",
       "    <tr style=\"text-align: right;\">\n",
       "      <th></th>\n",
       "      <th>width</th>\n",
       "      <th>height</th>\n",
       "    </tr>\n",
       "  </thead>\n",
       "  <tbody>\n",
       "    <tr>\n",
       "      <th>count</th>\n",
       "      <td>11719.000000</td>\n",
       "      <td>11719.000000</td>\n",
       "    </tr>\n",
       "    <tr>\n",
       "      <th>mean</th>\n",
       "      <td>172.944705</td>\n",
       "      <td>54.925250</td>\n",
       "    </tr>\n",
       "    <tr>\n",
       "      <th>std</th>\n",
       "      <td>44.082070</td>\n",
       "      <td>9.066699</td>\n",
       "    </tr>\n",
       "    <tr>\n",
       "      <th>min</th>\n",
       "      <td>40.000000</td>\n",
       "      <td>28.000000</td>\n",
       "    </tr>\n",
       "    <tr>\n",
       "      <th>25%</th>\n",
       "      <td>144.000000</td>\n",
       "      <td>49.000000</td>\n",
       "    </tr>\n",
       "    <tr>\n",
       "      <th>50%</th>\n",
       "      <td>171.000000</td>\n",
       "      <td>54.000000</td>\n",
       "    </tr>\n",
       "    <tr>\n",
       "      <th>75%</th>\n",
       "      <td>199.000000</td>\n",
       "      <td>61.000000</td>\n",
       "    </tr>\n",
       "    <tr>\n",
       "      <th>max</th>\n",
       "      <td>363.000000</td>\n",
       "      <td>108.000000</td>\n",
       "    </tr>\n",
       "  </tbody>\n",
       "</table>\n",
       "</div>"
      ],
      "text/plain": [
       "              width        height\n",
       "count  11719.000000  11719.000000\n",
       "mean     172.944705     54.925250\n",
       "std       44.082070      9.066699\n",
       "min       40.000000     28.000000\n",
       "25%      144.000000     49.000000\n",
       "50%      171.000000     54.000000\n",
       "75%      199.000000     61.000000\n",
       "max      363.000000    108.000000"
      ]
     },
     "execution_count": 115,
     "metadata": {},
     "output_type": "execute_result"
    }
   ],
   "source": [
    "sizes_df.describe()"
   ]
  },
  {
   "cell_type": "code",
   "execution_count": 116,
   "metadata": {},
   "outputs": [
    {
     "data": {
      "image/png": "[encoded data removed]",
      "text/plain": [
       "<Figure size 640x480 with 1 Axes>"
      ]
     },
     "metadata": {},
     "output_type": "display_data"
    }
   ],
   "source": [
    "heights = sizes_df['height'].value_counts()\n",
    "value_counts_df = heights.reset_index()\n",
    "value_counts_df.columns = ['Value', 'Count']\n",
    "plt.bar(heights.index, heights.values)\n",
    "plt.xlabel('Unique Values')\n",
    "plt.ylabel('Count')\n",
    "plt.title('Count of Unique Values')\n",
    "plt.show()\n"
   ]
  },
  {
   "cell_type": "code",
   "execution_count": 117,
   "metadata": {},
   "outputs": [
    {
     "data": {
      "image/png": "[encoded data removed]",
      "text/plain": [
       "<Figure size 640x480 with 1 Axes>"
      ]
     },
     "metadata": {},
     "output_type": "display_data"
    }
   ],
   "source": [
    "widths = sizes_df['width'].value_counts()\n",
    "value_counts_df = widths.reset_index()\n",
    "value_counts_df.columns = ['Value', 'Count']\n",
    "plt.bar(widths.index, widths.values)\n",
    "plt.xlabel('Unique Values')\n",
    "plt.ylabel('Count')\n",
    "plt.title('Count of Unique Values')\n",
    "plt.show()\n"
   ]
  },
  {
   "cell_type": "markdown",
   "metadata": {},
   "source": [
    "based on these two plots its better to resize images to 53*173"
   ]
  },
  {
   "cell_type": "code",
   "execution_count": 118,
   "metadata": {},
   "outputs": [],
   "source": [
    "digits= '0123456789'\n",
    "img_h=54\n",
    "img_w=174\n",
    "#image Channels\n",
    "img_c=1\n",
    "\n",
    "# classes for softmax with number of letters +1 for blank space in ctc\n",
    "num_classes=len(digits) +1\n",
    "batch_size=64\n",
    "max_length=8 # considering max length of ground truths labels to be 8"
   ]
  },
  {
   "cell_type": "code",
   "execution_count": 119,
   "metadata": {},
   "outputs": [],
   "source": [
    "def encode_numbers_labels(number):\n",
    "    \"\"\"\n",
    "    Encodes the Ground Truth Labels to a list of Values like eg.HAT returns [17,10,29]\n",
    "    \"\"\"\n",
    "    label_lst=[]\n",
    "    for char in str(number):\n",
    "        label_lst.append(digits.find(char)) # keeping 0 for blank and for padding labels\n",
    "    return label_lst"
   ]
  },
  {
   "cell_type": "code",
   "execution_count": 120,
   "metadata": {},
   "outputs": [],
   "source": [
    "def numbers_from_labels(labels):\n",
    "    txt=[]\n",
    "    for ele in labels:\n",
    "        if ele == len(digits): # CTC blank space\n",
    "            txt.append(\"\")\n",
    "        else:\n",
    "            #print(letters[ele])\n",
    "            txt.append(digits[ele])\n",
    "    return \"\".join(txt)"
   ]
  },
  {
   "cell_type": "code",
   "execution_count": 121,
   "metadata": {},
   "outputs": [],
   "source": [
    "def ctc_loss_function(args):\n",
    "    y_pred, y_true, input_length, label_length = args \n",
    "    y_pred = y_pred[:, 2:, :] # maybe need change based on my project and model architecture\n",
    "    return K.ctc_batch_cost(y_true, y_pred, input_length, label_length)"
   ]
  },
  {
   "cell_type": "code",
   "execution_count": 122,
   "metadata": {},
   "outputs": [],
   "source": [
    "from keras.layers import Input, Conv2D, MaxPool2D, Dense,MaxPooling2D\n",
    "from keras.layers import AveragePooling2D, Flatten, Activation, Bidirectional\n",
    "from keras.layers import BatchNormalization, Dropout\n",
    "from keras.layers import Concatenate, Add, Multiply, Lambda\n",
    "from keras.layers import UpSampling2D, Reshape\n",
    "from keras.layers import add, concatenate\n",
    "from keras.layers import Reshape\n",
    "from keras.models import Model\n",
    "from keras.layers import LSTM,GRU\n",
    "import tensorflow as tf"
   ]
  },
  {
   "cell_type": "code",
   "execution_count": 123,
   "metadata": {},
   "outputs": [],
   "source": [
    "def Image_digit_recogniser_model_1(stage,drop_out_rate=0.35):\n",
    "    img_h=54\n",
    "    img_w=174\n",
    "    if K.image_data_format() == 'channels_first':\n",
    "        input_shape = (1, img_w, img_h)\n",
    "    else:\n",
    "        input_shape = (img_w, img_h, 1)\n",
    "        #input shape is (174, 54, 1)  \n",
    "        #input shape is (174, 54, 64)  \n",
    "        #input shape is (87, 27, 64)  \n",
    "        #input shape is (87, 27, 128)\n",
    "        #input shape is (43, 13, 128)\n",
    "        #input shape is (43, 13, 256)\n",
    "        #input shape is (43, 6, 512)\n",
    "        #input shape is (43, 3, 512)\n",
    "        #input shape is (43, 1536)\n",
    "    model_input=Input(shape=input_shape,name='img_input',dtype='float32')\n",
    "\n",
    "    # Convolution layer \n",
    "    model = Conv2D(64, (3, 3), padding='same', name='conv1', kernel_initializer='he_normal')(model_input) \n",
    "    model = BatchNormalization()(model)\n",
    "    model = Activation('relu')(model)\n",
    "    model = MaxPooling2D(pool_size=(2, 2), name='max1')(model) \n",
    "\n",
    "    model = Conv2D(128, (3, 3), padding='same', name='conv2', kernel_initializer='he_normal')(model) \n",
    "    model = BatchNormalization()(model)\n",
    "    model = Activation('relu')(model)\n",
    "    model = MaxPooling2D(pool_size=(2, 2), name='max2')(model) \n",
    "\n",
    "    model = Conv2D(256, (3, 3), padding='same', name='conv3', kernel_initializer='he_normal')(model) \n",
    "    model = BatchNormalization()(model)\n",
    "    model = Activation('relu')(model)\n",
    "    model = Conv2D(256, (3, 3), padding='same', name='conv4', kernel_initializer='he_normal')(model)\n",
    "    model=Dropout(drop_out_rate)(model)\n",
    "    model = BatchNormalization()(model)\n",
    "    model = Activation('relu')(model)\n",
    "    model = MaxPooling2D(pool_size=(1, 3), name='max3')(model)  \n",
    "\n",
    "    model = Conv2D(512, (3, 3), padding='same', name='conv5', kernel_initializer='he_normal')(model) \n",
    "    model = BatchNormalization()(model)\n",
    "    model = Activation('relu')(model)\n",
    "    model = Conv2D(512, (3, 3), padding='same', name='conv6')(model)\n",
    "    model=Dropout(drop_out_rate)(model)\n",
    "    model = BatchNormalization()(model)\n",
    "    model = Activation('relu')(model)\n",
    "    model = MaxPooling2D(pool_size=(1, 2), name='max4')(model) \n",
    "\n",
    "    model = Conv2D(512, (2, 2), padding='same', kernel_initializer='he_normal', name='con7')(model)\n",
    "    model=Dropout(0.25)(model)\n",
    "    model = BatchNormalization()(model)\n",
    "    model = Activation('relu')(model)    \n",
    "\n",
    "    # CNN to RNN\n",
    "    model = Reshape(target_shape=(43, 1024), name='reshape')(model)\n",
    "\n",
    "    model = Dense(64, activation='relu', kernel_initializer='he_normal', name='dense1')(model)  \n",
    "\n",
    "    # RNN layer\n",
    "    model=Bidirectional(LSTM(256, return_sequences=True, kernel_initializer='he_normal'), merge_mode='sum')(model)\n",
    "    model=Bidirectional(LSTM(256, return_sequences=True, kernel_initializer='he_normal'), merge_mode='concat')(model)\n",
    "\n",
    "    # transforms RNN output to character activations:\n",
    "    model = Dense(num_classes, kernel_initializer='he_normal',name='dense2')(model) \n",
    "    y_pred = Activation('softmax', name='softmax')(model)\n",
    "\n",
    "    \n",
    "    labels = Input(name='ground_truth_labels', shape=[max_length], dtype='float32') \n",
    "    input_length = Input(name='input_length', shape=[1], dtype='int64') \n",
    "    label_length = Input(name='label_length', shape=[1], dtype='int64') \n",
    "\n",
    "    #CTC loss function\n",
    "    loss_out = Lambda(ctc_loss_function, output_shape=(1,),name='ctc')([y_pred, labels, input_length, label_length]) #(None, 1)\n",
    "\n",
    "    if stage=='train':\n",
    "        return model_input,y_pred,Model(inputs=[model_input, labels, input_length, label_length], outputs=loss_out)\n",
    "    else:\n",
    "        return Model(inputs=[model_input], outputs=y_pred)  "
   ]
  },
  {
   "cell_type": "code",
   "execution_count": 124,
   "metadata": {},
   "outputs": [],
   "source": [
    "model_input,y_pred,img_digit_recog=Image_digit_recogniser_model_1('train')"
   ]
  },
  {
   "cell_type": "code",
   "execution_count": 125,
   "metadata": {},
   "outputs": [],
   "source": [
    "test_func = K.function([model_input], [y_pred])"
   ]
  },
  {
   "cell_type": "code",
   "execution_count": 126,
   "metadata": {},
   "outputs": [
    {
     "name": "stdout",
     "output_type": "stream",
     "text": [
      "Model: \"model_4\"\n",
      "__________________________________________________________________________________________________\n",
      " Layer (type)                Output Shape                 Param #   Connected to                  \n",
      "==================================================================================================\n",
      " img_input (InputLayer)      [(None, 174, 54, 1)]         0         []                            \n",
      "                                                                                                  \n",
      " conv1 (Conv2D)              (None, 174, 54, 64)          640       ['img_input[0][0]']           \n",
      "                                                                                                  \n",
      " batch_normalization_14 (Ba  (None, 174, 54, 64)          256       ['conv1[0][0]']               \n",
      " tchNormalization)                                                                                \n",
      "                                                                                                  \n",
      " activation_14 (Activation)  (None, 174, 54, 64)          0         ['batch_normalization_14[0][0]\n",
      "                                                                    ']                            \n",
      "                                                                                                  \n",
      " max1 (MaxPooling2D)         (None, 87, 27, 64)           0         ['activation_14[0][0]']       \n",
      "                                                                                                  \n",
      " conv2 (Conv2D)              (None, 87, 27, 128)          73856     ['max1[0][0]']                \n",
      "                                                                                                  \n",
      " batch_normalization_15 (Ba  (None, 87, 27, 128)          512       ['conv2[0][0]']               \n",
      " tchNormalization)                                                                                \n",
      "                                                                                                  \n",
      " activation_15 (Activation)  (None, 87, 27, 128)          0         ['batch_normalization_15[0][0]\n",
      "                                                                    ']                            \n",
      "                                                                                                  \n",
      " max2 (MaxPooling2D)         (None, 43, 13, 128)          0         ['activation_15[0][0]']       \n",
      "                                                                                                  \n",
      " conv3 (Conv2D)              (None, 43, 13, 256)          295168    ['max2[0][0]']                \n",
      "                                                                                                  \n",
      " batch_normalization_16 (Ba  (None, 43, 13, 256)          1024      ['conv3[0][0]']               \n",
      " tchNormalization)                                                                                \n",
      "                                                                                                  \n",
      " activation_16 (Activation)  (None, 43, 13, 256)          0         ['batch_normalization_16[0][0]\n",
      "                                                                    ']                            \n",
      "                                                                                                  \n",
      " conv4 (Conv2D)              (None, 43, 13, 256)          590080    ['activation_16[0][0]']       \n",
      "                                                                                                  \n",
      " dropout_6 (Dropout)         (None, 43, 13, 256)          0         ['conv4[0][0]']               \n",
      "                                                                                                  \n",
      " batch_normalization_17 (Ba  (None, 43, 13, 256)          1024      ['dropout_6[0][0]']           \n",
      " tchNormalization)                                                                                \n",
      "                                                                                                  \n",
      " activation_17 (Activation)  (None, 43, 13, 256)          0         ['batch_normalization_17[0][0]\n",
      "                                                                    ']                            \n",
      "                                                                                                  \n",
      " max3 (MaxPooling2D)         (None, 43, 4, 256)           0         ['activation_17[0][0]']       \n",
      "                                                                                                  \n",
      " conv5 (Conv2D)              (None, 43, 4, 512)           1180160   ['max3[0][0]']                \n",
      "                                                                                                  \n",
      " batch_normalization_18 (Ba  (None, 43, 4, 512)           2048      ['conv5[0][0]']               \n",
      " tchNormalization)                                                                                \n",
      "                                                                                                  \n",
      " activation_18 (Activation)  (None, 43, 4, 512)           0         ['batch_normalization_18[0][0]\n",
      "                                                                    ']                            \n",
      "                                                                                                  \n",
      " conv6 (Conv2D)              (None, 43, 4, 512)           2359808   ['activation_18[0][0]']       \n",
      "                                                                                                  \n",
      " dropout_7 (Dropout)         (None, 43, 4, 512)           0         ['conv6[0][0]']               \n",
      "                                                                                                  \n",
      " batch_normalization_19 (Ba  (None, 43, 4, 512)           2048      ['dropout_7[0][0]']           \n",
      " tchNormalization)                                                                                \n",
      "                                                                                                  \n",
      " activation_19 (Activation)  (None, 43, 4, 512)           0         ['batch_normalization_19[0][0]\n",
      "                                                                    ']                            \n",
      "                                                                                                  \n",
      " max4 (MaxPooling2D)         (None, 43, 2, 512)           0         ['activation_19[0][0]']       \n",
      "                                                                                                  \n",
      " con7 (Conv2D)               (None, 43, 2, 512)           1049088   ['max4[0][0]']                \n",
      "                                                                                                  \n",
      " dropout_8 (Dropout)         (None, 43, 2, 512)           0         ['con7[0][0]']                \n",
      "                                                                                                  \n",
      " batch_normalization_20 (Ba  (None, 43, 2, 512)           2048      ['dropout_8[0][0]']           \n",
      " tchNormalization)                                                                                \n",
      "                                                                                                  \n",
      " activation_20 (Activation)  (None, 43, 2, 512)           0         ['batch_normalization_20[0][0]\n",
      "                                                                    ']                            \n",
      "                                                                                                  \n",
      " reshape (Reshape)           (None, 43, 1024)             0         ['activation_20[0][0]']       \n",
      "                                                                                                  \n",
      " dense1 (Dense)              (None, 43, 64)               65600     ['reshape[0][0]']             \n",
      "                                                                                                  \n",
      " bidirectional_4 (Bidirecti  (None, 43, 256)              657408    ['dense1[0][0]']              \n",
      " onal)                                                                                            \n",
      "                                                                                                  \n",
      " bidirectional_5 (Bidirecti  (None, 43, 512)              1050624   ['bidirectional_4[0][0]']     \n",
      " onal)                                                                                            \n",
      "                                                                                                  \n",
      " dense2 (Dense)              (None, 43, 11)               5643      ['bidirectional_5[0][0]']     \n",
      "                                                                                                  \n",
      " softmax (Activation)        (None, 43, 11)               0         ['dense2[0][0]']              \n",
      "                                                                                                  \n",
      " ground_truth_labels (Input  [(None, 8)]                  0         []                            \n",
      " Layer)                                                                                           \n",
      "                                                                                                  \n",
      " input_length (InputLayer)   [(None, 1)]                  0         []                            \n",
      "                                                                                                  \n",
      " label_length (InputLayer)   [(None, 1)]                  0         []                            \n",
      "                                                                                                  \n",
      " ctc (Lambda)                (None, 1)                    0         ['softmax[0][0]',             \n",
      "                                                                     'ground_truth_labels[0][0]', \n",
      "                                                                     'input_length[0][0]',        \n",
      "                                                                     'label_length[0][0]']        \n",
      "                                                                                                  \n",
      "==================================================================================================\n",
      "Total params: 7337035 (27.99 MB)\n",
      "Trainable params: 7332555 (27.97 MB)\n",
      "Non-trainable params: 4480 (17.50 KB)\n",
      "__________________________________________________________________________________________________\n"
     ]
    }
   ],
   "source": [
    "img_digit_recog.summary()"
   ]
  },
  {
   "cell_type": "code",
   "execution_count": 127,
   "metadata": {},
   "outputs": [
    {
     "data": {
      "text/html": [
       "<div>\n",
       "<style scoped>\n",
       "    .dataframe tbody tr th:only-of-type {\n",
       "        vertical-align: middle;\n",
       "    }\n",
       "\n",
       "    .dataframe tbody tr th {\n",
       "        vertical-align: top;\n",
       "    }\n",
       "\n",
       "    .dataframe thead th {\n",
       "        text-align: right;\n",
       "    }\n",
       "</style>\n",
       "<table border=\"1\" class=\"dataframe\">\n",
       "  <thead>\n",
       "    <tr style=\"text-align: right;\">\n",
       "      <th></th>\n",
       "      <th>image_path</th>\n",
       "      <th>label</th>\n",
       "      <th>actual_digit_count</th>\n",
       "      <th>./grayscaled/</th>\n",
       "      <th>./resized/</th>\n",
       "    </tr>\n",
       "  </thead>\n",
       "  <tbody>\n",
       "    <tr>\n",
       "      <th>0</th>\n",
       "      <td>./ORAND-CAR-2014/CAR-A/a_test_images/a_car_007...</td>\n",
       "      <td>1500</td>\n",
       "      <td>4</td>\n",
       "      <td>./grayscaled/00000.png</td>\n",
       "      <td>./resized/00000.png</td>\n",
       "    </tr>\n",
       "    <tr>\n",
       "      <th>1</th>\n",
       "      <td>./ORAND-CAR-2014/CAR-A/a_test_images/a_car_007...</td>\n",
       "      <td>5743</td>\n",
       "      <td>4</td>\n",
       "      <td>./grayscaled/00001.png</td>\n",
       "      <td>./resized/00001.png</td>\n",
       "    </tr>\n",
       "    <tr>\n",
       "      <th>2</th>\n",
       "      <td>./ORAND-CAR-2014/CAR-A/a_test_images/a_car_007...</td>\n",
       "      <td>1056</td>\n",
       "      <td>4</td>\n",
       "      <td>./grayscaled/00002.png</td>\n",
       "      <td>./resized/00002.png</td>\n",
       "    </tr>\n",
       "    <tr>\n",
       "      <th>3</th>\n",
       "      <td>./ORAND-CAR-2014/CAR-A/a_test_images/a_car_007...</td>\n",
       "      <td>1000</td>\n",
       "      <td>4</td>\n",
       "      <td>./grayscaled/00003.png</td>\n",
       "      <td>./resized/00003.png</td>\n",
       "    </tr>\n",
       "    <tr>\n",
       "      <th>4</th>\n",
       "      <td>./ORAND-CAR-2014/CAR-A/a_test_images/a_car_007...</td>\n",
       "      <td>1000</td>\n",
       "      <td>4</td>\n",
       "      <td>./grayscaled/00004.png</td>\n",
       "      <td>./resized/00004.png</td>\n",
       "    </tr>\n",
       "  </tbody>\n",
       "</table>\n",
       "</div>"
      ],
      "text/plain": [
       "                                          image_path label  \\\n",
       "0  ./ORAND-CAR-2014/CAR-A/a_test_images/a_car_007...  1500   \n",
       "1  ./ORAND-CAR-2014/CAR-A/a_test_images/a_car_007...  5743   \n",
       "2  ./ORAND-CAR-2014/CAR-A/a_test_images/a_car_007...  1056   \n",
       "3  ./ORAND-CAR-2014/CAR-A/a_test_images/a_car_007...  1000   \n",
       "4  ./ORAND-CAR-2014/CAR-A/a_test_images/a_car_007...  1000   \n",
       "\n",
       "   actual_digit_count           ./grayscaled/           ./resized/  \n",
       "0                   4  ./grayscaled/00000.png  ./resized/00000.png  \n",
       "1                   4  ./grayscaled/00001.png  ./resized/00001.png  \n",
       "2                   4  ./grayscaled/00002.png  ./resized/00002.png  \n",
       "3                   4  ./grayscaled/00003.png  ./resized/00003.png  \n",
       "4                   4  ./grayscaled/00004.png  ./resized/00004.png  "
      ]
     },
     "execution_count": 127,
     "metadata": {},
     "output_type": "execute_result"
    }
   ],
   "source": [
    "all_labels.head()"
   ]
  },
  {
   "cell_type": "markdown",
   "metadata": {},
   "source": [
    "# defining data generators"
   ]
  },
  {
   "cell_type": "code",
   "execution_count": 128,
   "metadata": {},
   "outputs": [],
   "source": [
    "class DataGenerator(keras.callbacks.Callback):\n",
    "    def __init__(self, df, img_w, img_h, batch_size, max_number_len=8):\n",
    "        self.img_h = img_h\n",
    "        self.img_w = img_w\n",
    "        self.batch_size = batch_size\n",
    "        self.max_number_len = max_number_len\n",
    "        \n",
    "        self.df = df\n",
    "        self.n = len(df)\n",
    "        self.indexes = list(range(self.n))\n",
    "        self.cur_index = 0\n",
    "        self.imgs = np.zeros((self.n, self.img_h, self.img_w))\n",
    "        self.numbers = df['label'].tolist()  # Extract related labels from DataFrame\n",
    "   \n",
    "   \n",
    "    def build_data(self):\n",
    "        print(self.n, \" Image Loading start...\")\n",
    "        for i, img_file in enumerate(self.df['./resized/']):\n",
    "            img = cv2.imread(img_file)\n",
    "            img = img[:,:,1]                               #Extracting Single Channel Image\n",
    "            img = cv2.resize(img, (self.img_w, self.img_h))\n",
    "            img = img /255\n",
    "            self.imgs[i, :, :]= img\n",
    "            if i%10000==0:\n",
    "                print(\"Loaded Images: \",i)\n",
    "           \n",
    "        print(\"Number of Texts matches with Total Number of Images :\",len(self.numbers) == self.n)\n",
    "        print(self.n, \" Image Loading finish...\")\n",
    "    \n",
    "    def next_data(self): \n",
    "        self.cur_index += 1\n",
    "        if self.cur_index >= self.n:\n",
    "            self.cur_index = 0\n",
    "            random.shuffle(self.indexes)\n",
    "        return self.imgs[self.indexes[self.cur_index]], self.numbers[self.indexes[self.cur_index]]\n",
    "\n",
    "    def next_batch(self):\n",
    "        while True:\n",
    "            X_data = np.ones([self.batch_size, self.img_w, self.img_h, 1])\n",
    "            Y_data = np.ones([self.batch_size, self.max_number_len])* -1   \n",
    "            input_length = np.ones((self.batch_size, 1)) * 40\n",
    "            label_length = np.zeros((self.batch_size, 1))                   #label length for CTC\n",
    "            source_str=[]                                                   #List to store Ground Truth Labels\n",
    "            for i in range(self.batch_size):\n",
    "                img, text = self.next_data() #getting the image and text data pointed by current index\n",
    "                                    #taking transpose of image\n",
    "                img=img.T\n",
    "                img = np.expand_dims(img, -1)  #expanding image to have a single channel\n",
    "                X_data[i] = img\n",
    "                label=encode_numbers_labels(text) # encoding label text to integer list and storing in temp label variable\n",
    "                lbl_len=len(label)\n",
    "                Y_data[i,0:lbl_len] = label #Storing the label till its length and padding others\n",
    "                label_length[i] = len(label)\n",
    "                source_str.append(text) #storing Ground Truth Labels which will be accessed as reference for calculating metrics\n",
    "            \n",
    "        #Preparing the input for the Model\n",
    "            inputs = {\n",
    "                'img_input': X_data,  \n",
    "                'ground_truth_labels': Y_data,  \n",
    "                'input_length': input_length,  \n",
    "                'label_length': label_length,\n",
    "                'source_str': source_str  # used for visualization only\n",
    "            }\n",
    "            #Preparing output for the Model and intializing to zeros\n",
    "            outputs = {'ctc': np.zeros([self.batch_size])}  \n",
    "            yield (inputs, outputs) # Return the Prepared input and output to the Model"
   ]
  },
  {
   "cell_type": "code",
   "execution_count": 129,
   "metadata": {},
   "outputs": [
    {
     "name": "stdout",
     "output_type": "stream",
     "text": [
      "10000  Image Loading start...\n",
      "Loaded Images:  0\n",
      "Number of Texts matches with Total Number of Images : True\n",
      "10000  Image Loading finish...\n"
     ]
    }
   ],
   "source": [
    "train_gene = DataGenerator(all_labels[:10000], img_w, img_h, batch_size, max_number_len=8)\n",
    "train_gene.build_data()\n",
    "train_num_batches=int(train_gene.n / batch_size)"
   ]
  },
  {
   "cell_type": "code",
   "execution_count": 130,
   "metadata": {},
   "outputs": [
    {
     "name": "stdout",
     "output_type": "stream",
     "text": [
      "1719  Image Loading start...\n",
      "Loaded Images:  0\n",
      "Number of Texts matches with Total Number of Images : True\n",
      "1719  Image Loading finish...\n"
     ]
    }
   ],
   "source": [
    "val_gen=DataGenerator(all_labels[10000:], img_w, img_h, batch_size, max_number_len=8)\n",
    "val_gen.build_data()\n",
    "val_num_batches=int(val_gen.n / batch_size)"
   ]
  },
  {
   "cell_type": "code",
   "execution_count": 131,
   "metadata": {},
   "outputs": [],
   "source": [
    "def decode_batch(test_func, number_batch):\n",
    "    out = test_func([number_batch])[0] #returns the predicted output matrix of the model\n",
    "    ret = []\n",
    "    for j in range(out.shape[0]):\n",
    "        out_best = list(np.argmax(out[j, 2:], 1))\n",
    "        out_best = [k for k, g in itertools.groupby(out_best)]\n",
    "        outstr = numbers_from_labels(out_best)\n",
    "        ret.append(outstr)\n",
    "    return ret"
   ]
  },
  {
   "cell_type": "code",
   "execution_count": 132,
   "metadata": {},
   "outputs": [],
   "source": [
    "def accuracies(actual_labels,predicted_labels,is_train):\n",
    "    accuracy=0\n",
    "    letter_acc=0\n",
    "    letter_cnt=0\n",
    "    count=0\n",
    "    for i in range(len(actual_labels)):\n",
    "        predicted_output=predicted_labels[i]\n",
    "        actual_output=actual_labels[i]\n",
    "        count+=1\n",
    "        for j in range(min(len(predicted_output),len(actual_output))):\n",
    "            if predicted_output[j]==actual_output[j]:\n",
    "                letter_acc+=1\n",
    "        letter_cnt+=max(len(predicted_output),len(actual_output))\n",
    "        if actual_output==predicted_output:\n",
    "            accuracy+=1\n",
    "    final_accuracy=np.round((accuracy/len(actual_labels))*100,2)\n",
    "    final_letter_acc=np.round((letter_acc/letter_cnt)*100,2)\n",
    "    return final_accuracy,final_letter_acc"
   ]
  },
  {
   "cell_type": "markdown",
   "metadata": {},
   "source": [
    "## callback visualizer"
   ]
  },
  {
   "cell_type": "code",
   "execution_count": 133,
   "metadata": {},
   "outputs": [],
   "source": [
    "class VizCallback(keras.callbacks.Callback):\n",
    "    \"\"\"\n",
    "    The Custom Callback created for printing the Accuracy and Letter Accuracy Metrics at the End of Each Epoch\n",
    "    \"\"\"\n",
    "\n",
    "    def __init__(self, test_func, text_img_gen,is_train,acc_compute_batches):\n",
    "        self.test_func = test_func\n",
    "        self.text_img_gen = text_img_gen\n",
    "        self.is_train=is_train                #used to indicate whether the callback is called to for Train or Validation Data\n",
    "        self.acc_batches=acc_compute_batches  # Number of Batches for which the metrics are computed typically equal to steps/epoch\n",
    "\n",
    "    def show_accuracy_metrics(self,num_batches):\n",
    "        \"\"\"\n",
    "        Calculates the accuracy and letter accuracy for each batch of inputs, \n",
    "        and prints the avarage accuracy and letter accuracy across all the batches\n",
    "        \"\"\"\n",
    "        accuracy=0\n",
    "        letter_accuracy=0\n",
    "        batches_cnt=num_batches\n",
    "        while batches_cnt>0:\n",
    "            number_batch = next(self.text_img_gen)[0]   #Gets the next batch from the Data generator\n",
    "            decoded_res = decode_batch(self.test_func,number_batch['img_input'])\n",
    "            actual_res=number_batch['source_str']\n",
    "            acc,let_acc=accuracies(actual_res,decoded_res,self.is_train)\n",
    "            accuracy+=acc\n",
    "            letter_accuracy+=let_acc\n",
    "            batches_cnt-=1\n",
    "        accuracy=accuracy/num_batches\n",
    "        letter_accuracy=letter_accuracy/num_batches\n",
    "        if self.is_train:\n",
    "            print(\"Train Average Accuracy of \"+str(num_batches)+\" Batches: \",np.round(accuracy,2),\" %\")\n",
    "            print(\"Train Average Letter Accuracy of \"+str(num_batches)+\" Batches: \",np.round(letter_accuracy,2),\" %\")\n",
    "        else:\n",
    "            print(\"Validation Average Accuracy of \"+str(num_batches)+\" Batches: \",np.round(accuracy,2),\" %\")\n",
    "            print(\"Validation Average Letter Accuracy of \"+str(num_batches)+\" Batches: \",np.round(letter_accuracy,2),\" %\")\n",
    "            \n",
    "        \n",
    "    def on_epoch_end(self, epoch, logs={}):\n",
    "        self.show_accuracy_metrics(self.acc_batches)"
   ]
  },
  {
   "cell_type": "code",
   "execution_count": 134,
   "metadata": {},
   "outputs": [
    {
     "name": "stdout",
     "output_type": "stream",
     "text": [
      "The tensorboard extension is already loaded. To reload it, use:\n",
      "  %reload_ext tensorboard\n"
     ]
    }
   ],
   "source": [
    "%load_ext tensorboard"
   ]
  },
  {
   "cell_type": "code",
   "execution_count": 135,
   "metadata": {},
   "outputs": [],
   "source": [
    "import datetime"
   ]
  },
  {
   "cell_type": "code",
   "execution_count": 136,
   "metadata": {},
   "outputs": [],
   "source": [
    "from keras.callbacks import EarlyStopping,ModelCheckpoint\n",
    "early_stop=EarlyStopping(monitor='val_loss',patience=2,restore_best_weights=True)\n",
    "model_chk_pt=ModelCheckpoint('weights.{epoch:02d}-{val_loss:.2f}.hdf5', monitor='val_loss', save_best_only=False,save_weights_only=True,verbose=0, mode='auto', period=2)\n",
    "logdir = os.path.join(\"logs_127\", datetime.datetime.now().strftime(\"%Y%m%d-%H%M%S\"))\n",
    "tensorboard_callback = keras.callbacks.TensorBoard(log_dir=logdir)"
   ]
  },
  {
   "cell_type": "code",
   "execution_count": 137,
   "metadata": {},
   "outputs": [],
   "source": [
    "# %tensorboard --logdir logs_127"
   ]
  },
  {
   "cell_type": "code",
   "execution_count": 138,
   "metadata": {},
   "outputs": [],
   "source": [
    "viz_cb_train = VizCallback( test_func, train_gene.next_batch(),True,train_num_batches)\n",
    "viz_cb_val = VizCallback( test_func, val_gen.next_batch(),False,val_num_batches)"
   ]
  },
  {
   "cell_type": "code",
   "execution_count": 139,
   "metadata": {},
   "outputs": [],
   "source": [
    "from keras import optimizers\n",
    "adam=optimizers.Adam()"
   ]
  },
  {
   "cell_type": "code",
   "execution_count": 140,
   "metadata": {},
   "outputs": [],
   "source": [
    "img_digit_recog.compile(loss={'ctc': lambda y_true, y_pred: y_pred}, optimizer=adam)"
   ]
  },
  {
   "cell_type": "code",
   "execution_count": 141,
   "metadata": {},
   "outputs": [
    {
     "name": "stdout",
     "output_type": "stream",
     "text": [
      "Epoch 1/20\n"
     ]
    },
    {
     "name": "stderr",
     "output_type": "stream",
     "text": [
      "C:\\Users\\rajab\\AppData\\Roaming\\Python\\Python310\\site-packages\\keras\\src\\engine\\functional.py:639: UserWarning: Input dict contained keys ['source_str'] which did not match any model input. They will be ignored by the model.\n",
      "  inputs = self._flatten_to_reference_inputs(inputs)\n"
     ]
    },
    {
     "name": "stdout",
     "output_type": "stream",
     "text": [
      " 41/156 [======>.......................] - ETA: 12:28 - loss: 14.8805"
     ]
    },
    {
     "ename": "KeyboardInterrupt",
     "evalue": "",
     "output_type": "error",
     "traceback": [
      "\u001b[1;31m---------------------------------------------------------------------------\u001b[0m",
      "\u001b[1;31mKeyboardInterrupt\u001b[0m                         Traceback (most recent call last)",
      "Cell \u001b[1;32mIn[141], line 1\u001b[0m\n\u001b[1;32m----> 1\u001b[0m history \u001b[39m=\u001b[39m img_digit_recog\u001b[39m.\u001b[39;49mfit(\n\u001b[0;32m      2\u001b[0m     train_gene\u001b[39m.\u001b[39;49mnext_batch(),\n\u001b[0;32m      3\u001b[0m     steps_per_epoch\u001b[39m=\u001b[39;49m\u001b[39mint\u001b[39;49m(train_gene\u001b[39m.\u001b[39;49mn \u001b[39m/\u001b[39;49m batch_size),\n\u001b[0;32m      4\u001b[0m     epochs\u001b[39m=\u001b[39;49m\u001b[39m20\u001b[39;49m,\n\u001b[0;32m      5\u001b[0m     \u001b[39m#callbacks=[viz_cb_train, viz_cb_val, train_gene, val_gen, tensorboard_callback, early_stop, model_chk_pt],\u001b[39;49;00m\n\u001b[0;32m      6\u001b[0m     validation_data\u001b[39m=\u001b[39;49mval_gen\u001b[39m.\u001b[39;49mnext_batch(),\n\u001b[0;32m      7\u001b[0m     validation_steps\u001b[39m=\u001b[39;49m\u001b[39mint\u001b[39;49m(val_gen\u001b[39m.\u001b[39;49mn \u001b[39m/\u001b[39;49m batch_size)\n\u001b[0;32m      8\u001b[0m )\n",
      "File \u001b[1;32m~\\AppData\\Roaming\\Python\\Python310\\site-packages\\keras\\src\\utils\\traceback_utils.py:65\u001b[0m, in \u001b[0;36mfilter_traceback.<locals>.error_handler\u001b[1;34m(*args, **kwargs)\u001b[0m\n\u001b[0;32m     63\u001b[0m filtered_tb \u001b[39m=\u001b[39m \u001b[39mNone\u001b[39;00m\n\u001b[0;32m     64\u001b[0m \u001b[39mtry\u001b[39;00m:\n\u001b[1;32m---> 65\u001b[0m     \u001b[39mreturn\u001b[39;00m fn(\u001b[39m*\u001b[39margs, \u001b[39m*\u001b[39m\u001b[39m*\u001b[39mkwargs)\n\u001b[0;32m     66\u001b[0m \u001b[39mexcept\u001b[39;00m \u001b[39mException\u001b[39;00m \u001b[39mas\u001b[39;00m e:\n\u001b[0;32m     67\u001b[0m     filtered_tb \u001b[39m=\u001b[39m _process_traceback_frames(e\u001b[39m.\u001b[39m__traceback__)\n",
      "File \u001b[1;32m~\\AppData\\Roaming\\Python\\Python310\\site-packages\\keras\\src\\engine\\training.py:1742\u001b[0m, in \u001b[0;36mModel.fit\u001b[1;34m(self, x, y, batch_size, epochs, verbose, callbacks, validation_split, validation_data, shuffle, class_weight, sample_weight, initial_epoch, steps_per_epoch, validation_steps, validation_batch_size, validation_freq, max_queue_size, workers, use_multiprocessing)\u001b[0m\n\u001b[0;32m   1734\u001b[0m \u001b[39mwith\u001b[39;00m tf\u001b[39m.\u001b[39mprofiler\u001b[39m.\u001b[39mexperimental\u001b[39m.\u001b[39mTrace(\n\u001b[0;32m   1735\u001b[0m     \u001b[39m\"\u001b[39m\u001b[39mtrain\u001b[39m\u001b[39m\"\u001b[39m,\n\u001b[0;32m   1736\u001b[0m     epoch_num\u001b[39m=\u001b[39mepoch,\n\u001b[1;32m   (...)\u001b[0m\n\u001b[0;32m   1739\u001b[0m     _r\u001b[39m=\u001b[39m\u001b[39m1\u001b[39m,\n\u001b[0;32m   1740\u001b[0m ):\n\u001b[0;32m   1741\u001b[0m     callbacks\u001b[39m.\u001b[39mon_train_batch_begin(step)\n\u001b[1;32m-> 1742\u001b[0m     tmp_logs \u001b[39m=\u001b[39m \u001b[39mself\u001b[39;49m\u001b[39m.\u001b[39;49mtrain_function(iterator)\n\u001b[0;32m   1743\u001b[0m     \u001b[39mif\u001b[39;00m data_handler\u001b[39m.\u001b[39mshould_sync:\n\u001b[0;32m   1744\u001b[0m         context\u001b[39m.\u001b[39masync_wait()\n",
      "File \u001b[1;32m~\\AppData\\Roaming\\Python\\Python310\\site-packages\\tensorflow\\python\\util\\traceback_utils.py:150\u001b[0m, in \u001b[0;36mfilter_traceback.<locals>.error_handler\u001b[1;34m(*args, **kwargs)\u001b[0m\n\u001b[0;32m    148\u001b[0m filtered_tb \u001b[39m=\u001b[39m \u001b[39mNone\u001b[39;00m\n\u001b[0;32m    149\u001b[0m \u001b[39mtry\u001b[39;00m:\n\u001b[1;32m--> 150\u001b[0m   \u001b[39mreturn\u001b[39;00m fn(\u001b[39m*\u001b[39margs, \u001b[39m*\u001b[39m\u001b[39m*\u001b[39mkwargs)\n\u001b[0;32m    151\u001b[0m \u001b[39mexcept\u001b[39;00m \u001b[39mException\u001b[39;00m \u001b[39mas\u001b[39;00m e:\n\u001b[0;32m    152\u001b[0m   filtered_tb \u001b[39m=\u001b[39m _process_traceback_frames(e\u001b[39m.\u001b[39m__traceback__)\n",
      "File \u001b[1;32m~\\AppData\\Roaming\\Python\\Python310\\site-packages\\tensorflow\\python\\eager\\polymorphic_function\\polymorphic_function.py:825\u001b[0m, in \u001b[0;36mFunction.__call__\u001b[1;34m(self, *args, **kwds)\u001b[0m\n\u001b[0;32m    822\u001b[0m compiler \u001b[39m=\u001b[39m \u001b[39m\"\u001b[39m\u001b[39mxla\u001b[39m\u001b[39m\"\u001b[39m \u001b[39mif\u001b[39;00m \u001b[39mself\u001b[39m\u001b[39m.\u001b[39m_jit_compile \u001b[39melse\u001b[39;00m \u001b[39m\"\u001b[39m\u001b[39mnonXla\u001b[39m\u001b[39m\"\u001b[39m\n\u001b[0;32m    824\u001b[0m \u001b[39mwith\u001b[39;00m OptionalXlaContext(\u001b[39mself\u001b[39m\u001b[39m.\u001b[39m_jit_compile):\n\u001b[1;32m--> 825\u001b[0m   result \u001b[39m=\u001b[39m \u001b[39mself\u001b[39m\u001b[39m.\u001b[39m_call(\u001b[39m*\u001b[39margs, \u001b[39m*\u001b[39m\u001b[39m*\u001b[39mkwds)\n\u001b[0;32m    827\u001b[0m new_tracing_count \u001b[39m=\u001b[39m \u001b[39mself\u001b[39m\u001b[39m.\u001b[39mexperimental_get_tracing_count()\n\u001b[0;32m    828\u001b[0m without_tracing \u001b[39m=\u001b[39m (tracing_count \u001b[39m==\u001b[39m new_tracing_count)\n",
      "File \u001b[1;32m~\\AppData\\Roaming\\Python\\Python310\\site-packages\\tensorflow\\python\\eager\\polymorphic_function\\polymorphic_function.py:857\u001b[0m, in \u001b[0;36mFunction._call\u001b[1;34m(self, *args, **kwds)\u001b[0m\n\u001b[0;32m    854\u001b[0m   \u001b[39mself\u001b[39m\u001b[39m.\u001b[39m_lock\u001b[39m.\u001b[39mrelease()\n\u001b[0;32m    855\u001b[0m   \u001b[39m# In this case we have created variables on the first call, so we run the\u001b[39;00m\n\u001b[0;32m    856\u001b[0m   \u001b[39m# defunned version which is guaranteed to never create variables.\u001b[39;00m\n\u001b[1;32m--> 857\u001b[0m   \u001b[39mreturn\u001b[39;00m \u001b[39mself\u001b[39m\u001b[39m.\u001b[39m_no_variable_creation_fn(\u001b[39m*\u001b[39margs, \u001b[39m*\u001b[39m\u001b[39m*\u001b[39mkwds)  \u001b[39m# pylint: disable=not-callable\u001b[39;00m\n\u001b[0;32m    858\u001b[0m \u001b[39melif\u001b[39;00m \u001b[39mself\u001b[39m\u001b[39m.\u001b[39m_variable_creation_fn \u001b[39mis\u001b[39;00m \u001b[39mnot\u001b[39;00m \u001b[39mNone\u001b[39;00m:\n\u001b[0;32m    859\u001b[0m   \u001b[39m# Release the lock early so that multiple threads can perform the call\u001b[39;00m\n\u001b[0;32m    860\u001b[0m   \u001b[39m# in parallel.\u001b[39;00m\n\u001b[0;32m    861\u001b[0m   \u001b[39mself\u001b[39m\u001b[39m.\u001b[39m_lock\u001b[39m.\u001b[39mrelease()\n",
      "File \u001b[1;32m~\\AppData\\Roaming\\Python\\Python310\\site-packages\\tensorflow\\python\\eager\\polymorphic_function\\tracing_compiler.py:148\u001b[0m, in \u001b[0;36mTracingCompiler.__call__\u001b[1;34m(self, *args, **kwargs)\u001b[0m\n\u001b[0;32m    145\u001b[0m \u001b[39mwith\u001b[39;00m \u001b[39mself\u001b[39m\u001b[39m.\u001b[39m_lock:\n\u001b[0;32m    146\u001b[0m   (concrete_function,\n\u001b[0;32m    147\u001b[0m    filtered_flat_args) \u001b[39m=\u001b[39m \u001b[39mself\u001b[39m\u001b[39m.\u001b[39m_maybe_define_function(args, kwargs)\n\u001b[1;32m--> 148\u001b[0m \u001b[39mreturn\u001b[39;00m concrete_function\u001b[39m.\u001b[39;49m_call_flat(\n\u001b[0;32m    149\u001b[0m     filtered_flat_args, captured_inputs\u001b[39m=\u001b[39;49mconcrete_function\u001b[39m.\u001b[39;49mcaptured_inputs)\n",
      "File \u001b[1;32m~\\AppData\\Roaming\\Python\\Python310\\site-packages\\tensorflow\\python\\eager\\polymorphic_function\\monomorphic_function.py:1349\u001b[0m, in \u001b[0;36mConcreteFunction._call_flat\u001b[1;34m(self, args, captured_inputs)\u001b[0m\n\u001b[0;32m   1345\u001b[0m possible_gradient_type \u001b[39m=\u001b[39m gradients_util\u001b[39m.\u001b[39mPossibleTapeGradientTypes(args)\n\u001b[0;32m   1346\u001b[0m \u001b[39mif\u001b[39;00m (possible_gradient_type \u001b[39m==\u001b[39m gradients_util\u001b[39m.\u001b[39mPOSSIBLE_GRADIENT_TYPES_NONE\n\u001b[0;32m   1347\u001b[0m     \u001b[39mand\u001b[39;00m executing_eagerly):\n\u001b[0;32m   1348\u001b[0m   \u001b[39m# No tape is watching; skip to running the function.\u001b[39;00m\n\u001b[1;32m-> 1349\u001b[0m   \u001b[39mreturn\u001b[39;00m \u001b[39mself\u001b[39m\u001b[39m.\u001b[39m_build_call_outputs(\u001b[39mself\u001b[39;49m\u001b[39m.\u001b[39;49m_inference_function(\u001b[39m*\u001b[39;49margs))\n\u001b[0;32m   1350\u001b[0m forward_backward \u001b[39m=\u001b[39m \u001b[39mself\u001b[39m\u001b[39m.\u001b[39m_select_forward_and_backward_functions(\n\u001b[0;32m   1351\u001b[0m     args,\n\u001b[0;32m   1352\u001b[0m     possible_gradient_type,\n\u001b[0;32m   1353\u001b[0m     executing_eagerly)\n\u001b[0;32m   1354\u001b[0m forward_function, args_with_tangents \u001b[39m=\u001b[39m forward_backward\u001b[39m.\u001b[39mforward()\n",
      "File \u001b[1;32m~\\AppData\\Roaming\\Python\\Python310\\site-packages\\tensorflow\\python\\eager\\polymorphic_function\\atomic_function.py:196\u001b[0m, in \u001b[0;36mAtomicFunction.__call__\u001b[1;34m(self, *args)\u001b[0m\n\u001b[0;32m    194\u001b[0m \u001b[39mwith\u001b[39;00m record\u001b[39m.\u001b[39mstop_recording():\n\u001b[0;32m    195\u001b[0m   \u001b[39mif\u001b[39;00m \u001b[39mself\u001b[39m\u001b[39m.\u001b[39m_bound_context\u001b[39m.\u001b[39mexecuting_eagerly():\n\u001b[1;32m--> 196\u001b[0m     outputs \u001b[39m=\u001b[39m \u001b[39mself\u001b[39;49m\u001b[39m.\u001b[39;49m_bound_context\u001b[39m.\u001b[39;49mcall_function(\n\u001b[0;32m    197\u001b[0m         \u001b[39mself\u001b[39;49m\u001b[39m.\u001b[39;49mname,\n\u001b[0;32m    198\u001b[0m         \u001b[39mlist\u001b[39;49m(args),\n\u001b[0;32m    199\u001b[0m         \u001b[39mlen\u001b[39;49m(\u001b[39mself\u001b[39;49m\u001b[39m.\u001b[39;49mfunction_type\u001b[39m.\u001b[39;49mflat_outputs),\n\u001b[0;32m    200\u001b[0m     )\n\u001b[0;32m    201\u001b[0m   \u001b[39melse\u001b[39;00m:\n\u001b[0;32m    202\u001b[0m     outputs \u001b[39m=\u001b[39m make_call_op_in_graph(\u001b[39mself\u001b[39m, \u001b[39mlist\u001b[39m(args))\n",
      "File \u001b[1;32m~\\AppData\\Roaming\\Python\\Python310\\site-packages\\tensorflow\\python\\eager\\context.py:1457\u001b[0m, in \u001b[0;36mContext.call_function\u001b[1;34m(self, name, tensor_inputs, num_outputs)\u001b[0m\n\u001b[0;32m   1455\u001b[0m cancellation_context \u001b[39m=\u001b[39m cancellation\u001b[39m.\u001b[39mcontext()\n\u001b[0;32m   1456\u001b[0m \u001b[39mif\u001b[39;00m cancellation_context \u001b[39mis\u001b[39;00m \u001b[39mNone\u001b[39;00m:\n\u001b[1;32m-> 1457\u001b[0m   outputs \u001b[39m=\u001b[39m execute\u001b[39m.\u001b[39;49mexecute(\n\u001b[0;32m   1458\u001b[0m       name\u001b[39m.\u001b[39;49mdecode(\u001b[39m\"\u001b[39;49m\u001b[39mutf-8\u001b[39;49m\u001b[39m\"\u001b[39;49m),\n\u001b[0;32m   1459\u001b[0m       num_outputs\u001b[39m=\u001b[39;49mnum_outputs,\n\u001b[0;32m   1460\u001b[0m       inputs\u001b[39m=\u001b[39;49mtensor_inputs,\n\u001b[0;32m   1461\u001b[0m       attrs\u001b[39m=\u001b[39;49mattrs,\n\u001b[0;32m   1462\u001b[0m       ctx\u001b[39m=\u001b[39;49m\u001b[39mself\u001b[39;49m,\n\u001b[0;32m   1463\u001b[0m   )\n\u001b[0;32m   1464\u001b[0m \u001b[39melse\u001b[39;00m:\n\u001b[0;32m   1465\u001b[0m   outputs \u001b[39m=\u001b[39m execute\u001b[39m.\u001b[39mexecute_with_cancellation(\n\u001b[0;32m   1466\u001b[0m       name\u001b[39m.\u001b[39mdecode(\u001b[39m\"\u001b[39m\u001b[39mutf-8\u001b[39m\u001b[39m\"\u001b[39m),\n\u001b[0;32m   1467\u001b[0m       num_outputs\u001b[39m=\u001b[39mnum_outputs,\n\u001b[1;32m   (...)\u001b[0m\n\u001b[0;32m   1471\u001b[0m       cancellation_manager\u001b[39m=\u001b[39mcancellation_context,\n\u001b[0;32m   1472\u001b[0m   )\n",
      "File \u001b[1;32m~\\AppData\\Roaming\\Python\\Python310\\site-packages\\tensorflow\\python\\eager\\execute.py:53\u001b[0m, in \u001b[0;36mquick_execute\u001b[1;34m(op_name, num_outputs, inputs, attrs, ctx, name)\u001b[0m\n\u001b[0;32m     51\u001b[0m \u001b[39mtry\u001b[39;00m:\n\u001b[0;32m     52\u001b[0m   ctx\u001b[39m.\u001b[39mensure_initialized()\n\u001b[1;32m---> 53\u001b[0m   tensors \u001b[39m=\u001b[39m pywrap_tfe\u001b[39m.\u001b[39;49mTFE_Py_Execute(ctx\u001b[39m.\u001b[39;49m_handle, device_name, op_name,\n\u001b[0;32m     54\u001b[0m                                       inputs, attrs, num_outputs)\n\u001b[0;32m     55\u001b[0m \u001b[39mexcept\u001b[39;00m core\u001b[39m.\u001b[39m_NotOkStatusException \u001b[39mas\u001b[39;00m e:\n\u001b[0;32m     56\u001b[0m   \u001b[39mif\u001b[39;00m name \u001b[39mis\u001b[39;00m \u001b[39mnot\u001b[39;00m \u001b[39mNone\u001b[39;00m:\n",
      "\u001b[1;31mKeyboardInterrupt\u001b[0m: "
     ]
    }
   ],
   "source": [
    "history = img_digit_recog.fit(\n",
    "    train_gene.next_batch(),\n",
    "    steps_per_epoch=int(train_gene.n / batch_size),\n",
    "    epochs=20,\n",
    "    #callbacks=[viz_cb_train, viz_cb_val, train_gene, val_gen, tensorboard_callback, early_stop, model_chk_pt],\n",
    "    validation_data=val_gen.next_batch(),\n",
    "    validation_steps=int(val_gen.n / batch_size)\n",
    ")\n"
   ]
  },
  {
   "cell_type": "code",
   "execution_count": null,
   "metadata": {},
   "outputs": [],
   "source": []
  }
 ],
 "metadata": {
  "kernelspec": {
   "display_name": "Python 3",
   "language": "python",
   "name": "python3"
  },
  "language_info": {
   "codemirror_mode": {
    "name": "ipython",
    "version": 3
   },
   "file_extension": ".py",
   "mimetype": "text/x-python",
   "name": "python",
   "nbconvert_exporter": "python",
   "pygments_lexer": "ipython3",
   "version": "3.10.4"
  },
  "orig_nbformat": 4
 },
 "nbformat": 4,
 "nbformat_minor": 2
}
